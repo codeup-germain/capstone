{
 "cells": [
  {
   "cell_type": "code",
   "execution_count": 1,
   "id": "5cdf3664",
   "metadata": {},
   "outputs": [],
   "source": [
    "import pandas as pd"
   ]
  },
  {
   "cell_type": "code",
   "execution_count": 2,
   "id": "830cd9f0",
   "metadata": {},
   "outputs": [],
   "source": [
    "df = pd.read_csv(\"match_data_start_3000_end_4000.csv\")\n",
    "df2 = pd.read_csv(\"bryant_games.csv\")\n",
    "df3 = pd.read_csv(\"match_data_start_4000_end_5000.csv\")\n",
    "df4 = pd.read_csv(\"match_data_start_0_end_1000.csv\")\n",
    "df5 = pd.read_csv(\"updated_games_list.csv\")\n",
    "df6 = pd.read_csv(\"match_data_start_23971_end_25628.csv\")"
   ]
  },
  {
   "cell_type": "code",
   "execution_count": 6,
   "id": "3056fa0c",
   "metadata": {},
   "outputs": [
    {
     "data": {
      "text/plain": [
       "((698, 209), (723, 209))"
      ]
     },
     "execution_count": 6,
     "metadata": {},
     "output_type": "execute_result"
    }
   ],
   "source": [
    "df.shape, df2.shape"
   ]
  },
  {
   "cell_type": "code",
   "execution_count": 8,
   "id": "7336c139",
   "metadata": {},
   "outputs": [],
   "source": [
    "df = pd.concat([df, df2], axis=0, ignore_index=True)"
   ]
  },
  {
   "cell_type": "code",
   "execution_count": 13,
   "id": "c83da6de",
   "metadata": {},
   "outputs": [],
   "source": [
    "df = df.drop(columns=[\"Unnamed: 0\"])"
   ]
  },
  {
   "cell_type": "code",
   "execution_count": 15,
   "id": "33b80c44",
   "metadata": {},
   "outputs": [],
   "source": [
    "df = pd.concat([df, df3], axis=0, ignore_index=True)"
   ]
  },
  {
   "cell_type": "code",
   "execution_count": 17,
   "id": "112b81e1",
   "metadata": {},
   "outputs": [],
   "source": [
    "df = pd.concat([df, df4], axis=0, ignore_index=True)"
   ]
  },
  {
   "cell_type": "code",
   "execution_count": 18,
   "id": "28f801a1",
   "metadata": {},
   "outputs": [],
   "source": [
    "df = pd.concat([df, df5], axis=0, ignore_index=True)"
   ]
  },
  {
   "cell_type": "code",
   "execution_count": 19,
   "id": "170a25e8",
   "metadata": {},
   "outputs": [],
   "source": [
    "df = pd.concat([df, df6], axis=0, ignore_index=True)"
   ]
  },
  {
   "cell_type": "code",
   "execution_count": 24,
   "id": "1eab7008",
   "metadata": {},
   "outputs": [
    {
     "data": {
      "text/plain": [
       "4736"
      ]
     },
     "execution_count": 24,
     "metadata": {},
     "output_type": "execute_result"
    }
   ],
   "source": [
    "len(df)"
   ]
  },
  {
   "cell_type": "code",
   "execution_count": 25,
   "id": "a250b721",
   "metadata": {},
   "outputs": [],
   "source": [
    "df.drop_duplicates(inplace = True)"
   ]
  },
  {
   "cell_type": "code",
   "execution_count": 26,
   "id": "602148d6",
   "metadata": {},
   "outputs": [
    {
     "data": {
      "text/plain": [
       "4736"
      ]
     },
     "execution_count": 26,
     "metadata": {},
     "output_type": "execute_result"
    }
   ],
   "source": [
    "len(df)"
   ]
  },
  {
   "cell_type": "code",
   "execution_count": 28,
   "id": "d6c4a3ee",
   "metadata": {},
   "outputs": [],
   "source": [
    "df.to_csv(\".csv\")"
   ]
  },
  {
   "cell_type": "code",
   "execution_count": null,
   "id": "ffb895e0",
   "metadata": {},
   "outputs": [],
   "source": []
  }
 ],
 "metadata": {
  "kernelspec": {
   "display_name": "Python 3",
   "language": "python",
   "name": "python3"
  },
  "language_info": {
   "codemirror_mode": {
    "name": "ipython",
    "version": 3
   },
   "file_extension": ".py",
   "mimetype": "text/x-python",
   "name": "python",
   "nbconvert_exporter": "python",
   "pygments_lexer": "ipython3",
   "version": "3.8.8"
  }
 },
 "nbformat": 4,
 "nbformat_minor": 5
}
