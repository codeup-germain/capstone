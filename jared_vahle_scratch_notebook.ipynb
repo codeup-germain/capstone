{
 "cells": [
  {
   "cell_type": "code",
   "execution_count": 3,
   "id": "d2ecdc2a",
   "metadata": {},
   "outputs": [],
   "source": [
    "import requests\n",
    "import pandas as pd\n",
    "from bs4 import BeautifulSoup\n",
    "from env import api_key\n",
    "\n",
    "pd.set_option(\"display.max_rows\", None, \"display.max_columns\", None)\n",
    "\n",
    "pd.reset_option(\"display.max_rows\", \"display.max_columns\")\n",
    "\n",
    "import re"
   ]
  },
  {
   "cell_type": "code",
   "execution_count": 4,
   "id": "dfd74c8e",
   "metadata": {},
   "outputs": [],
   "source": [
    "response = requests.get(f\"https://na1.api.riotgames.com/lol/summoner/v4/summoners/by-name/battlebud?api_key={api_key}\")"
   ]
  },
  {
   "cell_type": "code",
   "execution_count": 5,
   "id": "d10abecb",
   "metadata": {},
   "outputs": [],
   "source": [
    "battlebud = response.json()"
   ]
  },
  {
   "cell_type": "code",
   "execution_count": 6,
   "id": "3981ac3e",
   "metadata": {},
   "outputs": [
    {
     "data": {
      "text/plain": [
       "{'id': '6e-QE4j96ITeEUyZccBM3UNqEraggI_6isfjsJaWKkqtkhg',\n",
       " 'accountId': 'lPA4yfwESjv_gJKpMeX4_ds_62L52oz_jKFe3P4YdyuV_A',\n",
       " 'puuid': '8w5OLGrYy-YhUvX08ZD6a4sBvBvZuYTXU6UnfYhC1MBNo8rlV4OEODS9bNrqMBVuWirDBYOeMhWW0Q',\n",
       " 'name': 'Battlebud',\n",
       " 'profileIconId': 4404,\n",
       " 'revisionDate': 1635397171000,\n",
       " 'summonerLevel': 315}"
      ]
     },
     "execution_count": 6,
     "metadata": {},
     "output_type": "execute_result"
    }
   ],
   "source": [
    "battlebud"
   ]
  },
  {
   "cell_type": "code",
   "execution_count": 12,
   "id": "a4028789",
   "metadata": {},
   "outputs": [],
   "source": [
    "url = 'https://americas.api.riotgames.com/'\n",
    "\n",
    "query = f'lol/match/v5/matches/by-puuid/8w5OLGrYy-YhUvX08ZD6a4sBvBvZuYTXU6UnfYhC1MBNo8rlV4OEODS9bNrqMBVuWirDBYOeMhWW0Q/ids?start=0&count=20&api_key={api_key}'"
   ]
  },
  {
   "cell_type": "code",
   "execution_count": 13,
   "id": "b0460d8f",
   "metadata": {},
   "outputs": [],
   "source": [
    "response = requests.get(url+query)"
   ]
  },
  {
   "cell_type": "code",
   "execution_count": 14,
   "id": "ff2419c8",
   "metadata": {},
   "outputs": [],
   "source": [
    "match_ids = response.json()"
   ]
  },
  {
   "cell_type": "code",
   "execution_count": 15,
   "id": "f8242da0",
   "metadata": {},
   "outputs": [
    {
     "data": {
      "text/plain": [
       "20"
      ]
     },
     "execution_count": 15,
     "metadata": {},
     "output_type": "execute_result"
    }
   ],
   "source": [
    "len(match_ids)"
   ]
  },
  {
   "cell_type": "code",
   "execution_count": 16,
   "id": "fc4938ee",
   "metadata": {},
   "outputs": [
    {
     "data": {
      "text/plain": [
       "['NA1_4083906028',\n",
       " 'NA1_4083910411',\n",
       " 'NA1_4083561526',\n",
       " 'NA1_4069143161',\n",
       " 'NA1_4069101224',\n",
       " 'NA1_3967840881',\n",
       " 'NA1_3967246118',\n",
       " 'NA1_3966627103',\n",
       " 'NA1_3966602533',\n",
       " 'NA1_3966566502',\n",
       " 'NA1_3966562962',\n",
       " 'NA1_3966404211',\n",
       " 'NA1_3966149816',\n",
       " 'NA1_3965654430',\n",
       " 'NA1_3965611323',\n",
       " 'NA1_3965186467',\n",
       " 'NA1_3965183441',\n",
       " 'NA1_3964851235',\n",
       " 'NA1_3964196435',\n",
       " 'NA1_3963932851']"
      ]
     },
     "execution_count": 16,
     "metadata": {},
     "output_type": "execute_result"
    }
   ],
   "source": [
    "match_ids"
   ]
  },
  {
   "cell_type": "code",
   "execution_count": null,
   "id": "0cfab0ca",
   "metadata": {},
   "outputs": [],
   "source": []
  }
 ],
 "metadata": {
  "kernelspec": {
   "display_name": "Python 3",
   "language": "python",
   "name": "python3"
  },
  "language_info": {
   "codemirror_mode": {
    "name": "ipython",
    "version": 3
   },
   "file_extension": ".py",
   "mimetype": "text/x-python",
   "name": "python",
   "nbconvert_exporter": "python",
   "pygments_lexer": "ipython3",
   "version": "3.8.8"
  }
 },
 "nbformat": 4,
 "nbformat_minor": 5
}
