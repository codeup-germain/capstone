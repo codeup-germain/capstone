{
 "cells": [
  {
   "cell_type": "code",
   "execution_count": 1,
   "id": "80023940",
   "metadata": {},
   "outputs": [],
   "source": [
    "import requests\n",
    "import pandas as pd\n",
    "import numpy as np\n",
    "from bs4 import BeautifulSoup\n",
    "from env import *\n",
    "from time import sleep\n",
    "import prepare\n",
    "\n",
    "pd.set_option(\"display.max_rows\", None, \"display.max_columns\", None)\n",
    "\n",
    "pd.reset_option(\"display.max_rows\", \"display.max_columns\")\n",
    "\n",
    "import re"
   ]
  },
  {
   "cell_type": "code",
   "execution_count": 2,
   "id": "7a6faa66",
   "metadata": {},
   "outputs": [],
   "source": [
    "# names = pd.read_csv('more_players.csv')"
   ]
  },
  {
   "cell_type": "code",
   "execution_count": 3,
   "id": "90fc3348",
   "metadata": {},
   "outputs": [],
   "source": [
    "# names = names [['players']]"
   ]
  },
  {
   "cell_type": "code",
   "execution_count": 4,
   "id": "4725c92b",
   "metadata": {},
   "outputs": [],
   "source": [
    "# names"
   ]
  },
  {
   "cell_type": "code",
   "execution_count": 5,
   "id": "c88f9cad",
   "metadata": {
    "scrolled": true
   },
   "outputs": [],
   "source": [
    "# names[names.index==85]"
   ]
  },
  {
   "cell_type": "code",
   "execution_count": 6,
   "id": "9812a1aa",
   "metadata": {},
   "outputs": [],
   "source": [
    "# names"
   ]
  },
  {
   "cell_type": "code",
   "execution_count": 7,
   "id": "ac830811",
   "metadata": {},
   "outputs": [],
   "source": [
    "def get_puuid(name_list):\n",
    "    puuid_list = []\n",
    "    counter = 0\n",
    "    for name in name_list:\n",
    "        print(counter)\n",
    "        counter += 1\n",
    "        if counter%50 == 0:\n",
    "            print('function paused')\n",
    "            print\n",
    "            time.sleep(180)\n",
    "            print('Continue')\n",
    "            response = requests.get(f\"https://na1.api.riotgames.com/lol/summoner/v4/summoners/by-name/{name}?api_key={api_key}\")\n",
    "            summoner_info = response.json()\n",
    "            puuid_list.append(summoner_info)\n",
    "        else:\n",
    "            response = requests.get(f\"https://na1.api.riotgames.com/lol/summoner/v4/summoners/by-name/{name}?api_key={api_key}\")\n",
    "            summoner_info = response.json()\n",
    "            puuid_list.append(summoner_info)\n",
    "    return puuid_list"
   ]
  },
  {
   "cell_type": "code",
   "execution_count": 8,
   "id": "c437f9be",
   "metadata": {
    "scrolled": true
   },
   "outputs": [],
   "source": [
    "# puuid_list = get_puuid(names.players)"
   ]
  },
  {
   "cell_type": "code",
   "execution_count": 9,
   "id": "64b02cea",
   "metadata": {},
   "outputs": [],
   "source": [
    "# puuid_list"
   ]
  },
  {
   "cell_type": "code",
   "execution_count": 10,
   "id": "df01da5c",
   "metadata": {},
   "outputs": [],
   "source": [
    "# puuid_df = pd.DataFrame(puuid_list)"
   ]
  },
  {
   "cell_type": "code",
   "execution_count": 11,
   "id": "ae1c4ac7",
   "metadata": {},
   "outputs": [],
   "source": [
    "# puuid_df.drop(columns = 'status', inplace=True)"
   ]
  },
  {
   "cell_type": "code",
   "execution_count": 12,
   "id": "d111fe39",
   "metadata": {},
   "outputs": [],
   "source": [
    "# puuid_df.dropna(inplace=True)"
   ]
  },
  {
   "cell_type": "code",
   "execution_count": 13,
   "id": "d38f9690",
   "metadata": {},
   "outputs": [],
   "source": [
    "# puuid_df.to_csv('puuid.csv',index=False)"
   ]
  },
  {
   "cell_type": "code",
   "execution_count": 14,
   "id": "64e07d2f",
   "metadata": {},
   "outputs": [],
   "source": [
    "# puuid = puuid_df[['puuid']]"
   ]
  },
  {
   "cell_type": "code",
   "execution_count": 15,
   "id": "f8c06b1b",
   "metadata": {},
   "outputs": [],
   "source": [
    "#match_ids = pd.read_csv('match_ids.csv')"
   ]
  },
  {
   "cell_type": "code",
   "execution_count": 16,
   "id": "41efe304",
   "metadata": {},
   "outputs": [],
   "source": [
    "#match_ids = list(match_ids['0'])[1000:2000]"
   ]
  },
  {
   "cell_type": "code",
   "execution_count": 17,
   "id": "58a4457d",
   "metadata": {},
   "outputs": [],
   "source": [
    "# df = get_match_info(match_ids, api_key, username, time=20)"
   ]
  },
  {
   "cell_type": "code",
   "execution_count": 18,
   "id": "9b631016",
   "metadata": {},
   "outputs": [],
   "source": [
    "#other_game_data = pd.read_json('other_game_data_bryant.json')"
   ]
  },
  {
   "cell_type": "code",
   "execution_count": 19,
   "id": "ca8d6bd5",
   "metadata": {},
   "outputs": [],
   "source": [
    "#timeline_data = pd.read_json('timeline_data_bryant.json')"
   ]
  },
  {
   "cell_type": "code",
   "execution_count": 20,
   "id": "057f8b49",
   "metadata": {},
   "outputs": [],
   "source": [
    "#timeline_list = timeline_data.to_dict(orient = 'records')"
   ]
  },
  {
   "cell_type": "code",
   "execution_count": 21,
   "id": "9a03b4dc",
   "metadata": {},
   "outputs": [],
   "source": [
    "#other_game_list = other_game_data.to_dict(orient = 'records')"
   ]
  },
  {
   "cell_type": "code",
   "execution_count": 22,
   "id": "33950b6b",
   "metadata": {
    "scrolled": true
   },
   "outputs": [],
   "source": [
    "# df = prepare(timeline_list, other_game_list, time=20)"
   ]
  },
  {
   "cell_type": "code",
   "execution_count": 23,
   "id": "22a892e6",
   "metadata": {},
   "outputs": [],
   "source": [
    "# df.head()"
   ]
  },
  {
   "cell_type": "code",
   "execution_count": 24,
   "id": "d96516a4",
   "metadata": {},
   "outputs": [],
   "source": [
    "# df.size"
   ]
  },
  {
   "cell_type": "code",
   "execution_count": 25,
   "id": "aa93d431",
   "metadata": {},
   "outputs": [],
   "source": [
    "# df.shape"
   ]
  },
  {
   "cell_type": "code",
   "execution_count": 26,
   "id": "dd0fc720",
   "metadata": {
    "scrolled": false
   },
   "outputs": [],
   "source": [
    "# df.columns"
   ]
  },
  {
   "cell_type": "code",
   "execution_count": 27,
   "id": "c79d1b0e",
   "metadata": {},
   "outputs": [],
   "source": [
    "# df.to_csv('bryant_games.csv')"
   ]
  },
  {
   "cell_type": "code",
   "execution_count": 28,
   "id": "0d6d3d73",
   "metadata": {},
   "outputs": [],
   "source": [
    "# df.winningTeam.value_counts()"
   ]
  },
  {
   "cell_type": "code",
   "execution_count": 29,
   "id": "37ced8b4",
   "metadata": {},
   "outputs": [],
   "source": [
    "#Load the match_ids.csv file\n",
    "#matches_df = pd.read_csv('match_ids.csv')\n",
    "#matches_df"
   ]
  },
  {
   "cell_type": "code",
   "execution_count": 30,
   "id": "c95bc2e9",
   "metadata": {},
   "outputs": [],
   "source": [
    "#Set up the match id list. You only need to uncomment the line following your name\n",
    "\n",
    "#match_ids = list(matches_df['0'])[10_657:17_314]"
   ]
  },
  {
   "cell_type": "code",
   "execution_count": 31,
   "id": "bfc1f5b2",
   "metadata": {},
   "outputs": [],
   "source": [
    "#Set up your username. You only need to uncomment the line following your name.\n",
    "#Again, this username is only for naming the json files.\n",
    "\n",
    "#Joshua Bryant\n",
    "username = 'bryant'"
   ]
  },
  {
   "cell_type": "code",
   "execution_count": 32,
   "id": "d0c21a88",
   "metadata": {},
   "outputs": [],
   "source": [
    "def get_match_info(match_ids, api_key, username, time = 20):\n",
    "    \"\"\"\n",
    "    This function takes in a list of match ids and iterates through them. For each iteration,\n",
    "    it will make two api calls and retrieve the necessary information for our project.\n",
    "    \n",
    "    Two json lists will be created, and once all the info has been gathered for each match id,\n",
    "    this function will save both json lists for future reference. \n",
    "    \n",
    "    This function also takes in a username string. This will be used for naming the saved files.\n",
    "    \n",
    "    Finally, this function will funnel the resulting json lists into a prepare function and\n",
    "    return a complete df.\n",
    "    \n",
    "    The time parameter is used in the prepare function that will be called at the end\n",
    "    and represents the timeframe of the data we want to gather and prepare.\n",
    "    The default value is 20 for the 20 minute mark of the match.\n",
    "    \n",
    "    \"\"\"\n",
    "    \n",
    "    #Create an empty list to store the timeline json data\n",
    "    timeline_data = []\n",
    "    \n",
    "    #Create an empty list to store the other json data\n",
    "    game_data = []\n",
    "    \n",
    "    #Set up main url\n",
    "    url = 'https://americas.api.riotgames.com/'\n",
    "    \n",
    "    #Create a count var\n",
    "    n = 0\n",
    "    \n",
    "    #Store the length of the match_ids list in a var\n",
    "    match_count = len(match_ids)\n",
    "    \n",
    "    #Loop through each match_id\n",
    "    for match in match_ids:\n",
    "        #Update the count var\n",
    "        n += 1\n",
    "        \n",
    "        #After every 50 match ids (100 total requests), wait 150 seconds (2.5 minutes)\n",
    "        if n % 50 == 0:\n",
    "            print(f'Completed {n} of {match_count} match IDs.')\n",
    "            print(f'Waiting 150 seconds...\\n')\n",
    "            \n",
    "            #Sleep 150 seconds\n",
    "            sleep(150)\n",
    "            \n",
    "            print('Continuing!\\n')\n",
    "        \n",
    "        ############################# TIMELINE DATA #######################\n",
    "        #Set up timeline url\n",
    "        timeline_query = f'lol/match/v5/matches/{match}/timeline/?api_key={api_key}'\n",
    "        \n",
    "        #Grab timeline json data\n",
    "        timeline_response = requests.get(url + timeline_query)\n",
    "        \n",
    "        #Check response and leave a status message\n",
    "        if timeline_response.status_code != 200:\n",
    "            print(f'Something went wrong getting TIMELINE DATA! Status Code {timeline_response.status_code} for match ID: {match}.')\n",
    "            print(f'Skipping this match ID.\\n')\n",
    "            continue\n",
    "\n",
    "        #Turn it into json format\n",
    "        timeline_json = timeline_response.json()\n",
    "        \n",
    "        #Append this data to the timeline_data list\n",
    "        timeline_data.append(timeline_json)\n",
    "        \n",
    "        ############################# OTHER GAME DATA #######################\n",
    "        #Set up game data url\n",
    "        game_query = f'lol/match/v5/matches/{match}?api_key={api_key}'\n",
    "        \n",
    "        #Grab game json data\n",
    "        game_response = requests.get(url + game_query)\n",
    "        \n",
    "        #Check response and leave a status message.\n",
    "        if game_response.status_code != 200:\n",
    "            print(f'Something went wrong getting OTHER GAME DATA! Status Code {game_response.status_code} for match ID: {match}.')\n",
    "            print(f'Skipping this match ID and REMOVING PREVIOUS TIMELINE ENTRY.\\n')\n",
    "            \n",
    "            #Remove the last entry in the timeline_data list\n",
    "            timeline_data.pop()\n",
    "            continue\n",
    "        \n",
    "        #Turn it into json format\n",
    "        game_json = game_response.json()\n",
    "        \n",
    "        #Append this data to the game_data list\n",
    "        game_data.append(game_json)\n",
    "        \n",
    "    ################################## END LOOP ##############################\n",
    "    \n",
    "    #Now that all of the json data has been gathered, save each file for future reference\n",
    "    \n",
    "    #Save timeline data.\n",
    "    #First, convert it to a df\n",
    "    timeline_df = pd.DataFrame(timeline_data)\n",
    "    \n",
    "    #Save as csv file. Use username string to identify whose file it is\n",
    "    timeline_df.to_json(f'timeline_data_{username}.json')\n",
    "    \n",
    "    #Print status message\n",
    "    print(f'Created timeline_data_{username}.json')\n",
    "    \n",
    "    #Save other game data\n",
    "    #First, convert it to a df\n",
    "    game_df = pd.DataFrame(game_data)\n",
    "    \n",
    "    #Save as csv file. Use username string to identify whose file it is\n",
    "    game_df.to_json(f'other_game_data_{username}.json')\n",
    "    \n",
    "    #Print status message\n",
    "    print(f'Created other_game_data_{username}.json\\n')\n",
    "    \n",
    "    ################################ PREPARE DATA #########################\n",
    "    \n",
    "    #The following section will funnel the data into the prepare function\n",
    "    #Written by Joshua C.\n",
    "    \n",
    "    #Leave a status message\n",
    "    print('Preparing the data...\\n')\n",
    "    \n",
    "    #Begin preparing the data\n",
    "    df = prepare.prepare(timeline_data, game_data, time)\n",
    "    \n",
    "    #Finally, return the prepared df\n",
    "    return df"
   ]
  },
  {
   "cell_type": "code",
   "execution_count": 33,
   "id": "ecddf2fc",
   "metadata": {},
   "outputs": [],
   "source": [
    "#Before calling the get_match_info function, separate the match_ids list into smaller batches\n",
    "#match_batch_1 = match_ids[:1000]\n",
    "#match_batch_2 = match_ids[1000: 2000]\n",
    "#match_batch_3 = match_ids[2000: 3000]\n",
    "#match_batch_4 = match_ids[3000: 4000]\n",
    "#match_batch_5 = match_ids[4000: 5000]\n",
    "#match_batch_6 = match_ids[5000: 6000]\n",
    "#match_batch_7 = match_ids[6000: 6657]"
   ]
  },
  {
   "cell_type": "code",
   "execution_count": 34,
   "id": "98220c82",
   "metadata": {},
   "outputs": [],
   "source": [
    "#Since I will be running this function in smaller batches, I will have to update the username\n",
    "#after each iteration. This will allow me to keep track of which json files contain what data\n",
    "\n",
    "#For first iteration\n",
    "#username = 'start_10_657_end_11_657'\n",
    "\n",
    "#Call the get_match_info function\n",
    "#df1 = get_match_info(match_batch_1, api_key, username)"
   ]
  },
  {
   "cell_type": "code",
   "execution_count": 35,
   "id": "a4d095c8",
   "metadata": {},
   "outputs": [],
   "source": [
    "#jsonList = pd.read_json('timeline_data_start_10_657_end_11_657.json')\n",
    "#jsonList2 = pd.read_json('other_game_data_start_10_657_end_11_657.json')\n",
    "#t = 20"
   ]
  },
  {
   "cell_type": "code",
   "execution_count": 36,
   "id": "1aab1e0b",
   "metadata": {},
   "outputs": [],
   "source": [
    "#jsonList = jsonList.to_dict(orient='records')\n",
    "#jsonList2 = jsonList2.to_dict(orient='records')"
   ]
  },
  {
   "cell_type": "code",
   "execution_count": 37,
   "id": "eb140541",
   "metadata": {},
   "outputs": [],
   "source": [
    "#df = prepare.prepare(jsonList, jsonList2, t)"
   ]
  },
  {
   "cell_type": "code",
   "execution_count": 38,
   "id": "25258402",
   "metadata": {},
   "outputs": [],
   "source": [
    "#df.to_csv('bryant_start_10_657_end_11_657.csv')"
   ]
  },
  {
   "cell_type": "code",
   "execution_count": 39,
   "id": "483df374",
   "metadata": {},
   "outputs": [],
   "source": [
    "#For second iteration\n",
    "#username = 'start_11_657_end_12_657'\n",
    "\n",
    "#Call the get_match_info function\n",
    "#df2 = get_match_info(match_batch_2, api_key, username)"
   ]
  },
  {
   "cell_type": "code",
   "execution_count": 40,
   "id": "af52b32b",
   "metadata": {},
   "outputs": [],
   "source": [
    "#df2.to_csv('bryant_start_11_657_end_12_657')"
   ]
  },
  {
   "cell_type": "code",
   "execution_count": 41,
   "id": "045073a6",
   "metadata": {},
   "outputs": [],
   "source": [
    "#For third iteration\n",
    "#username = 'start_12_657_end_13_657'\n",
    "\n",
    "#Call the get_match_info function\n",
    "#df3 = get_match_info(match_batch_3, api_key, username)"
   ]
  },
  {
   "cell_type": "code",
   "execution_count": 42,
   "id": "4dabc0b0",
   "metadata": {},
   "outputs": [],
   "source": [
    "#df3.to_csv('bryant_start_12_657_end_13_657')"
   ]
  },
  {
   "cell_type": "code",
   "execution_count": 43,
   "id": "fc4215fa",
   "metadata": {},
   "outputs": [],
   "source": [
    "#For the fourth iteration\n",
    "#username = 'start_13_657_end_14_657'\n",
    "\n",
    "#Call the get_match_info function\n",
    "#df4 = get_match_info(match_batch_4, api_key, username)"
   ]
  },
  {
   "cell_type": "code",
   "execution_count": 44,
   "id": "710d8406",
   "metadata": {},
   "outputs": [],
   "source": [
    "#df4.to_csv('bryant_start_13_657_end_14_657')"
   ]
  },
  {
   "cell_type": "code",
   "execution_count": 45,
   "id": "a229e19b",
   "metadata": {
    "scrolled": true
   },
   "outputs": [],
   "source": [
    "#For the fifth iteration\n",
    "#username = 'start_14_657_end_15_657'\n",
    "\n",
    "#Call the get_match_info function\n",
    "#df5 = get_match_info(match_batch_5, api_key, username)"
   ]
  },
  {
   "cell_type": "code",
   "execution_count": 46,
   "id": "bac9ade3",
   "metadata": {},
   "outputs": [],
   "source": [
    "#df5.to_csv('bryant_start_14_657_end_15_657')"
   ]
  },
  {
   "cell_type": "code",
   "execution_count": 47,
   "id": "11a7af6d",
   "metadata": {},
   "outputs": [],
   "source": [
    "#For the sixth iteration\n",
    "#username = 'start_15_657_end_16_657'\n",
    "\n",
    "#Call the get_match_info function\n",
    "#df6 = get_match_info(match_batch_6, api_key, username)"
   ]
  },
  {
   "cell_type": "code",
   "execution_count": 48,
   "id": "89822245",
   "metadata": {},
   "outputs": [],
   "source": [
    "#df6.to_csv('bryant_start_15_657_end_16_657')"
   ]
  },
  {
   "cell_type": "code",
   "execution_count": 49,
   "id": "51d57e53",
   "metadata": {},
   "outputs": [],
   "source": [
    "#For the 7th iteration\n",
    "#username = 'start_16_657_end_17_314'\n",
    "\n",
    "#Call the get_match_info function\n",
    "#df7 = get_match_info(match_batch_7, api_key, username)"
   ]
  },
  {
   "cell_type": "code",
   "execution_count": 50,
   "id": "7ee9160b",
   "metadata": {},
   "outputs": [],
   "source": [
    "#df7.to_csv('bryant_start_16_657_end_17_314')"
   ]
  },
  {
   "cell_type": "code",
   "execution_count": 51,
   "id": "a0487104",
   "metadata": {},
   "outputs": [],
   "source": [
    "#df = pd.read_csv('bryant_start_10_657_end_11_657.csv')\n",
    "#df2 = pd.read_csv('bryant_start_11_657_end_12_657.csv')\n",
    "#df3 = pd.read_csv('bryant_start_12_657_end_13_657.csv')\n",
    "#df4 = pd.read_csv('bryant_start_13_657_end_14_657.csv')\n",
    "#df5 = pd.read_csv('bryant_start_14_657_end_15_657.csv')\n",
    "#df6 = pd.read_csv('bryant_start_15_657_end_16_657.csv')"
   ]
  },
  {
   "cell_type": "code",
   "execution_count": 52,
   "id": "431b7bcc",
   "metadata": {},
   "outputs": [],
   "source": [
    "#frames = [df,df2,df3,df4,df5,df6,df7]"
   ]
  },
  {
   "cell_type": "code",
   "execution_count": 53,
   "id": "1456315d",
   "metadata": {},
   "outputs": [],
   "source": [
    "#result = pd.concat(frames)"
   ]
  },
  {
   "cell_type": "code",
   "execution_count": 54,
   "id": "73b93815",
   "metadata": {},
   "outputs": [
    {
     "ename": "NameError",
     "evalue": "name 'result' is not defined",
     "output_type": "error",
     "traceback": [
      "\u001b[0;31m---------------------------------------------------------------------------\u001b[0m",
      "\u001b[0;31mNameError\u001b[0m                                 Traceback (most recent call last)",
      "\u001b[0;32m<ipython-input-54-4a99d8abe300>\u001b[0m in \u001b[0;36m<module>\u001b[0;34m\u001b[0m\n\u001b[0;32m----> 1\u001b[0;31m \u001b[0mresult\u001b[0m\u001b[0;34m.\u001b[0m\u001b[0mshape\u001b[0m\u001b[0;34m\u001b[0m\u001b[0;34m\u001b[0m\u001b[0m\n\u001b[0m",
      "\u001b[0;31mNameError\u001b[0m: name 'result' is not defined"
     ]
    }
   ],
   "source": [
    "# result.shape"
   ]
  },
  {
   "cell_type": "code",
   "execution_count": null,
   "id": "bfd5e5a7",
   "metadata": {},
   "outputs": [],
   "source": [
    "# result.to_csv('bryant_10_657_end_16_657.csv')"
   ]
  },
  {
   "cell_type": "code",
   "execution_count": 55,
   "id": "ca26eea5",
   "metadata": {},
   "outputs": [],
   "source": [
    "name_list = pd.read_csv('5451_players.csv')"
   ]
  },
  {
   "cell_type": "code",
   "execution_count": 56,
   "id": "63ae755a",
   "metadata": {},
   "outputs": [],
   "source": [
    "new_data = name_list[2500:3100]"
   ]
  },
  {
   "cell_type": "code",
   "execution_count": null,
   "id": "8bcf7c05",
   "metadata": {},
   "outputs": [],
   "source": []
  }
 ],
 "metadata": {
  "kernelspec": {
   "display_name": "Python 3",
   "language": "python",
   "name": "python3"
  },
  "language_info": {
   "codemirror_mode": {
    "name": "ipython",
    "version": 3
   },
   "file_extension": ".py",
   "mimetype": "text/x-python",
   "name": "python",
   "nbconvert_exporter": "python",
   "pygments_lexer": "ipython3",
   "version": "3.8.8"
  }
 },
 "nbformat": 4,
 "nbformat_minor": 5
}
