{
 "cells": [
  {
   "cell_type": "code",
   "execution_count": 3,
   "id": "5dc8a86d",
   "metadata": {},
   "outputs": [],
   "source": [
    "import os\n",
    "import pandas as pd\n",
    "import warnings\n",
    "warnings.filterwarnings(\"ignore\")\n",
    "import seaborn as sns\n",
    "import matplotlib.pyplot as plt\n",
    "import numpy as np\n",
    "from scipy import stats\n",
    "from sklearn.impute import SimpleImputer\n",
    "from sklearn.metrics import accuracy_score,precision_score\n",
    "from sklearn.preprocessing import LabelEncoder, OneHotEncoder\n",
    "from wrangle import train_validate_test_split,impute_nulls, split_X_y\n",
    "from explore import explore_univariate, get_lol_heatmap, explore_multivariate, plot_swarm_grid_with_color, plot_violin_grid_with_color\n",
    "from sklearn.model_selection import train_test_split, cross_val_score, GridSearchCV\n",
    "from sklearn.tree import DecisionTreeClassifier, plot_tree, export_text, export_graphviz\n",
    "from sklearn.metrics import classification_report, confusion_matrix, accuracy_score, explained_variance_score\n",
    "from sklearn.ensemble import RandomForestClassifier\n",
    "import statsmodels.api as sm\n",
    "import sklearn.metrics\n",
    "from sklearn.neighbors import KNeighborsClassifier\n",
    "from sklearn.metrics import classification_report\n",
    "from sklearn.linear_model import LogisticRegression\n",
    "from sklearn import svm, naive_bayes\n",
    "import requests\n",
    "from env import api_key\n",
    "import time\n",
    "import pandas as pd\n",
    "from bs4 import BeautifulSoup\n",
    "\n",
    "\n",
    "pd.set_option(\"display.max_rows\", None, \"display.max_columns\", None)\n",
    "\n",
    "pd.reset_option(\"display.max_rows\", \"display.max_columns\")\n"
   ]
  },
  {
   "cell_type": "code",
   "execution_count": null,
   "id": "e50a1f8e",
   "metadata": {},
   "outputs": [],
   "source": [
    "df = pd.read_json('games_0_597.json')"
   ]
  },
  {
   "cell_type": "code",
   "execution_count": null,
   "id": "15862188",
   "metadata": {},
   "outputs": [],
   "source": []
  },
  {
   "cell_type": "code",
   "execution_count": 40,
   "id": "ce037ec1",
   "metadata": {},
   "outputs": [],
   "source": [
    "#Global var\n",
    "summoner_id = f\"https://na1.api.riotgames.com/lol/summoner/v4/summoners/\"\n",
    "def request(name):\n",
    "    time.sleep(1)\n",
    "    print(\"Request Done\")\n",
    "    URL = \"{}by-name/{}?api_key={}\".format(summoner_id,name,api_key)\n",
    "    response = requests.get(URL)\n",
    "    return response.json()\n",
    "#One of the top Lol players right now is called Doublelift\n",
    "# Request yields his info\n",
    "{\n",
    "    \"profileIconId\": 1467,\n",
    "    \"name\": \"Doublelift\",\n",
    "    \"summonerLevel\": 30,\n",
    "    \"accountId\": 32971449,\n",
    "    \"id\": 20132258,\n",
    "    \"revisionDate\": 1492316460000\n",
    "}\n",
    "def main():\n",
    "    player_match_df_list = {}\n",
    "    name = input('Name: ')\n",
    "    raw = request(name)\n",
    "    player_id = (raw[name.lower()]['id'])\n",
    "    # Grabs 20132258 and puts it into match_list function \n",
    "    # which takes the match id and grabs a JSON list of that specific match.   \n",
    "    m_list = match_list(player_id)\n",
    "    return m_list\n",
    "\n",
    "#This yields a list of last 10 games played (This varies between player and Season)"
   ]
  },
  {
   "cell_type": "code",
   "execution_count": 41,
   "id": "fbf53ed3",
   "metadata": {},
   "outputs": [
    {
     "name": "stdout",
     "output_type": "stream",
     "text": [
      "Request Done\n"
     ]
    },
    {
     "data": {
      "text/plain": [
       "{'id': 'YdcHf8EilTrkMtXz-Vobu0NCyGybhTodf41CbWJZbMdA4Lw',\n",
       " 'accountId': 'X1JQJSjxzQbef9kltC11dpPZhOvABNpZ07qCKVEZ0hnhwbo',\n",
       " 'puuid': 'bBNHyIuDAVC1Zu7i1pjyAtjY0Pz5ggOEPr3jxQ6kIS_h2qwxuEIIDd_zbZUTG-5JbDTEEbtr_0VSxA',\n",
       " 'name': 'Draven baka',\n",
       " 'profileIconId': 4099,\n",
       " 'revisionDate': 1636905655000,\n",
       " 'summonerLevel': 710}"
      ]
     },
     "execution_count": 41,
     "metadata": {},
     "output_type": "execute_result"
    }
   ],
   "source": [
    "request(\"Draven baka\")"
   ]
  },
  {
   "cell_type": "code",
   "execution_count": 42,
   "id": "ee8e61fe",
   "metadata": {
    "scrolled": false
   },
   "outputs": [
    {
     "name": "stdout",
     "output_type": "stream",
     "text": [
      "Name: Draven baka\n",
      "Request Done\n"
     ]
    },
    {
     "ename": "KeyError",
     "evalue": "'draven baka'",
     "output_type": "error",
     "traceback": [
      "\u001b[0;31m---------------------------------------------------------------------------\u001b[0m",
      "\u001b[0;31mKeyError\u001b[0m                                  Traceback (most recent call last)",
      "\u001b[0;32m<ipython-input-42-263240bbee7e>\u001b[0m in \u001b[0;36m<module>\u001b[0;34m\u001b[0m\n\u001b[0;32m----> 1\u001b[0;31m \u001b[0mmain\u001b[0m\u001b[0;34m(\u001b[0m\u001b[0;34m)\u001b[0m\u001b[0;34m\u001b[0m\u001b[0;34m\u001b[0m\u001b[0m\n\u001b[0m",
      "\u001b[0;32m<ipython-input-40-3176b0f28769>\u001b[0m in \u001b[0;36mmain\u001b[0;34m()\u001b[0m\n\u001b[1;32m     21\u001b[0m     \u001b[0mname\u001b[0m \u001b[0;34m=\u001b[0m \u001b[0minput\u001b[0m\u001b[0;34m(\u001b[0m\u001b[0;34m'Name: '\u001b[0m\u001b[0;34m)\u001b[0m\u001b[0;34m\u001b[0m\u001b[0;34m\u001b[0m\u001b[0m\n\u001b[1;32m     22\u001b[0m     \u001b[0mraw\u001b[0m \u001b[0;34m=\u001b[0m \u001b[0mrequest\u001b[0m\u001b[0;34m(\u001b[0m\u001b[0mname\u001b[0m\u001b[0;34m)\u001b[0m\u001b[0;34m\u001b[0m\u001b[0;34m\u001b[0m\u001b[0m\n\u001b[0;32m---> 23\u001b[0;31m     \u001b[0mplayer_id\u001b[0m \u001b[0;34m=\u001b[0m \u001b[0;34m(\u001b[0m\u001b[0mraw\u001b[0m\u001b[0;34m[\u001b[0m\u001b[0mname\u001b[0m\u001b[0;34m.\u001b[0m\u001b[0mlower\u001b[0m\u001b[0;34m(\u001b[0m\u001b[0;34m)\u001b[0m\u001b[0;34m]\u001b[0m\u001b[0;34m[\u001b[0m\u001b[0;34m'id'\u001b[0m\u001b[0;34m]\u001b[0m\u001b[0;34m)\u001b[0m\u001b[0;34m\u001b[0m\u001b[0;34m\u001b[0m\u001b[0m\n\u001b[0m\u001b[1;32m     24\u001b[0m     \u001b[0;31m# Grabs 20132258 and puts it into match_list function\u001b[0m\u001b[0;34m\u001b[0m\u001b[0;34m\u001b[0m\u001b[0;34m\u001b[0m\u001b[0m\n\u001b[1;32m     25\u001b[0m     \u001b[0;31m# which takes the match id and grabs a JSON list of that specific match.\u001b[0m\u001b[0;34m\u001b[0m\u001b[0;34m\u001b[0m\u001b[0;34m\u001b[0m\u001b[0m\n",
      "\u001b[0;31mKeyError\u001b[0m: 'draven baka'"
     ]
    }
   ],
   "source": [
    "main()"
   ]
  },
  {
   "cell_type": "code",
   "execution_count": 43,
   "id": "3f1ba9dc",
   "metadata": {},
   "outputs": [],
   "source": [
    "# use puuid in by-puuid request\n",
    "pro_puuid = 'bBNHyIuDAVC1Zu7i1pjyAtjY0Pz5ggOEPr3jxQ6kIS_h2qwxuEIIDd_zbZUTG-5JbDTEEbtr_0VSxA'"
   ]
  },
  {
   "cell_type": "code",
   "execution_count": 44,
   "id": "aa665ad8",
   "metadata": {},
   "outputs": [],
   "source": [
    "# main url\n",
    "url = 'https://americas.api.riotgames.com/'\n",
    "\n",
    "# request query\n",
    "query = f'lol/match/v5/matches/by-puuid/{pro_puuid}/ids?start=200&count=100&api_key={api_key}'\n",
    "\n",
    "# Get request\n",
    "response = requests.get(url+query)"
   ]
  },
  {
   "cell_type": "code",
   "execution_count": 45,
   "id": "7df64c54",
   "metadata": {},
   "outputs": [
    {
     "data": {
      "text/plain": [
       "['NA1_4073566674',\n",
       " 'NA1_4073593996',\n",
       " 'NA1_4072727539',\n",
       " 'NA1_4072706798',\n",
       " 'NA1_4072676185',\n",
       " 'NA1_4072723383',\n",
       " 'NA1_4072673246',\n",
       " 'NA1_4071977590',\n",
       " 'NA1_4071994218',\n",
       " 'NA1_4072011754',\n",
       " 'NA1_4071980464',\n",
       " 'NA1_4071967545',\n",
       " 'NA1_4071906679',\n",
       " 'NA1_4071924914',\n",
       " 'NA1_4071962151',\n",
       " 'NA1_4071911891',\n",
       " 'NA1_4071900592',\n",
       " 'NA1_4071839493',\n",
       " 'NA1_4071877257',\n",
       " 'NA1_4071856394',\n",
       " 'NA1_4071883635',\n",
       " 'NA1_4070576925',\n",
       " 'NA1_4070536318',\n",
       " 'NA1_4070540196',\n",
       " 'NA1_4070045295',\n",
       " 'NA1_4069917005',\n",
       " 'NA1_4069874125',\n",
       " 'NA1_4069662478',\n",
       " 'NA1_4068850375',\n",
       " 'NA1_4068635415',\n",
       " 'NA1_4068651208',\n",
       " 'NA1_4067693772',\n",
       " 'NA1_4067607141',\n",
       " 'NA1_4067562367',\n",
       " 'NA1_4066870915',\n",
       " 'NA1_4066844501',\n",
       " 'NA1_4066790687',\n",
       " 'NA1_4066724876',\n",
       " 'NA1_4066739939',\n",
       " 'NA1_4065790421',\n",
       " 'NA1_4065687954',\n",
       " 'NA1_4065668834',\n",
       " 'NA1_4065623862',\n",
       " 'NA1_4065599776',\n",
       " 'NA1_4065584964',\n",
       " 'NA1_4065549790',\n",
       " 'NA1_4065477632',\n",
       " 'NA1_4065514805',\n",
       " 'NA1_4064778247',\n",
       " 'NA1_4064774013',\n",
       " 'NA1_4064770838',\n",
       " 'NA1_4064716155',\n",
       " 'NA1_4064722128',\n",
       " 'NA1_4064729995',\n",
       " 'NA1_4064626965',\n",
       " 'NA1_4064196874',\n",
       " 'NA1_4064130940',\n",
       " 'NA1_4064095802',\n",
       " 'NA1_4064019701',\n",
       " 'NA1_4064042799',\n",
       " 'NA1_4063928127',\n",
       " 'NA1_4063933716',\n",
       " 'NA1_4063960994',\n",
       " 'NA1_4062999615',\n",
       " 'NA1_4062937017',\n",
       " 'NA1_4062899636',\n",
       " 'NA1_4062923849',\n",
       " 'NA1_4062882176',\n",
       " 'NA1_4062814957',\n",
       " 'NA1_4062752698',\n",
       " 'NA1_4062646480',\n",
       " 'NA1_4062110506',\n",
       " 'NA1_4062083780',\n",
       " 'NA1_4062027632',\n",
       " 'NA1_4061982641',\n",
       " 'NA1_4061906437',\n",
       " 'NA1_4061931187',\n",
       " 'NA1_4061865445',\n",
       " 'NA1_4061851191',\n",
       " 'NA1_4061794817',\n",
       " 'NA1_4061791455',\n",
       " 'NA1_4061737108',\n",
       " 'NA1_4061733731',\n",
       " 'NA1_4060851913',\n",
       " 'NA1_4060808066',\n",
       " 'NA1_4060822625',\n",
       " 'NA1_4060719689',\n",
       " 'NA1_4060724204',\n",
       " 'NA1_4059669102',\n",
       " 'NA1_4058773317',\n",
       " 'NA1_4058749872',\n",
       " 'NA1_4058723488',\n",
       " 'NA1_4058702360',\n",
       " 'NA1_4057873457',\n",
       " 'NA1_4057850864',\n",
       " 'NA1_4057825449',\n",
       " 'NA1_4056932041',\n",
       " 'NA1_4056815891',\n",
       " 'NA1_4056783931',\n",
       " 'NA1_4056811146']"
      ]
     },
     "execution_count": 45,
     "metadata": {},
     "output_type": "execute_result"
    }
   ],
   "source": [
    "# unpack response Returns matchlist\n",
    "response.json()"
   ]
  },
  {
   "cell_type": "code",
   "execution_count": null,
   "id": "1cfbed40",
   "metadata": {},
   "outputs": [],
   "source": []
  },
  {
   "cell_type": "code",
   "execution_count": null,
   "id": "e3a05ffe",
   "metadata": {},
   "outputs": [],
   "source": []
  },
  {
   "cell_type": "code",
   "execution_count": null,
   "id": "a01eed83",
   "metadata": {},
   "outputs": [],
   "source": []
  },
  {
   "cell_type": "code",
   "execution_count": null,
   "id": "5e348a34",
   "metadata": {
    "scrolled": true
   },
   "outputs": [],
   "source": [
    "df"
   ]
  },
  {
   "cell_type": "code",
   "execution_count": null,
   "id": "a3be1c9b",
   "metadata": {
    "scrolled": true
   },
   "outputs": [],
   "source": [
    "df.info()"
   ]
  },
  {
   "cell_type": "code",
   "execution_count": null,
   "id": "8729dec9",
   "metadata": {},
   "outputs": [],
   "source": [
    "df.isna().sum()"
   ]
  },
  {
   "cell_type": "code",
   "execution_count": null,
   "id": "d89f6b98",
   "metadata": {
    "scrolled": true
   },
   "outputs": [],
   "source": [
    "# for champions picks and bans\n",
    "fig, (ax1, ax2) = plt.subplots(ncols=2, sharey=False, figsize=(15,30))\n",
    "plt.xticks(rotation=90)\n",
    "sns.countplot(y=teams, data=data, ax=ax1)\n",
    "sns.countplot(y=sortedBans, data=data, ax=ax2)\n",
    "ax1.set_title('Champion Picks')\n",
    "ax2.set_title('Champion Bans')"
   ]
  },
  {
   "cell_type": "code",
   "execution_count": null,
   "id": "8d38aa2a",
   "metadata": {},
   "outputs": [],
   "source": [
    "# barplot for who chose to be tanks, assassin, mage, etc\n",
    "sns.barplot(x=tagsTotals.index,y=tagsTotals['count'])"
   ]
  },
  {
   "cell_type": "code",
   "execution_count": null,
   "id": "d42824e7",
   "metadata": {},
   "outputs": [],
   "source": [
    "# barplots for the following ideas\n",
    "\n",
    "plotColors = ['#3498DB','#E74C3C','#BDC3C7']\n",
    "firstLabels = ['First Blood','First Tower', 'First Inhibitor', 'First Baron', 'First Dragon', 'First Rift Herald']\n",
    "nrows, ncols = 2,3\n",
    "fig = plt.figure(figsize=(15,10))\n",
    "for i in range(1,7):\n",
    "    ax = fig.add_subplot(nrows,ncols,i)\n",
    "    sns.barplot(x=firstSort.index,y=firstSort[firstSort.columns[i-1]],palette=plotColors)\n",
    "    ax.set_ylabel('Count')\n",
    "    ax.yaxis.set_ticklabels([])\n",
    "    ax.set_title(firstLabels[i-1])"
   ]
  },
  {
   "cell_type": "code",
   "execution_count": null,
   "id": "d9f65a16",
   "metadata": {},
   "outputs": [],
   "source": [
    "# pie chart for the distribution of winner for blue and red\n",
    "\n",
    "sides = ['Blue', 'Red']\n",
    "def count_win_on_side(row):\n",
    "    if (row['winner'] == row['blue']):\n",
    "        return pd.Series([1, 0], sides)\n",
    "    else:\n",
    "        return pd.Series([0, 1], sides)\n",
    "\n",
    "data_sides = df.apply(lambda row: count_win_on_side(row), axis=1).mean()\n",
    "\n",
    "fig, ax = plt.subplots(figsize=(20, 7), subplot_kw=dict(aspect=\"equal\"))\n",
    "\n",
    "colors = ['#51acc6', '#ea96a3']\n",
    "plt.pie(data_sides, colors=colors, labels=sides)\n",
    "\n",
    "ax.set_title('Distribution of the winning percentage by side', pad=20)\n",
    "plt.axis('equal')\n",
    "plt.show()"
   ]
  },
  {
   "cell_type": "code",
   "execution_count": null,
   "id": "fc1adcfd",
   "metadata": {},
   "outputs": [],
   "source": [
    "# Setstyle options\n",
    "sns.set_style('whitegrid')\n",
    "sns.palplot(sns.color_palette('Blues', 20))\n",
    "colors = sns.color_palette('Blues', 20)\n",
    "\n",
    "# Create Figure\n",
    "fig, ax = plt.subplots(2,4, figsize=(16,14))\n",
    "fig.suptitle('Game Length Distribution', x=0.065, y=1.03, fontsize=24, fontweight='bold', \n",
    "             horizontalalignment='left')\n",
    "fig.subplots_adjust(top=0.9)\n",
    "\n",
    "percentiles = np.array([25, 50, 75])\n",
    "ptiles_gl = np.percentile(df['gamelength'], percentiles)\n",
    "\n",
    "# Create Subplots\n",
    "\n",
    "# 1 Box and Whisker\n",
    "p1 = plt.subplot2grid((2,4), (0,0), colspan=1)\n",
    "sns.boxplot(y=df['gamelength'], color=colors[14])\n",
    "# Swarm plot adds no value here, ignore below\n",
    "# sns.swarmplot(y=df['gamelength'], color=colors[2])\n",
    "plt.yticks(fontsize=14)\n",
    "plt.xticks(fontsize=14)\n",
    "plt.xlabel('All Games', fontsize=18)\n",
    "plt.ylabel('Minutes', fontsize = 18, fontweight = 'bold')\n",
    "\n",
    "# 2 ECDF Plot\n",
    "p2 = plt.subplot2grid((2,4), (0,1), colspan=3)\n",
    "x = np.sort(df['gamelength'])\n",
    "y = np.arange(1, len(x) + 1) / len(x)\n",
    "plt.plot(x,y, marker='.', linestyle='none', color=colors[16])\n",
    "plt.plot(ptiles_gl, percentiles/100, marker='D', color='red', linestyle='none')\n",
    "\n",
    "# 2 ECDF Formatting (a lot)\n",
    "yvals = p2.get_yticks()\n",
    "p2.set_yticklabels(['{:3.0f}%'.format(y*100) for y in yvals])\n",
    "plt.yticks(fontsize=14)\n",
    "plt.xticks(np.arange(0, 85, 5), fontsize=14)\n",
    "plt.xlabel('Minutes', fontsize=18, fontweight = 'bold')\n",
    "plt.ylabel('ECDF', fontsize=18, fontweight='bold')\n",
    "plt.margins(0.02)\n",
    "\n",
    "plt.annotate('25% of games were 32 minutes or less', xy=(32, .25), xytext=(37, .23), fontsize=18, \n",
    "             arrowprops=dict(facecolor='black'))\n",
    "plt.annotate('50% of games were 37 minutes or less', xy=(37, .5), xytext=(42, .48), \n",
    "             fontsize=18, arrowprops=dict(facecolor='black'))\n",
    "plt.annotate('75% of games were 42 minutes or less', xy=(42, .75), xytext=(47, .73), fontsize=18, \n",
    "             arrowprops=dict(facecolor='black'))\n",
    "\n",
    "# 3 Histogram Count\n",
    "p3 = plt.subplot2grid((2,4), (1,0), colspan=2)\n",
    "plt.hist(x='gamelength', bins=80, data=df, color=colors[14])\n",
    "plt.yticks(fontsize=14)\n",
    "plt.xticks(fontsize=14)\n",
    "plt.xlabel('Minutes', fontweight = 'bold', fontsize = 18)\n",
    "plt.ylabel('Count of All Games', fontsize=18, fontweight='bold')\n",
    "\n",
    "# 3 Histogram Percentage - Second Y Axis for Percent (To DO - align Y2 ytick values to Y1 ytick lines)\n",
    "weights = np.ones_like(df['gamelength']) / len(df['gamelength'])\n",
    "p3 = plt.twinx()\n",
    "plt.hist(x='gamelength', bins=80, weights= weights, data=df, color=colors[14])\n",
    "yvals = p3.get_yticks()\n",
    "p3.set_yticklabels(['{:3.0f}%'.format(y*100) for y in yvals])\n",
    "plt.yticks(fontsize=14)\n",
    "plt.xticks(fontsize=14)\n",
    "p3.grid(b=False)\n",
    "\n",
    "# 4 Distribution Plot across Years\n",
    "p4 = plt.subplot2grid((2,4), (1,2), colspan=2)\n",
    "sns.distplot((df['gamelength'][df['Year']==2014]), hist=False, color='r', label='2014')\n",
    "sns.distplot((df['gamelength'][df['Year']==2015]), hist=False, color='grey', label='2015')\n",
    "sns.distplot((df['gamelength'][df['Year']==2016]), hist=False, color='y', label='2016')\n",
    "sns.distplot((df['gamelength'][df['Year']==2017]), hist=False, color='g', label='2017')\n",
    "sns.distplot((df['gamelength']), hist=False, color='b', label='All Years')\n",
    "\n",
    "# Formatting\n",
    "yvals = p4.get_yticks()\n",
    "p4.set_yticklabels(['{:3.0f}%'.format(y*100) for y in yvals])\n",
    "plt.yticks(fontsize=14)\n",
    "plt.xticks(fontsize=14)\n",
    "plt.ylabel('Percent of All Games\\n', fontsize=18, fontweight='bold')\n",
    "plt.xlabel('Minutes', fontsize = 18, fontweight = 'bold')\n",
    "\n",
    "# Show everything\n",
    "plt.tight_layout()\n",
    "plt.show()"
   ]
  },
  {
   "cell_type": "code",
   "execution_count": null,
   "id": "e49c7e8d",
   "metadata": {},
   "outputs": [],
   "source": [
    "lst_gameID = pd.unique(df['gameID'])\n",
    "games = 4\n",
    "lst_games = list(np.arange(0,games,1))\n",
    "\n",
    "fig, ax = plt.subplots(figsize=(14,16))\n",
    "fig.suptitle('Cumulative Kills by Game', fontsize= 24, fontweight='bold', x=0.04, y=1.02, horizontalalignment='left')\n",
    "fig.subplots_adjust(top=0.85)\n",
    "\n",
    "for g, c in zip(lst_gameID, lst_games):\n",
    "    gameID = lst_gameID[c]\n",
    "    \n",
    "    ax = plt.subplot(games,1,c+1)\n",
    "\n",
    "    df_kills = melt_kills[(melt_kills['gameID']==gameID) & melt_kills['minute_bin'].notnull()]\n",
    "\n",
    "    plt.title('GameID = ' + gameID, fontsize= 14, loc='left')\n",
    "    sns.regplot(x=\"value\", y=\"action_count\", y_jitter=True, data=df_kills[df_kills['win']==True], color=color_win, \n",
    "                label='winning team')\n",
    "    sns.regplot(x=\"value\", y=\"action_count\", y_jitter=True, data=df_kills[df_kills['win']==False], color=color_lose, \n",
    "                label='losing team')\n",
    "    plt.yticks(np.arange(0, 25, 2))\n",
    "    plt.xticks(np.arange(0, 45, 1))\n",
    "    plt.ylabel('Cumulative Kills')\n",
    "    plt.xlabel('Minute')\n",
    "\n",
    "    ax.legend(loc='best')\n",
    "\n",
    "plt.tight_layout()\n",
    "plt.show()"
   ]
  },
  {
   "cell_type": "code",
   "execution_count": null,
   "id": "dc9c3378",
   "metadata": {},
   "outputs": [],
   "source": [
    "df_kills = melt_kills[melt_kills['minute_bin'].notnull()]\n",
    "\n",
    "fig, ax = plt.subplots(figsize=(14,6))\n",
    "fig.suptitle('Cumulative Kills by Team', fontsize= 24, fontweight='bold', x=0.04, y=1.04, horizontalalignment='left')\n",
    "# fig.subplots_adjust(top=0.85)\n",
    "\n",
    "ax = plt.subplot(111)\n",
    "\n",
    "sns.regplot(x=\"value\", y=\"action_count\", y_jitter=True, data=df_kills[df_kills['win']==True], color=color_win, \n",
    "            label='winning team', scatter_kws={'s':2})\n",
    "sns.regplot(x=\"value\", y=\"action_count\", y_jitter=True, data=df_kills[df_kills['win']==False], color=color_lose, \n",
    "            label='losing team', scatter_kws={'s':2})\n",
    "plt.yticks(np.arange(0, max(df_kills['action_count'])+2, 2))\n",
    "plt.xticks(np.arange(0, max(df_kills['value'])+2, 2))\n",
    "plt.ylabel('Cumulative Kills')\n",
    "plt.xlabel('Minute')\n",
    "\n",
    "ax.legend(loc='best')\n",
    "\n",
    "plt.tight_layout()\n",
    "plt.show()\n"
   ]
  },
  {
   "cell_type": "code",
   "execution_count": null,
   "id": "ec07da28",
   "metadata": {},
   "outputs": [],
   "source": [
    "# firstInhibitor vs winner - stats\n",
    "df[[\"firstInhibitor\",\"winner\"]].groupby([\"firstInhibitor\"],as_index = False).mean().sort_values(by = \"winner\",ascending = False)"
   ]
  },
  {
   "cell_type": "code",
   "execution_count": null,
   "id": "6f15ba08",
   "metadata": {},
   "outputs": [],
   "source": [
    "# firstBaron vs winner -stats\n",
    "data_game[[\"firstBaron\",\"winner\"]].groupby([\"firstBaron\"],as_index = False).mean().sort_values(by = \"winner\",ascending = False)"
   ]
  },
  {
   "cell_type": "code",
   "execution_count": null,
   "id": "b954008b",
   "metadata": {},
   "outputs": [],
   "source": [
    "## Heatmap for after we decide features\n",
    "sns.heatmap(data_game[[\"firstInhibitor\",\"firstBaron\",\"firstRiftHerald\",\"winner\"]].corr(),annot = True)\n",
    "plt.show()"
   ]
  },
  {
   "cell_type": "code",
   "execution_count": null,
   "id": "5a114795",
   "metadata": {},
   "outputs": [],
   "source": [
    "## plt for game duration\n",
    "def pltDuration(df):\n",
    "    plt.figure(figsize = (15, 10))\n",
    "    Duration_plot = plt.hist(df['gameDuration'], bins = 200)\n",
    "    my_x_ticks = np.arange(0, 4200, 300)\n",
    "    plt.xticks(my_x_ticks)\n",
    "    plt.xlabel(\"gameDuration (s)\", fontsize = 13)\n",
    "    plt.ylabel('Frequency', fontsize = 13)\n",
    "    plt.title('GameDuration Distribution', fontsize = 15)\n",
    "    plt.show()\n",
    "pltDuration(df)"
   ]
  },
  {
   "cell_type": "code",
   "execution_count": null,
   "id": "b73ad503",
   "metadata": {},
   "outputs": [],
   "source": [
    "p_firstBlood = data[(data['firstBlood'] == 1) & (data['winner'] == 1)].count()/data[data['firstBlood'] == 1].count()\n",
    "p_firstTower = data[(data['firstTower'] == 1) & (data['winner'] == 1)].count()/data[data['firstTower'] == 1].count()\n",
    "p_firstInhibitor = data[(data['firstInhibitor'] == 1) & (data['winner'] == 1)].count()/data[data['firstInhibitor'] == 1].count()\n",
    "p_firstBaron = data[(data['firstBaron'] == 1) & (data['winner'] == 1)].count()/data[data['firstBaron'] == 1].count()\n",
    "p_firstDragon = data[(data['firstDragon'] == 1) & (data['winner'] == 1)].count()/data[data['firstDragon'] == 1].count()\n",
    "p_firstRiftHerald = data[(data['firstRiftHerald'] == 1) & (data['winner'] == 1)].count()/data[data['firstRiftHerald'] == 1].count()\n",
    "\n",
    "labels = ('firstBlood', 'firstTower', 'firstInhibitor', 'firstBaron', 'firstDragon', 'firstRiftHerald')\n",
    "probabilities = [p_firstBlood['gameDuration'], p_firstTower['gameDuration'], p_firstInhibitor['gameDuration'], p_firstBaron['gameDuration']\n",
    "                ,p_firstDragon['gameDuration'] ,p_firstRiftHerald['gameDuration']]\n",
    "probabilities = [i * 100 for i in probabilities]\n",
    "y_pos = np.arange(len(labels))\n",
    "plt.figure(figsize=(25,15))\n",
    "plt.bar(y_pos, probabilities, align='center', alpha=1)\n",
    "plt.xticks(y_pos, labels, fontsize = 30)\n",
    "plt.yticks(fontsize = 30)\n",
    "plt.ylabel('Probability(%)', fontsize = 30)\n",
    "plt.title('Winning Probability when Team 1 got FirstXXX', fontsize = 40)\n",
    "for a,b in zip(y_pos, probabilities):\n",
    "    plt.text(a, b, '%.3f'%b+'%', ha='center', va= 'bottom',fontsize=30)\n",
    "plt.show()"
   ]
  },
  {
   "cell_type": "code",
   "execution_count": null,
   "id": "4d030e34",
   "metadata": {},
   "outputs": [],
   "source": [
    "# pos correlation chart\n",
    "plt.figure(figsize=(14,12))\n",
    "plt.title('Pearson Correlation of Features',y=1.05,size=15)\n",
    "sns.heatmap(X.astype(float).corr(),linewidths=0.1,vmax=1.0,\n",
    "            square=True,linecolor='white',annot=True)\n",
    "plt.xticks(rotation=90)\n",
    "plt.yticks(rotation=360)\n",
    "plt.show()"
   ]
  },
  {
   "cell_type": "code",
   "execution_count": null,
   "id": "fa1356db",
   "metadata": {},
   "outputs": [],
   "source": []
  },
  {
   "cell_type": "code",
   "execution_count": null,
   "id": "b940a878",
   "metadata": {},
   "outputs": [],
   "source": []
  },
  {
   "cell_type": "code",
   "execution_count": null,
   "id": "485070e9",
   "metadata": {},
   "outputs": [],
   "source": []
  },
  {
   "cell_type": "code",
   "execution_count": null,
   "id": "9f58614b",
   "metadata": {},
   "outputs": [],
   "source": []
  }
 ],
 "metadata": {
  "kernelspec": {
   "display_name": "Python 3",
   "language": "python",
   "name": "python3"
  },
  "language_info": {
   "codemirror_mode": {
    "name": "ipython",
    "version": 3
   },
   "file_extension": ".py",
   "mimetype": "text/x-python",
   "name": "python",
   "nbconvert_exporter": "python",
   "pygments_lexer": "ipython3",
   "version": "3.8.8"
  }
 },
 "nbformat": 4,
 "nbformat_minor": 5
}
