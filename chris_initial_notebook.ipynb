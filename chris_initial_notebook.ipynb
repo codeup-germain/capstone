{
 "cells": [
  {
   "cell_type": "code",
   "execution_count": 2,
   "id": "5dc8a86d",
   "metadata": {},
   "outputs": [],
   "source": [
    "import requests\n",
    "from env import api_key\n",
    "import time\n",
    "import pandas"
   ]
  },
  {
   "cell_type": "code",
   "execution_count": 19,
   "id": "537755e2",
   "metadata": {},
   "outputs": [],
   "source": [
    "#Global var\n",
    "summoner_id = \"https://br1.api.riotgames.com/tft/summoner/v1/summoners/\"\n",
    "def request(name):\n",
    "    time.sleep(1)\n",
    "    print(\"Request Done\")\n",
    "    URL = \"{}by-name/{}?api_key={}\".format(summoner_id,name,api_key)\n",
    "    response = requests.get(URL)\n",
    "    return response.json()\n",
    "#One of the top Lol players right now is called Doublelift\n",
    "# Request yields his info\n",
    "{\n",
    "    \"profileIconId\": 1467,\n",
    "    \"name\": \"Doublelift\",\n",
    "    \"summonerLevel\": 30,\n",
    "    \"accountId\": 32971449,\n",
    "    \"id\": 20132258,\n",
    "    \"revisionDate\": 1492316460000\n",
    "}\n",
    "def main():\n",
    "    player_match_df_list = {}\n",
    "    name = input('Name: ')\n",
    "    raw = request(name)\n",
    "    player_id = (raw[name.lower()]['id'])\n",
    "    # Grabs 20132258 and puts it into match_list function \n",
    "    # which takes the match id and grabs a JSON list of that specific match.   \n",
    "    m_list = match_list(player_id)\n",
    "    return m_list\n",
    "\n",
    "#This yields a list of last 10 games played (This varies between player and Season)"
   ]
  },
  {
   "cell_type": "code",
   "execution_count": 20,
   "id": "02ca4450",
   "metadata": {},
   "outputs": [
    {
     "name": "stdout",
     "output_type": "stream",
     "text": [
      "Request Done\n"
     ]
    },
    {
     "data": {
      "text/plain": [
       "{'id': 'JWX6UoBCt1yogwzzj4LaZi7lipkuLlAwhmbxcXqJnsaF',\n",
       " 'accountId': 'rCW1KpYb6dmmlOwTFOeXxnikoMlLNYTthNG31vsxR2A',\n",
       " 'puuid': 'qwnGyowhX5h2OyoV71ngiO8REQIVG91p7HUZLU_0hyaYonY1ZxxLeCjCS89Qg3zjuXv2NpUH2o31gQ',\n",
       " 'name': 'Doublelift',\n",
       " 'profileIconId': 1130,\n",
       " 'revisionDate': 1586722271000,\n",
       " 'summonerLevel': 30}"
      ]
     },
     "execution_count": 20,
     "metadata": {},
     "output_type": "execute_result"
    }
   ],
   "source": [
    "request(\"doublelift\")"
   ]
  },
  {
   "cell_type": "code",
   "execution_count": 16,
   "id": "c16f0ec5",
   "metadata": {},
   "outputs": [
    {
     "name": "stdout",
     "output_type": "stream",
     "text": [
      "Name: doublelift\n",
      "Request Done\n"
     ]
    },
    {
     "ename": "NameError",
     "evalue": "name 'match_list' is not defined",
     "output_type": "error",
     "traceback": [
      "\u001b[0;31m---------------------------------------------------------------------------\u001b[0m",
      "\u001b[0;31mNameError\u001b[0m                                 Traceback (most recent call last)",
      "\u001b[0;32m<ipython-input-16-263240bbee7e>\u001b[0m in \u001b[0;36m<module>\u001b[0;34m\u001b[0m\n\u001b[0;32m----> 1\u001b[0;31m \u001b[0mmain\u001b[0m\u001b[0;34m(\u001b[0m\u001b[0;34m)\u001b[0m\u001b[0;34m\u001b[0m\u001b[0;34m\u001b[0m\u001b[0m\n\u001b[0m",
      "\u001b[0;32m<ipython-input-14-2626dbc74a63>\u001b[0m in \u001b[0;36mmain\u001b[0;34m()\u001b[0m\n\u001b[1;32m     24\u001b[0m     \u001b[0;31m# Grabs 20132258 and puts it into match_list function\u001b[0m\u001b[0;34m\u001b[0m\u001b[0;34m\u001b[0m\u001b[0;34m\u001b[0m\u001b[0m\n\u001b[1;32m     25\u001b[0m     \u001b[0;31m# which takes the match id and grabs a JSON list of that specific match.\u001b[0m\u001b[0;34m\u001b[0m\u001b[0;34m\u001b[0m\u001b[0;34m\u001b[0m\u001b[0m\n\u001b[0;32m---> 26\u001b[0;31m     \u001b[0mm_list\u001b[0m \u001b[0;34m=\u001b[0m \u001b[0mmatch_list\u001b[0m\u001b[0;34m(\u001b[0m\u001b[0mplayer_id\u001b[0m\u001b[0;34m)\u001b[0m\u001b[0;34m\u001b[0m\u001b[0;34m\u001b[0m\u001b[0m\n\u001b[0m\u001b[1;32m     27\u001b[0m     \u001b[0;32mreturn\u001b[0m \u001b[0mm_list\u001b[0m\u001b[0;34m\u001b[0m\u001b[0;34m\u001b[0m\u001b[0m\n\u001b[1;32m     28\u001b[0m \u001b[0;31m#This yields a list of last 10 games played (This varies between player and Season)\u001b[0m\u001b[0;34m\u001b[0m\u001b[0;34m\u001b[0m\u001b[0;34m\u001b[0m\u001b[0m\n",
      "\u001b[0;31mNameError\u001b[0m: name 'match_list' is not defined"
     ]
    }
   ],
   "source": [
    "main()"
   ]
  },
  {
   "cell_type": "code",
   "execution_count": null,
   "id": "e50a1f8e",
   "metadata": {},
   "outputs": [],
   "source": []
  }
 ],
 "metadata": {
  "kernelspec": {
   "display_name": "Python 3",
   "language": "python",
   "name": "python3"
  },
  "language_info": {
   "codemirror_mode": {
    "name": "ipython",
    "version": 3
   },
   "file_extension": ".py",
   "mimetype": "text/x-python",
   "name": "python",
   "nbconvert_exporter": "python",
   "pygments_lexer": "ipython3",
   "version": "3.8.8"
  }
 },
 "nbformat": 4,
 "nbformat_minor": 5
}
