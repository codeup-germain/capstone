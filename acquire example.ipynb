{
 "cells": [
  {
   "cell_type": "code",
   "execution_count": 1,
   "id": "ad0517e2",
   "metadata": {},
   "outputs": [],
   "source": [
    "import requests\n",
    "import pandas as pd\n",
    "from bs4 import BeautifulSoup\n",
    "from env import api_key\n",
    "\n",
    "pd.set_option(\"display.max_rows\", None, \"display.max_columns\", None)\n",
    "\n",
    "pd.reset_option(\"display.max_rows\", \"display.max_columns\")\n",
    "\n",
    "import re"
   ]
  },
  {
   "cell_type": "code",
   "execution_count": 2,
   "id": "10bc33c6",
   "metadata": {},
   "outputs": [],
   "source": [
    "# use by-name request and use gamertag\n",
    "response = requests.get(f\"https://na1.api.riotgames.com/lol/summoner/v4/summoners/by-name/battlebud?api_key={api_key}\")"
   ]
  },
  {
   "cell_type": "code",
   "execution_count": 4,
   "id": "0022ade1",
   "metadata": {},
   "outputs": [
    {
     "data": {
      "text/plain": [
       "{'id': 'wPW6si6_BrV_OC4FTi49Si2PeMbJM-7i2y2NK8tcxORSD1k',\n",
       " 'accountId': 'pRGmYwVwYy0VU1W-PRfMY_tUuwY6TikHV1clTFR-L1Jrgg',\n",
       " 'puuid': 'r9_mZslFIqwPMNiko362SeuZS7luHTEXapN_F-hpJv15KjtDipl4Z_b-YD2Mu6FvcI85MswOCXhW7A',\n",
       " 'name': 'Battlebud',\n",
       " 'profileIconId': 4404,\n",
       " 'revisionDate': 1635397171000,\n",
       " 'summonerLevel': 315}"
      ]
     },
     "execution_count": 4,
     "metadata": {},
     "output_type": "execute_result"
    }
   ],
   "source": [
    "# unpack data to grab to puuid\n",
    "response.json()"
   ]
  },
  {
   "cell_type": "code",
   "execution_count": 5,
   "id": "ab3df0d7",
   "metadata": {},
   "outputs": [],
   "source": [
    "# use puuid in by-puuid request\n",
    "pro_puuid = 'r9_mZslFIqwPMNiko362SeuZS7luHTEXapN_F-hpJv15KjtDipl4Z_b-YD2Mu6FvcI85MswOCXhW7A'"
   ]
  },
  {
   "cell_type": "code",
   "execution_count": 6,
   "id": "3a1b4963",
   "metadata": {},
   "outputs": [],
   "source": [
    "# main url\n",
    "url = 'https://americas.api.riotgames.com/'\n",
    "\n",
    "# request query\n",
    "query = f'lol/match/v5/matches/by-puuid/{pro_puuid}/ids?start=200&count=100&api_key={api_key}'\n",
    "\n",
    "# Get request\n",
    "response = requests.get(url+query)"
   ]
  },
  {
   "cell_type": "code",
   "execution_count": 8,
   "id": "5858ac35",
   "metadata": {},
   "outputs": [
    {
     "data": {
      "text/plain": [
       "['NA1_4083906028', 'NA1_4083910411', 'NA1_4083561526']"
      ]
     },
     "execution_count": 8,
     "metadata": {},
     "output_type": "execute_result"
    }
   ],
   "source": [
    "# unpack response Returns matchlist\n",
    "response.json()"
   ]
  },
  {
   "cell_type": "code",
   "execution_count": 9,
   "id": "9a338572",
   "metadata": {},
   "outputs": [],
   "source": [
    "game = 'NA1_4083906028'\n",
    "\n",
    "# Main url\n",
    "url = 'https://americas.api.riotgames.com/'\n",
    "\n",
    "# Requesting by matches\n",
    "query = f'lol/match/v5/matches/{game}?api_key={api_key}'\n",
    "\n",
    "# Make your request\n",
    "response = requests.get(url+query)"
   ]
  },
  {
   "cell_type": "code",
   "execution_count": 32,
   "id": "b723b122",
   "metadata": {
    "scrolled": true
   },
   "outputs": [],
   "source": [
    "game = response.json()['info']"
   ]
  },
  {
   "cell_type": "code",
   "execution_count": 33,
   "id": "3e08ef96",
   "metadata": {},
   "outputs": [],
   "source": [
    "df = pd.DataFrame()"
   ]
  },
  {
   "cell_type": "code",
   "execution_count": 34,
   "id": "58161c3d",
   "metadata": {},
   "outputs": [],
   "source": [
    "df = df.append(game, ignore_index=True)"
   ]
  },
  {
   "cell_type": "code",
   "execution_count": 41,
   "id": "fdd834bf",
   "metadata": {},
   "outputs": [
    {
     "data": {
      "text/html": [
       "<div>\n",
       "<style scoped>\n",
       "    .dataframe tbody tr th:only-of-type {\n",
       "        vertical-align: middle;\n",
       "    }\n",
       "\n",
       "    .dataframe tbody tr th {\n",
       "        vertical-align: top;\n",
       "    }\n",
       "\n",
       "    .dataframe thead th {\n",
       "        text-align: right;\n",
       "    }\n",
       "</style>\n",
       "<table border=\"1\" class=\"dataframe\">\n",
       "  <thead>\n",
       "    <tr style=\"text-align: right;\">\n",
       "      <th></th>\n",
       "      <th>gameCreation</th>\n",
       "      <th>gameDuration</th>\n",
       "      <th>gameEndTimestamp</th>\n",
       "      <th>gameId</th>\n",
       "      <th>gameMode</th>\n",
       "      <th>gameName</th>\n",
       "      <th>gameStartTimestamp</th>\n",
       "      <th>gameType</th>\n",
       "      <th>gameVersion</th>\n",
       "      <th>mapId</th>\n",
       "      <th>participants</th>\n",
       "      <th>platformId</th>\n",
       "      <th>queueId</th>\n",
       "      <th>teams</th>\n",
       "      <th>tournamentCode</th>\n",
       "    </tr>\n",
       "  </thead>\n",
       "  <tbody>\n",
       "    <tr>\n",
       "      <th>0</th>\n",
       "      <td>1.635396e+12</td>\n",
       "      <td>1066.0</td>\n",
       "      <td>1.635397e+12</td>\n",
       "      <td>4.083906e+09</td>\n",
       "      <td>CLASSIC</td>\n",
       "      <td>teambuilder-match-4083906028</td>\n",
       "      <td>1.635396e+12</td>\n",
       "      <td>MATCHED_GAME</td>\n",
       "      <td>11.21.403.3002</td>\n",
       "      <td>11.0</td>\n",
       "      <td>[{'assists': 5, 'baronKills': 0, 'bountyLevel'...</td>\n",
       "      <td>NA1</td>\n",
       "      <td>420.0</td>\n",
       "      <td>[{'bans': [{'championId': 131, 'pickTurn': 1},...</td>\n",
       "      <td></td>\n",
       "    </tr>\n",
       "  </tbody>\n",
       "</table>\n",
       "</div>"
      ],
      "text/plain": [
       "   gameCreation  gameDuration  gameEndTimestamp        gameId gameMode  \\\n",
       "0  1.635396e+12        1066.0      1.635397e+12  4.083906e+09  CLASSIC   \n",
       "\n",
       "                       gameName  gameStartTimestamp      gameType  \\\n",
       "0  teambuilder-match-4083906028        1.635396e+12  MATCHED_GAME   \n",
       "\n",
       "      gameVersion  mapId                                       participants  \\\n",
       "0  11.21.403.3002   11.0  [{'assists': 5, 'baronKills': 0, 'bountyLevel'...   \n",
       "\n",
       "  platformId  queueId                                              teams  \\\n",
       "0        NA1    420.0  [{'bans': [{'championId': 131, 'pickTurn': 1},...   \n",
       "\n",
       "  tournamentCode  \n",
       "0                 "
      ]
     },
     "execution_count": 41,
     "metadata": {},
     "output_type": "execute_result"
    }
   ],
   "source": [
    "df.head()"
   ]
  },
  {
   "cell_type": "code",
   "execution_count": 42,
   "id": "b43660e4",
   "metadata": {},
   "outputs": [],
   "source": [
    "df['red_team_player_one_assists'] = df.participants[0][0]['assists']"
   ]
  },
  {
   "cell_type": "code",
   "execution_count": 43,
   "id": "32964392",
   "metadata": {},
   "outputs": [
    {
     "data": {
      "text/html": [
       "<div>\n",
       "<style scoped>\n",
       "    .dataframe tbody tr th:only-of-type {\n",
       "        vertical-align: middle;\n",
       "    }\n",
       "\n",
       "    .dataframe tbody tr th {\n",
       "        vertical-align: top;\n",
       "    }\n",
       "\n",
       "    .dataframe thead th {\n",
       "        text-align: right;\n",
       "    }\n",
       "</style>\n",
       "<table border=\"1\" class=\"dataframe\">\n",
       "  <thead>\n",
       "    <tr style=\"text-align: right;\">\n",
       "      <th></th>\n",
       "      <th>gameCreation</th>\n",
       "      <th>gameDuration</th>\n",
       "      <th>gameEndTimestamp</th>\n",
       "      <th>gameId</th>\n",
       "      <th>gameMode</th>\n",
       "      <th>gameName</th>\n",
       "      <th>gameStartTimestamp</th>\n",
       "      <th>gameType</th>\n",
       "      <th>gameVersion</th>\n",
       "      <th>mapId</th>\n",
       "      <th>participants</th>\n",
       "      <th>platformId</th>\n",
       "      <th>queueId</th>\n",
       "      <th>teams</th>\n",
       "      <th>tournamentCode</th>\n",
       "      <th>red_team_player_one_assists</th>\n",
       "    </tr>\n",
       "  </thead>\n",
       "  <tbody>\n",
       "    <tr>\n",
       "      <th>0</th>\n",
       "      <td>1.635396e+12</td>\n",
       "      <td>1066.0</td>\n",
       "      <td>1.635397e+12</td>\n",
       "      <td>4.083906e+09</td>\n",
       "      <td>CLASSIC</td>\n",
       "      <td>teambuilder-match-4083906028</td>\n",
       "      <td>1.635396e+12</td>\n",
       "      <td>MATCHED_GAME</td>\n",
       "      <td>11.21.403.3002</td>\n",
       "      <td>11.0</td>\n",
       "      <td>[{'assists': 5, 'baronKills': 0, 'bountyLevel'...</td>\n",
       "      <td>NA1</td>\n",
       "      <td>420.0</td>\n",
       "      <td>[{'bans': [{'championId': 131, 'pickTurn': 1},...</td>\n",
       "      <td></td>\n",
       "      <td>5</td>\n",
       "    </tr>\n",
       "  </tbody>\n",
       "</table>\n",
       "</div>"
      ],
      "text/plain": [
       "   gameCreation  gameDuration  gameEndTimestamp        gameId gameMode  \\\n",
       "0  1.635396e+12        1066.0      1.635397e+12  4.083906e+09  CLASSIC   \n",
       "\n",
       "                       gameName  gameStartTimestamp      gameType  \\\n",
       "0  teambuilder-match-4083906028        1.635396e+12  MATCHED_GAME   \n",
       "\n",
       "      gameVersion  mapId                                       participants  \\\n",
       "0  11.21.403.3002   11.0  [{'assists': 5, 'baronKills': 0, 'bountyLevel'...   \n",
       "\n",
       "  platformId  queueId                                              teams  \\\n",
       "0        NA1    420.0  [{'bans': [{'championId': 131, 'pickTurn': 1},...   \n",
       "\n",
       "  tournamentCode  red_team_player_one_assists  \n",
       "0                                           5  "
      ]
     },
     "execution_count": 43,
     "metadata": {},
     "output_type": "execute_result"
    }
   ],
   "source": [
    "df"
   ]
  },
  {
   "cell_type": "code",
   "execution_count": null,
   "id": "47fd84ea",
   "metadata": {},
   "outputs": [],
   "source": []
  }
 ],
 "metadata": {
  "kernelspec": {
   "display_name": "Python 3",
   "language": "python",
   "name": "python3"
  },
  "language_info": {
   "codemirror_mode": {
    "name": "ipython",
    "version": 3
   },
   "file_extension": ".py",
   "mimetype": "text/x-python",
   "name": "python",
   "nbconvert_exporter": "python",
   "pygments_lexer": "ipython3",
   "version": "3.8.8"
  }
 },
 "nbformat": 4,
 "nbformat_minor": 5
}
