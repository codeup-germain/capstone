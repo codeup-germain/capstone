{
 "cells": [
  {
   "cell_type": "code",
   "execution_count": null,
   "id": "f0e2139e",
   "metadata": {},
   "outputs": [],
   "source": [
    "import pandas as pd\n",
    "from prepare import prep\n",
    "\n",
    "import requests\n",
    "\n",
    "from bs4 import BeautifulSoup\n",
    "\n",
    "from env import api_key\n",
    "\n",
    "pd.set_option(\"display.max_rows\", None, \"display.max_columns\", None)\n",
    "\n",
    "pd.reset_option(\"display.max_rows\", \"display.max_columns\")\n",
    "\n",
    "import re"
   ]
  },
  {
   "cell_type": "code",
   "execution_count": null,
   "id": "f2b10e4b",
   "metadata": {},
   "outputs": [],
   "source": [
    "game = 'NA1_4108071572'"
   ]
  },
  {
   "cell_type": "code",
   "execution_count": null,
   "id": "592d4158",
   "metadata": {},
   "outputs": [],
   "source": [
    "game = 'NA1_4108071576'"
   ]
  },
  {
   "cell_type": "code",
   "execution_count": 7,
   "id": "4a1eec86",
   "metadata": {},
   "outputs": [],
   "source": [
    "url = 'https://americas.api.riotgames.com/'\n",
    "\n",
    "query = f'lol/match/v5/matches/{game}?api_key={api_key}'\n",
    "response = requests.get(url+query)\n"
   ]
  },
  {
   "cell_type": "code",
   "execution_count": 39,
   "id": "8c7f8be5",
   "metadata": {},
   "outputs": [
    {
     "name": "stdout",
     "output_type": "stream",
     "text": [
      "MATCHED_GAME\n",
      "MATCHED_GAME\n",
      "MATCHED_GAME\n",
      "MATCHED_GAME\n",
      "MATCHED_GAME\n",
      "MATCHED_GAME\n"
     ]
    }
   ],
   "source": [
    "url = 'https://americas.api.riotgames.com/'\n",
    "\n",
    "\n",
    "game = 4108071572\n",
    "for i in range(1,20):\n",
    "    game += i\n",
    "    \n",
    "    query = f'lol/match/v5/matches/NA1_{game}?api_key={api_key}'\n",
    "    response = requests.get(url+query)\n",
    "    \n",
    "    if response.status_code == 200:\n",
    "        if response.json()['info']['gameMode'] == \"CLASSIC\":\n",
    "            print(response.json()['info']['gameType'])"
   ]
  },
  {
   "cell_type": "code",
   "execution_count": 41,
   "id": "d2a91b83",
   "metadata": {},
   "outputs": [],
   "source": [
    "game = 4108071572\n",
    "query = f'lol/match/v5/matches/NA1_{game}?api_key={api_key}'\n",
    "response = requests.get(url+query)\n"
   ]
  },
  {
   "cell_type": "code",
   "execution_count": 46,
   "id": "9b9d75b0",
   "metadata": {},
   "outputs": [
    {
     "data": {
      "text/plain": [
       "'hd9Z6NvSYOkeDrDuUZjg6luVO3wwncL2poPkbpgzI9zevhKOwVJ2jVCcBSsT3tzNPAAIiMY10ZIwxA'"
      ]
     },
     "execution_count": 46,
     "metadata": {},
     "output_type": "execute_result"
    }
   ],
   "source": [
    "response.json()['info']['participants'][0]['puuid']"
   ]
  },
  {
   "cell_type": "code",
   "execution_count": 22,
   "id": "c3106254",
   "metadata": {},
   "outputs": [],
   "source": [
    "version = '11.23.409.111'"
   ]
  },
  {
   "cell_type": "code",
   "execution_count": null,
   "id": "0131f5d7",
   "metadata": {},
   "outputs": [],
   "source": []
  },
  {
   "cell_type": "code",
   "execution_count": null,
   "id": "becbddaf",
   "metadata": {},
   "outputs": [],
   "source": []
  },
  {
   "cell_type": "code",
   "execution_count": 48,
   "id": "c482d010",
   "metadata": {},
   "outputs": [],
   "source": [
    "name = 'NoNoYogi'"
   ]
  },
  {
   "cell_type": "code",
   "execution_count": 49,
   "id": "f9c3cbb1",
   "metadata": {},
   "outputs": [],
   "source": [
    "response = requests.get(f\"https://na1.api.riotgames.com/lol/summoner/v4/summoners/by-name/{name}?api_key={api_key}\")"
   ]
  },
  {
   "cell_type": "code",
   "execution_count": 51,
   "id": "2c0278da",
   "metadata": {},
   "outputs": [],
   "source": [
    "puuid =response.json()['puuid']"
   ]
  },
  {
   "cell_type": "code",
   "execution_count": 53,
   "id": "43b4c546",
   "metadata": {},
   "outputs": [
    {
     "data": {
      "text/plain": [
       "'P7wAgnqb1LVgOIkXF0kK6ZslbVsB-iNe1glo4Z7F5gsOgZXID4YPodArosvfLm39Op43eMdCP8vjug'"
      ]
     },
     "execution_count": 53,
     "metadata": {},
     "output_type": "execute_result"
    }
   ],
   "source": [
    "puuid"
   ]
  },
  {
   "cell_type": "code",
   "execution_count": 54,
   "id": "ea84b4fd",
   "metadata": {},
   "outputs": [],
   "source": [
    "url = 'https://americas.api.riotgames.com/'\n",
    "\n",
    "query = f'lol/match/v5/matches/by-puuid/{puuid}/ids?start=0&count=10&api_key={api_key}'"
   ]
  },
  {
   "cell_type": "code",
   "execution_count": 55,
   "id": "18820b7b",
   "metadata": {},
   "outputs": [],
   "source": [
    "response = requests.get(url+query)"
   ]
  },
  {
   "cell_type": "code",
   "execution_count": 57,
   "id": "7ae2c5bd",
   "metadata": {},
   "outputs": [
    {
     "data": {
      "text/plain": [
       "['NA1_4105047961',\n",
       " 'NA1_4104898639',\n",
       " 'NA1_4104778393',\n",
       " 'NA1_4104781882',\n",
       " 'NA1_4104756685',\n",
       " 'NA1_4104026866',\n",
       " 'NA1_4104030133',\n",
       " 'NA1_4103952843',\n",
       " 'NA1_4103795746',\n",
       " 'NA1_4103666409']"
      ]
     },
     "execution_count": 57,
     "metadata": {},
     "output_type": "execute_result"
    }
   ],
   "source": [
    "response.json()"
   ]
  },
  {
   "cell_type": "code",
   "execution_count": null,
   "id": "27911818",
   "metadata": {},
   "outputs": [],
   "source": [
    "go match id's each name in list of names\n",
    "\n",
    "for each match_id\n",
    "    if match < 14011231234\n",
    "        ignore\n",
    "    else\n",
    "        save it\n",
    "    exit loop save requsts\n"
   ]
  }
 ],
 "metadata": {
  "kernelspec": {
   "display_name": "Python 3",
   "language": "python",
   "name": "python3"
  },
  "language_info": {
   "codemirror_mode": {
    "name": "ipython",
    "version": 3
   },
   "file_extension": ".py",
   "mimetype": "text/x-python",
   "name": "python",
   "nbconvert_exporter": "python",
   "pygments_lexer": "ipython3",
   "version": "3.8.8"
  }
 },
 "nbformat": 4,
 "nbformat_minor": 5
}
