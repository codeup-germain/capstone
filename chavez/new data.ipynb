{
 "cells": [
  {
   "cell_type": "code",
   "execution_count": 43,
   "id": "f0e2139e",
   "metadata": {},
   "outputs": [],
   "source": [
    "import pandas as pd\n",
    "from prepare import prepare\n",
    "from acquire import extract\n",
    "\n",
    "import requests\n",
    "\n",
    "from bs4 import BeautifulSoup\n",
    "\n",
    "from env import api_key\n",
    "\n",
    "pd.set_option(\"display.max_rows\", None, \"display.max_columns\", None)\n",
    "\n",
    "pd.reset_option(\"display.max_rows\", \"display.max_columns\")\n",
    "\n",
    "import re"
   ]
  },
  {
   "cell_type": "code",
   "execution_count": 44,
   "id": "f7812392",
   "metadata": {},
   "outputs": [
    {
     "name": "stdout",
     "output_type": "stream",
     "text": [
      "Skipping: 0 due to <10 min or not classic\n",
      "Skipping: 1 due to <10 min or not classic\n",
      "Finished with: 2 of 9\n",
      "Finished with: 3 of 9\n",
      "Skipping: 4 due to <10 min or not classic\n",
      "Finished with: 5 of 9\n",
      "Finished with: 6 of 9\n",
      "Skipping: 7 due to <10 min or not classic\n",
      "Skipping: 8 due to <10 min or not classic\n",
      "Skipping: 9 due to <10 min or not classic\n",
      "Done! now lets get some korean bbq, more chicken plz! haha....follow suit\n"
     ]
    }
   ],
   "source": [
    "timeline_data = pd.read_json('timeline_data_user_Ablazeolive_end_150.json')\n",
    "other_game_data = pd.read_json('other_game_data_user_Ablazeolive_end_150.json')\n",
    "\n",
    "timeline_data = timeline_data.to_dict(orient = 'records')\n",
    "other_game_data = other_game_data.to_dict(orient = 'records')\n",
    "\n",
    "df = extract(timeline_data, other_game_data, 10)"
   ]
  },
  {
   "cell_type": "code",
   "execution_count": 45,
   "id": "232cf158",
   "metadata": {},
   "outputs": [
    {
     "name": "stdout",
     "output_type": "stream",
     "text": [
      "Finished with: 0 of 9\n",
      "Finished with: 1 of 9\n",
      "Finished with: 2 of 9\n",
      "Finished with: 3 of 9\n",
      "Finished with: 4 of 9\n",
      "Finished with: 5 of 9\n",
      "Finished with: 6 of 9\n",
      "Finished with: 7 of 9\n",
      "Finished with: 8 of 9\n",
      "Finished with: 9 of 9\n",
      "Done! now lets get some korean bbq, more chicken plz! haha....follow suit\n"
     ]
    }
   ],
   "source": [
    "timeline_data = pd.read_json('timeline_data_user_Allorim_end_50.json')\n",
    "other_game_data = pd.read_json('other_game_data_user_Allorim_end_50.json')\n",
    "\n",
    "timeline_data = timeline_data.to_dict(orient = 'records')\n",
    "other_game_data = other_game_data.to_dict(orient = 'records')\n",
    "\n",
    "df1 = extract(timeline_data, other_game_data, 10)"
   ]
  },
  {
   "cell_type": "code",
   "execution_count": 46,
   "id": "c67b23cc",
   "metadata": {},
   "outputs": [
    {
     "name": "stdout",
     "output_type": "stream",
     "text": [
      "Skipping: 0 due to <10 min or not classic\n",
      "Skipping: 1 due to <10 min or not classic\n",
      "Skipping: 2 due to <10 min or not classic\n",
      "Skipping: 3 due to <10 min or not classic\n",
      "Skipping: 4 due to <10 min or not classic\n",
      "Skipping: 5 due to <10 min or not classic\n",
      "Skipping: 6 due to <10 min or not classic\n",
      "Skipping: 7 due to <10 min or not classic\n",
      "Finished with: 8 of 9\n",
      "Finished with: 9 of 9\n",
      "Done! now lets get some korean bbq, more chicken plz! haha....follow suit\n"
     ]
    }
   ],
   "source": [
    "timeline_data = pd.read_json('timeline_data_user_Aspect_end_60.json')\n",
    "other_game_data = pd.read_json('other_game_data_user_Aspect_end_60.json')\n",
    "\n",
    "timeline_data = timeline_data.to_dict(orient = 'records')\n",
    "other_game_data = other_game_data.to_dict(orient = 'records')\n",
    "\n",
    "df2 = extract(timeline_data, other_game_data, 10)"
   ]
  },
  {
   "cell_type": "code",
   "execution_count": 47,
   "id": "b92b6202",
   "metadata": {},
   "outputs": [
    {
     "name": "stdout",
     "output_type": "stream",
     "text": [
      "Skipping: 0 due to <10 min or not classic\n",
      "Skipping: 1 due to <10 min or not classic\n",
      "Skipping: 2 due to <10 min or not classic\n",
      "Finished with: 3 of 9\n",
      "Finished with: 4 of 9\n",
      "Finished with: 5 of 9\n",
      "Finished with: 6 of 9\n",
      "Skipping: 7 due to <10 min or not classic\n",
      "Finished with: 8 of 9\n",
      "Skipping: 9 due to <10 min or not classic\n",
      "Done! now lets get some korean bbq, more chicken plz! haha....follow suit\n"
     ]
    }
   ],
   "source": [
    "timeline_data = pd.read_json('timeline_data_user_Benji_end_10.json')\n",
    "other_game_data = pd.read_json('other_game_data_user_Benji_end_10.json')\n",
    "\n",
    "timeline_data = timeline_data.to_dict(orient = 'records')\n",
    "other_game_data = other_game_data.to_dict(orient = 'records')\n",
    "\n",
    "df3 = extract(timeline_data, other_game_data, 10)"
   ]
  },
  {
   "cell_type": "code",
   "execution_count": 48,
   "id": "b0b9d0cc",
   "metadata": {},
   "outputs": [
    {
     "name": "stdout",
     "output_type": "stream",
     "text": [
      "Skipping: 0 due to <10 min or not classic\n",
      "Skipping: 1 due to <10 min or not classic\n",
      "Skipping: 2 due to <10 min or not classic\n",
      "Skipping: 3 due to <10 min or not classic\n",
      "Skipping: 4 due to <10 min or not classic\n",
      "Skipping: 5 due to <10 min or not classic\n",
      "Skipping: 6 due to <10 min or not classic\n",
      "Skipping: 7 due to <10 min or not classic\n",
      "Finished with: 8 of 9\n",
      "Finished with: 9 of 9\n",
      "Done! now lets get some korean bbq, more chicken plz! haha....follow suit\n"
     ]
    }
   ],
   "source": [
    "timeline_data = pd.read_json('timeline_data_user_Breezyyy_end_20.json')\n",
    "other_game_data = pd.read_json('other_game_data_user_Breezyyy_end_20.json')\n",
    "\n",
    "timeline_data = timeline_data.to_dict(orient = 'records')\n",
    "other_game_data = other_game_data.to_dict(orient = 'records')\n",
    "\n",
    "df4 = extract(timeline_data, other_game_data, 10)"
   ]
  },
  {
   "cell_type": "code",
   "execution_count": 49,
   "id": "4c37fadd",
   "metadata": {},
   "outputs": [
    {
     "name": "stdout",
     "output_type": "stream",
     "text": [
      "Skipping: 0 due to <10 min or not classic\n",
      "Skipping: 1 due to <10 min or not classic\n",
      "Finished with: 2 of 8\n",
      "Skipping: 3 due to <10 min or not classic\n",
      "Skipping: 4 due to <10 min or not classic\n",
      "Skipping: 5 due to <10 min or not classic\n",
      "Skipping: 6 due to <10 min or not classic\n",
      "Skipping: 7 due to <10 min or not classic\n",
      "Skipping: 8 due to <10 min or not classic\n",
      "Done! now lets get some korean bbq, more chicken plz! haha....follow suit\n"
     ]
    }
   ],
   "source": [
    "timeline_data = pd.read_json('timeline_data_user_Chad_end_69.json')\n",
    "other_game_data = pd.read_json('other_game_data_user_Chad_end_69.json')\n",
    "\n",
    "timeline_data = timeline_data.to_dict(orient = 'records')\n",
    "other_game_data = other_game_data.to_dict(orient = 'records')\n",
    "\n",
    "df5 = extract(timeline_data, other_game_data, 10)"
   ]
  },
  {
   "cell_type": "code",
   "execution_count": 50,
   "id": "b36a000d",
   "metadata": {},
   "outputs": [
    {
     "name": "stdout",
     "output_type": "stream",
     "text": [
      "Skipping: 0 due to <10 min or not classic\n",
      "Skipping: 1 due to <10 min or not classic\n",
      "Finished with: 2 of 9\n",
      "Skipping: 3 due to <10 min or not classic\n",
      "Skipping: 4 due to <10 min or not classic\n",
      "Finished with: 5 of 9\n",
      "Finished with: 6 of 9\n",
      "Finished with: 7 of 9\n",
      "Finished with: 8 of 9\n",
      "Skipping: 9 due to <10 min or not classic\n",
      "Done! now lets get some korean bbq, more chicken plz! haha....follow suit\n"
     ]
    }
   ],
   "source": [
    "timeline_data = pd.read_json('timeline_data_user_Danny_end_40.json')\n",
    "other_game_data = pd.read_json('other_game_data_user_Danny_end_40.json')\n",
    "\n",
    "timeline_data = timeline_data.to_dict(orient = 'records')\n",
    "other_game_data = other_game_data.to_dict(orient = 'records')\n",
    "\n",
    "df6 = extract(timeline_data, other_game_data, 10)"
   ]
  },
  {
   "cell_type": "code",
   "execution_count": 51,
   "id": "e3c14dbf",
   "metadata": {},
   "outputs": [
    {
     "name": "stdout",
     "output_type": "stream",
     "text": [
      "Finished with: 0 of 9\n",
      "Finished with: 1 of 9\n",
      "Finished with: 2 of 9\n",
      "Finished with: 3 of 9\n",
      "Finished with: 4 of 9\n",
      "Finished with: 5 of 9\n",
      "Skipping: 6 due to <10 min or not classic\n",
      "Finished with: 7 of 9\n",
      "Skipping: 8 due to <10 min or not classic\n",
      "Skipping: 9 due to <10 min or not classic\n",
      "Done! now lets get some korean bbq, more chicken plz! haha....follow suit\n"
     ]
    }
   ],
   "source": [
    "timeline_data = pd.read_json('timeline_data_user_Destiny_end_100.json')\n",
    "other_game_data = pd.read_json('other_game_data_user_Destiny_end_100.json')\n",
    "\n",
    "timeline_data = timeline_data.to_dict(orient = 'records')\n",
    "other_game_data = other_game_data.to_dict(orient = 'records')\n",
    "\n",
    "df7 = extract(timeline_data, other_game_data, 10)"
   ]
  },
  {
   "cell_type": "code",
   "execution_count": 52,
   "id": "512f4a3e",
   "metadata": {},
   "outputs": [
    {
     "name": "stdout",
     "output_type": "stream",
     "text": [
      "Finished with: 0 of 9\n",
      "Finished with: 1 of 9\n",
      "Skipping: 2 due to <10 min or not classic\n",
      "Skipping: 3 due to <10 min or not classic\n",
      "Skipping: 4 due to <10 min or not classic\n",
      "Skipping: 5 due to <10 min or not classic\n",
      "Skipping: 6 due to <10 min or not classic\n",
      "Skipping: 7 due to <10 min or not classic\n",
      "Skipping: 8 due to <10 min or not classic\n",
      "Skipping: 9 due to <10 min or not classic\n",
      "Done! now lets get some korean bbq, more chicken plz! haha....follow suit\n"
     ]
    }
   ],
   "source": [
    "timeline_data = pd.read_json('timeline_data_user_Dhokla_end_130.json')\n",
    "other_game_data = pd.read_json('other_game_data_user_Dhokla_end_130.json')\n",
    "\n",
    "timeline_data = timeline_data.to_dict(orient = 'records')\n",
    "other_game_data = other_game_data.to_dict(orient = 'records')\n",
    "\n",
    "df8 = extract(timeline_data, other_game_data, 10)"
   ]
  },
  {
   "cell_type": "code",
   "execution_count": 53,
   "id": "1503dbd8",
   "metadata": {},
   "outputs": [
    {
     "name": "stdout",
     "output_type": "stream",
     "text": [
      "Finished with: 0 of 9\n",
      "Skipping: 1 due to <10 min or not classic\n",
      "Skipping: 2 due to <10 min or not classic\n",
      "Finished with: 3 of 9\n",
      "Skipping: 4 due to <10 min or not classic\n",
      "Skipping: 5 due to <10 min or not classic\n",
      "Skipping: 6 due to <10 min or not classic\n",
      "Skipping: 7 due to <10 min or not classic\n",
      "Skipping: 8 due to <10 min or not classic\n",
      "Skipping: 9 due to <10 min or not classic\n",
      "Done! now lets get some korean bbq, more chicken plz! haha....follow suit\n"
     ]
    }
   ],
   "source": [
    "timeline_data = pd.read_json('timeline_data_user_Doublelift_end_60.json')\n",
    "other_game_data = pd.read_json('other_game_data_user_Doublelift_end_60.json')\n",
    "\n",
    "timeline_data = timeline_data.to_dict(orient = 'records')\n",
    "other_game_data = other_game_data.to_dict(orient = 'records')\n",
    "\n",
    "df9 = extract(timeline_data, other_game_data, 10)"
   ]
  },
  {
   "cell_type": "code",
   "execution_count": 54,
   "id": "12d3c5c4",
   "metadata": {},
   "outputs": [
    {
     "name": "stdout",
     "output_type": "stream",
     "text": [
      "Skipping: 0 due to <10 min or not classic\n",
      "Skipping: 1 due to <10 min or not classic\n",
      "Finished with: 2 of 9\n",
      "Finished with: 3 of 9\n",
      "Skipping: 4 due to <10 min or not classic\n",
      "Finished with: 5 of 9\n",
      "Skipping: 6 due to <10 min or not classic\n",
      "Skipping: 7 due to <10 min or not classic\n",
      "Skipping: 8 due to <10 min or not classic\n",
      "Finished with: 9 of 9\n",
      "Done! now lets get some korean bbq, more chicken plz! haha....follow suit\n"
     ]
    }
   ],
   "source": [
    "timeline_data = pd.read_json('timeline_data_user_Dreams_end_70.json')\n",
    "other_game_data = pd.read_json('other_game_data_user_Dreams_end_70.json')\n",
    "\n",
    "timeline_data = timeline_data.to_dict(orient = 'records')\n",
    "other_game_data = other_game_data.to_dict(orient = 'records')\n",
    "\n",
    "df10 = extract(timeline_data, other_game_data, 10)"
   ]
  },
  {
   "cell_type": "code",
   "execution_count": 55,
   "id": "97e85d34",
   "metadata": {},
   "outputs": [
    {
     "name": "stdout",
     "output_type": "stream",
     "text": [
      "Done! now lets get some korean bbq, more chicken plz! haha....follow suit\n"
     ]
    }
   ],
   "source": [
    "timeline_data = pd.read_json('timeline_data_user_Dyrus_end_0.json')\n",
    "other_game_data = pd.read_json('other_game_data_user_Dyrus_end_0.json')\n",
    "\n",
    "timeline_data = timeline_data.to_dict(orient = 'records')\n",
    "other_game_data = other_game_data.to_dict(orient = 'records')\n",
    "\n",
    "df11 = extract(timeline_data, other_game_data, 10)"
   ]
  },
  {
   "cell_type": "code",
   "execution_count": 56,
   "id": "65084618",
   "metadata": {},
   "outputs": [
    {
     "name": "stdout",
     "output_type": "stream",
     "text": [
      "Finished with: 0 of 9\n",
      "Finished with: 1 of 9\n",
      "Finished with: 2 of 9\n",
      "Finished with: 3 of 9\n",
      "Finished with: 4 of 9\n",
      "Finished with: 5 of 9\n",
      "Finished with: 6 of 9\n",
      "Skipping: 7 due to <10 min or not classic\n",
      "Skipping: 8 due to <10 min or not classic\n",
      "Skipping: 9 due to <10 min or not classic\n",
      "Done! now lets get some korean bbq, more chicken plz! haha....follow suit\n"
     ]
    }
   ],
   "source": [
    "timeline_data = pd.read_json('timeline_data_user_FakeGod_end_160.json')\n",
    "other_game_data = pd.read_json('other_game_data_user_FakeGod_end_160.json')\n",
    "\n",
    "timeline_data = timeline_data.to_dict(orient = 'records')\n",
    "other_game_data = other_game_data.to_dict(orient = 'records')\n",
    "\n",
    "df12 = extract(timeline_data, other_game_data, 10)"
   ]
  },
  {
   "cell_type": "code",
   "execution_count": 57,
   "id": "52cd3578",
   "metadata": {},
   "outputs": [
    {
     "name": "stdout",
     "output_type": "stream",
     "text": [
      "Skipping: 0 due to <10 min or not classic\n",
      "Finished with: 1 of 9\n",
      "Finished with: 2 of 9\n",
      "Finished with: 3 of 9\n",
      "Finished with: 4 of 9\n",
      "Skipping: 5 due to <10 min or not classic\n",
      "Skipping: 6 due to <10 min or not classic\n",
      "Finished with: 7 of 9\n",
      "Finished with: 8 of 9\n",
      "Finished with: 9 of 9\n",
      "Done! now lets get some korean bbq, more chicken plz! haha....follow suit\n"
     ]
    }
   ],
   "source": [
    "timeline_data = pd.read_json('timeline_data_user_Fill_end_140.json')\n",
    "other_game_data = pd.read_json('other_game_data_user_Fill_end_140.json')\n",
    "\n",
    "timeline_data = timeline_data.to_dict(orient = 'records')\n",
    "other_game_data = other_game_data.to_dict(orient = 'records')\n",
    "\n",
    "df13 = extract(timeline_data, other_game_data, 10)"
   ]
  },
  {
   "cell_type": "code",
   "execution_count": 58,
   "id": "89efc591",
   "metadata": {},
   "outputs": [
    {
     "name": "stdout",
     "output_type": "stream",
     "text": [
      "Done! now lets get some korean bbq, more chicken plz! haha....follow suit\n"
     ]
    }
   ],
   "source": [
    "timeline_data = pd.read_json('timeline_data_user_Isles_end_0.json')\n",
    "other_game_data = pd.read_json('other_game_data_user_Isles_end_0.json')\n",
    "\n",
    "timeline_data = timeline_data.to_dict(orient = 'records')\n",
    "other_game_data = other_game_data.to_dict(orient = 'records')\n",
    "\n",
    "df14 = extract(timeline_data, other_game_data, 10)"
   ]
  },
  {
   "cell_type": "code",
   "execution_count": 59,
   "id": "5a18cb1c",
   "metadata": {},
   "outputs": [
    {
     "name": "stdout",
     "output_type": "stream",
     "text": [
      "Done! now lets get some korean bbq, more chicken plz! haha....follow suit\n"
     ]
    }
   ],
   "source": [
    "timeline_data = pd.read_json('timeline_data_user_Jensen_end_0.json')\n",
    "other_game_data = pd.read_json('other_game_data_user_Jensen_end_0.json')\n",
    "\n",
    "timeline_data = timeline_data.to_dict(orient = 'records')\n",
    "other_game_data = other_game_data.to_dict(orient = 'records')\n",
    "\n",
    "df15 = extract(timeline_data, other_game_data, 10)"
   ]
  },
  {
   "cell_type": "code",
   "execution_count": 60,
   "id": "2aac95d9",
   "metadata": {},
   "outputs": [
    {
     "name": "stdout",
     "output_type": "stream",
     "text": [
      "Finished with: 0 of 9\n",
      "Finished with: 1 of 9\n",
      "Finished with: 2 of 9\n",
      "Skipping: 3 due to <10 min or not classic\n",
      "Skipping: 4 due to <10 min or not classic\n",
      "Finished with: 5 of 9\n",
      "Skipping: 6 due to <10 min or not classic\n",
      "Skipping: 7 due to <10 min or not classic\n",
      "Skipping: 8 due to <10 min or not classic\n",
      "Finished with: 9 of 9\n",
      "Done! now lets get some korean bbq, more chicken plz! haha....follow suit\n"
     ]
    }
   ],
   "source": [
    "timeline_data = pd.read_json('timeline_data_user_Jensen_end_10.json')\n",
    "other_game_data = pd.read_json('other_game_data_user_Jensen_end_10.json')\n",
    "\n",
    "timeline_data = timeline_data.to_dict(orient = 'records')\n",
    "other_game_data = other_game_data.to_dict(orient = 'records')\n",
    "\n",
    "df16 = extract(timeline_data, other_game_data, 10)"
   ]
  },
  {
   "cell_type": "code",
   "execution_count": 61,
   "id": "ff13a7b8",
   "metadata": {},
   "outputs": [
    {
     "name": "stdout",
     "output_type": "stream",
     "text": [
      "Skipping: 0 due to <10 min or not classic\n",
      "Skipping: 1 due to <10 min or not classic\n",
      "Skipping: 2 due to <10 min or not classic\n",
      "Skipping: 3 due to <10 min or not classic\n",
      "Finished with: 4 of 9\n",
      "Finished with: 5 of 9\n",
      "Finished with: 6 of 9\n",
      "Skipping: 7 due to <10 min or not classic\n",
      "Finished with: 8 of 9\n",
      "Skipping: 9 due to <10 min or not classic\n",
      "Done! now lets get some korean bbq, more chicken plz! haha....follow suit\n"
     ]
    }
   ],
   "source": [
    "timeline_data = pd.read_json('timeline_data_user_Jiizuke_end_110.json')\n",
    "other_game_data = pd.read_json('other_game_data_user_Jiizuke_end_110.json')\n",
    "\n",
    "timeline_data = timeline_data.to_dict(orient = 'records')\n",
    "other_game_data = other_game_data.to_dict(orient = 'records')\n",
    "\n",
    "df17 = extract(timeline_data, other_game_data, 10)"
   ]
  },
  {
   "cell_type": "code",
   "execution_count": 62,
   "id": "714ba39b",
   "metadata": {},
   "outputs": [
    {
     "name": "stdout",
     "output_type": "stream",
     "text": [
      "Finished with: 0 of 9\n",
      "Finished with: 1 of 9\n",
      "Skipping: 2 due to <10 min or not classic\n",
      "Skipping: 3 due to <10 min or not classic\n",
      "Finished with: 4 of 9\n",
      "Skipping: 5 due to <10 min or not classic\n",
      "Finished with: 6 of 9\n",
      "Skipping: 7 due to <10 min or not classic\n",
      "Skipping: 8 due to <10 min or not classic\n",
      "Skipping: 9 due to <10 min or not classic\n",
      "Done! now lets get some korean bbq, more chicken plz! haha....follow suit\n"
     ]
    }
   ],
   "source": [
    "timeline_data = pd.read_json('timeline_data_user_Mash_end_30.json')\n",
    "other_game_data = pd.read_json('other_game_data_user_Mash_end_30.json')\n",
    "\n",
    "timeline_data = timeline_data.to_dict(orient = 'records')\n",
    "other_game_data = other_game_data.to_dict(orient = 'records')\n",
    "\n",
    "df18 = extract(timeline_data, other_game_data, 10)"
   ]
  },
  {
   "cell_type": "code",
   "execution_count": 63,
   "id": "15014f60",
   "metadata": {},
   "outputs": [
    {
     "name": "stdout",
     "output_type": "stream",
     "text": [
      "Finished with: 0 of 9\n",
      "Finished with: 1 of 9\n",
      "Finished with: 2 of 9\n",
      "Finished with: 3 of 9\n",
      "Finished with: 4 of 9\n",
      "Finished with: 5 of 9\n",
      "Finished with: 6 of 9\n",
      "Skipping: 7 due to <10 min or not classic\n",
      "Skipping: 8 due to <10 min or not classic\n",
      "Skipping: 9 due to <10 min or not classic\n",
      "Done! now lets get some korean bbq, more chicken plz! haha....follow suit\n"
     ]
    }
   ],
   "source": [
    "timeline_data = pd.read_json('timeline_data_user_Revenge_end_170.json')\n",
    "other_game_data = pd.read_json('other_game_data_user_Revenge_end_170.json')\n",
    "\n",
    "timeline_data = timeline_data.to_dict(orient = 'records')\n",
    "other_game_data = other_game_data.to_dict(orient = 'records')\n",
    "\n",
    "df19 = extract(timeline_data, other_game_data, 10)"
   ]
  },
  {
   "cell_type": "code",
   "execution_count": 64,
   "id": "f7ccb2d5",
   "metadata": {},
   "outputs": [
    {
     "name": "stdout",
     "output_type": "stream",
     "text": [
      "Finished with: 0 of 9\n",
      "Finished with: 1 of 9\n",
      "Skipping: 2 due to <10 min or not classic\n",
      "Skipping: 3 due to <10 min or not classic\n",
      "Skipping: 4 due to <10 min or not classic\n",
      "Skipping: 5 due to <10 min or not classic\n",
      "Finished with: 6 of 9\n",
      "Finished with: 7 of 9\n",
      "Finished with: 8 of 9\n",
      "Skipping: 9 due to <10 min or not classic\n",
      "Done! now lets get some korean bbq, more chicken plz! haha....follow suit\n"
     ]
    }
   ],
   "source": [
    "timeline_data = pd.read_json('timeline_data_user_RoseThorn_end_20.json')\n",
    "other_game_data = pd.read_json('other_game_data_user_RoseThorn_end_20.json')\n",
    "\n",
    "timeline_data = timeline_data.to_dict(orient = 'records')\n",
    "other_game_data = other_game_data.to_dict(orient = 'records')\n",
    "\n",
    "df20 = extract(timeline_data, other_game_data, 10)"
   ]
  },
  {
   "cell_type": "code",
   "execution_count": 65,
   "id": "1b3a449a",
   "metadata": {},
   "outputs": [
    {
     "name": "stdout",
     "output_type": "stream",
     "text": [
      "Skipping: 0 due to <10 min or not classic\n",
      "Skipping: 1 due to <10 min or not classic\n",
      "Finished with: 2 of 9\n",
      "Finished with: 3 of 9\n",
      "Skipping: 4 due to <10 min or not classic\n",
      "Skipping: 5 due to <10 min or not classic\n",
      "Skipping: 6 due to <10 min or not classic\n",
      "Skipping: 7 due to <10 min or not classic\n",
      "Finished with: 8 of 9\n",
      "Skipping: 9 due to <10 min or not classic\n",
      "Done! now lets get some korean bbq, more chicken plz! haha....follow suit\n"
     ]
    }
   ],
   "source": [
    "timeline_data = pd.read_json('timeline_data_user_Sarcasm_end_10.json')\n",
    "other_game_data = pd.read_json('other_game_data_user_Sarcasm_end_10.json')\n",
    "\n",
    "timeline_data = timeline_data.to_dict(orient = 'records')\n",
    "other_game_data = other_game_data.to_dict(orient = 'records')\n",
    "\n",
    "df21 = extract(timeline_data, other_game_data, 10)"
   ]
  },
  {
   "cell_type": "code",
   "execution_count": 66,
   "id": "de823f87",
   "metadata": {},
   "outputs": [
    {
     "name": "stdout",
     "output_type": "stream",
     "text": [
      "Finished with: 0 of 9\n",
      "Skipping: 1 due to <10 min or not classic\n",
      "Skipping: 2 due to <10 min or not classic\n",
      "Skipping: 3 due to <10 min or not classic\n",
      "Finished with: 4 of 9\n",
      "Skipping: 5 due to <10 min or not classic\n",
      "Skipping: 6 due to <10 min or not classic\n",
      "Finished with: 7 of 9\n",
      "Finished with: 8 of 9\n",
      "Finished with: 9 of 9\n",
      "Done! now lets get some korean bbq, more chicken plz! haha....follow suit\n"
     ]
    }
   ],
   "source": [
    "timeline_data = pd.read_json('timeline_data_user_Smoothie_end_20.json')\n",
    "other_game_data = pd.read_json('other_game_data_user_Smoothie_end_20.json')\n",
    "\n",
    "timeline_data = timeline_data.to_dict(orient = 'records')\n",
    "other_game_data = other_game_data.to_dict(orient = 'records')\n",
    "\n",
    "df22 = extract(timeline_data, other_game_data, 10)"
   ]
  },
  {
   "cell_type": "code",
   "execution_count": 67,
   "id": "a0d8e63c",
   "metadata": {},
   "outputs": [
    {
     "name": "stdout",
     "output_type": "stream",
     "text": [
      "Skipping: 0 due to <10 min or not classic\n",
      "Skipping: 1 due to <10 min or not classic\n",
      "Skipping: 2 due to <10 min or not classic\n",
      "Skipping: 3 due to <10 min or not classic\n",
      "Skipping: 4 due to <10 min or not classic\n",
      "Skipping: 5 due to <10 min or not classic\n",
      "Skipping: 6 due to <10 min or not classic\n",
      "Finished with: 7 of 9\n",
      "Finished with: 8 of 9\n",
      "Finished with: 9 of 9\n",
      "Done! now lets get some korean bbq, more chicken plz! haha....follow suit\n"
     ]
    }
   ],
   "source": [
    "timeline_data = pd.read_json('timeline_data_user_Srtty_end_50.json')\n",
    "other_game_data = pd.read_json('other_game_data_user_Srtty_end_50.json')\n",
    "\n",
    "timeline_data = timeline_data.to_dict(orient = 'records')\n",
    "other_game_data = other_game_data.to_dict(orient = 'records')\n",
    "\n",
    "df23 = extract(timeline_data, other_game_data, 10)"
   ]
  },
  {
   "cell_type": "code",
   "execution_count": 68,
   "id": "172a496d",
   "metadata": {},
   "outputs": [
    {
     "name": "stdout",
     "output_type": "stream",
     "text": [
      "Skipping: 0 due to <10 min or not classic\n",
      "Finished with: 1 of 9\n",
      "Skipping: 2 due to <10 min or not classic\n",
      "Skipping: 3 due to <10 min or not classic\n",
      "Finished with: 4 of 9\n",
      "Skipping: 5 due to <10 min or not classic\n",
      "Skipping: 6 due to <10 min or not classic\n",
      "Finished with: 7 of 9\n",
      "Finished with: 8 of 9\n",
      "Finished with: 9 of 9\n",
      "Done! now lets get some korean bbq, more chicken plz! haha....follow suit\n"
     ]
    }
   ],
   "source": [
    "timeline_data = pd.read_json('timeline_data_user_Thien_end_30.json')\n",
    "other_game_data = pd.read_json('other_game_data_user_Thien_end_30.json')\n",
    "\n",
    "timeline_data = timeline_data.to_dict(orient = 'records')\n",
    "other_game_data = other_game_data.to_dict(orient = 'records')\n",
    "\n",
    "df24 = extract(timeline_data, other_game_data, 10)"
   ]
  },
  {
   "cell_type": "code",
   "execution_count": 69,
   "id": "1076405b",
   "metadata": {},
   "outputs": [
    {
     "name": "stdout",
     "output_type": "stream",
     "text": [
      "Skipping: 0 due to <10 min or not classic\n",
      "Finished with: 1 of 9\n",
      "Finished with: 2 of 9\n",
      "Skipping: 3 due to <10 min or not classic\n",
      "Finished with: 4 of 9\n",
      "Finished with: 5 of 9\n",
      "Finished with: 6 of 9\n",
      "Finished with: 7 of 9\n",
      "Skipping: 8 due to <10 min or not classic\n",
      "Finished with: 9 of 9\n",
      "Done! now lets get some korean bbq, more chicken plz! haha....follow suit\n"
     ]
    }
   ],
   "source": [
    "timeline_data = pd.read_json('timeline_data_user_Vulcan_end_120.json')\n",
    "other_game_data = pd.read_json('other_game_data_user_Vulcan_end_120.json')\n",
    "\n",
    "timeline_data = timeline_data.to_dict(orient = 'records')\n",
    "other_game_data = other_game_data.to_dict(orient = 'records')\n",
    "\n",
    "df25 = extract(timeline_data, other_game_data, 10)"
   ]
  },
  {
   "cell_type": "code",
   "execution_count": 70,
   "id": "a506b289",
   "metadata": {},
   "outputs": [
    {
     "name": "stdout",
     "output_type": "stream",
     "text": [
      "Finished with: 0 of 9\n",
      "Finished with: 1 of 9\n",
      "Finished with: 2 of 9\n",
      "Finished with: 3 of 9\n",
      "Finished with: 4 of 9\n",
      "Skipping: 5 due to <10 min or not classic\n",
      "Finished with: 6 of 9\n",
      "Finished with: 7 of 9\n",
      "Finished with: 8 of 9\n",
      "Finished with: 9 of 9\n",
      "Done! now lets get some korean bbq, more chicken plz! haha....follow suit\n"
     ]
    }
   ],
   "source": [
    "timeline_data = pd.read_json('timeline_data_user_Winston_end_30.json')\n",
    "other_game_data = pd.read_json('other_game_data_user_Winston_end_30.json')\n",
    "\n",
    "timeline_data = timeline_data.to_dict(orient = 'records')\n",
    "other_game_data = other_game_data.to_dict(orient = 'records')\n",
    "\n",
    "df26 = extract(timeline_data, other_game_data, 10)"
   ]
  },
  {
   "cell_type": "code",
   "execution_count": 71,
   "id": "7b4478e3",
   "metadata": {},
   "outputs": [
    {
     "name": "stdout",
     "output_type": "stream",
     "text": [
      "Skipping: 0 due to <10 min or not classic\n",
      "Skipping: 1 due to <10 min or not classic\n",
      "Finished with: 2 of 9\n",
      "Finished with: 3 of 9\n",
      "Finished with: 4 of 9\n",
      "Finished with: 5 of 9\n",
      "Finished with: 6 of 9\n",
      "Skipping: 7 due to <10 min or not classic\n",
      "Finished with: 8 of 9\n",
      "Skipping: 9 due to <10 min or not classic\n",
      "Done! now lets get some korean bbq, more chicken plz! haha....follow suit\n"
     ]
    }
   ],
   "source": [
    "timeline_data = pd.read_json('timeline_data_user_Xerxe_end_80.json')\n",
    "other_game_data = pd.read_json('other_game_data_user_Xerxe_end_80.json')\n",
    "\n",
    "timeline_data = timeline_data.to_dict(orient = 'records')\n",
    "other_game_data = other_game_data.to_dict(orient = 'records')\n",
    "\n",
    "df27 = extract(timeline_data, other_game_data, 10)"
   ]
  },
  {
   "cell_type": "code",
   "execution_count": 72,
   "id": "5a8d9190",
   "metadata": {},
   "outputs": [
    {
     "name": "stdout",
     "output_type": "stream",
     "text": [
      "Skipping: 0 due to <10 min or not classic\n",
      "Skipping: 1 due to <10 min or not classic\n",
      "Skipping: 2 due to <10 min or not classic\n",
      "Skipping: 3 due to <10 min or not classic\n",
      "Skipping: 4 due to <10 min or not classic\n",
      "Skipping: 5 due to <10 min or not classic\n",
      "Finished with: 6 of 9\n",
      "Finished with: 7 of 9\n",
      "Skipping: 8 due to <10 min or not classic\n",
      "Skipping: 9 due to <10 min or not classic\n",
      "Done! now lets get some korean bbq, more chicken plz! haha....follow suit\n"
     ]
    }
   ],
   "source": [
    "timeline_data = pd.read_json('timeline_data_user_Xerxe_end_90.json')\n",
    "other_game_data = pd.read_json('other_game_data_user_Xerxe_end_90.json')\n",
    "\n",
    "timeline_data = timeline_data.to_dict(orient = 'records')\n",
    "other_game_data = other_game_data.to_dict(orient = 'records')\n",
    "\n",
    "df28 = extract(timeline_data, other_game_data, 10)"
   ]
  },
  {
   "cell_type": "code",
   "execution_count": 73,
   "id": "6ccba559",
   "metadata": {},
   "outputs": [
    {
     "name": "stdout",
     "output_type": "stream",
     "text": [
      "Skipping: 0 due to <10 min or not classic\n",
      "Finished with: 1 of 9\n",
      "Finished with: 2 of 9\n",
      "Skipping: 3 due to <10 min or not classic\n",
      "Skipping: 4 due to <10 min or not classic\n",
      "Finished with: 5 of 9\n",
      "Skipping: 6 due to <10 min or not classic\n",
      "Skipping: 7 due to <10 min or not classic\n",
      "Skipping: 8 due to <10 min or not classic\n",
      "Skipping: 9 due to <10 min or not classic\n",
      "Done! now lets get some korean bbq, more chicken plz! haha....follow suit\n"
     ]
    }
   ],
   "source": [
    "timeline_data = pd.read_json('timeline_data_user_Xmithie_end_40.json')\n",
    "other_game_data = pd.read_json('other_game_data_user_Xmithie_end_40.json')\n",
    "\n",
    "timeline_data = timeline_data.to_dict(orient = 'records')\n",
    "other_game_data = other_game_data.to_dict(orient = 'records')\n",
    "\n",
    "df29 = extract(timeline_data, other_game_data, 10)"
   ]
  },
  {
   "cell_type": "code",
   "execution_count": 74,
   "id": "f3904cfd",
   "metadata": {},
   "outputs": [],
   "source": [
    "df = pd.concat([df, df1], axis=0, ignore_index=True)\n",
    "df = pd.concat([df, df2], axis=0, ignore_index=True)\n",
    "df = pd.concat([df, df3], axis=0, ignore_index=True)\n",
    "df = pd.concat([df, df4], axis=0, ignore_index=True)\n",
    "df = pd.concat([df, df5], axis=0, ignore_index=True)\n",
    "df = pd.concat([df, df6], axis=0, ignore_index=True)\n",
    "df = pd.concat([df, df7], axis=0, ignore_index=True)\n",
    "df = pd.concat([df, df8], axis=0, ignore_index=True)\n",
    "df = pd.concat([df, df9], axis=0, ignore_index=True)\n",
    "df = pd.concat([df, df10], axis=0, ignore_index=True)\n",
    "df = pd.concat([df, df11], axis=0, ignore_index=True)\n",
    "df = pd.concat([df, df12], axis=0, ignore_index=True)\n",
    "df = pd.concat([df, df13], axis=0, ignore_index=True)\n",
    "df = pd.concat([df, df14], axis=0, ignore_index=True)\n",
    "df = pd.concat([df, df15], axis=0, ignore_index=True)\n",
    "df = pd.concat([df, df16], axis=0, ignore_index=True)\n",
    "df = pd.concat([df, df17], axis=0, ignore_index=True)\n",
    "df = pd.concat([df, df18], axis=0, ignore_index=True)\n",
    "df = pd.concat([df, df19], axis=0, ignore_index=True)\n",
    "df = pd.concat([df, df20], axis=0, ignore_index=True)\n",
    "df = pd.concat([df, df21], axis=0, ignore_index=True)\n",
    "df = pd.concat([df, df22], axis=0, ignore_index=True)\n",
    "df = pd.concat([df, df23], axis=0, ignore_index=True)\n",
    "df = pd.concat([df, df24], axis=0, ignore_index=True)\n",
    "df = pd.concat([df, df25], axis=0, ignore_index=True)\n",
    "df = pd.concat([df, df26], axis=0, ignore_index=True)\n",
    "df = pd.concat([df, df27], axis=0, ignore_index=True)\n",
    "df = pd.concat([df, df28], axis=0, ignore_index=True)\n",
    "df = pd.concat([df, df29], axis=0, ignore_index=True)"
   ]
  },
  {
   "cell_type": "code",
   "execution_count": 75,
   "id": "8c4ea4a2",
   "metadata": {},
   "outputs": [],
   "source": [
    "df.to_csv(\"pro_players_10min\")"
   ]
  },
  {
   "cell_type": "code",
   "execution_count": 77,
   "id": "74c57cdf",
   "metadata": {},
   "outputs": [
    {
     "data": {
      "text/plain": [
       "126"
      ]
     },
     "execution_count": 77,
     "metadata": {},
     "output_type": "execute_result"
    }
   ],
   "source": [
    "len(df)"
   ]
  },
  {
   "cell_type": "code",
   "execution_count": null,
   "id": "431afd51",
   "metadata": {},
   "outputs": [],
   "source": []
  }
 ],
 "metadata": {
  "kernelspec": {
   "display_name": "Python 3",
   "language": "python",
   "name": "python3"
  },
  "language_info": {
   "codemirror_mode": {
    "name": "ipython",
    "version": 3
   },
   "file_extension": ".py",
   "mimetype": "text/x-python",
   "name": "python",
   "nbconvert_exporter": "python",
   "pygments_lexer": "ipython3",
   "version": "3.8.8"
  }
 },
 "nbformat": 4,
 "nbformat_minor": 5
}
