{
 "cells": [
  {
   "cell_type": "code",
   "execution_count": null,
   "id": "e401c379",
   "metadata": {},
   "outputs": [],
   "source": [
    "import pandas as pd\n",
    "from prepare import prep\n",
    "\n",
    "import requests\n",
    "\n",
    "from bs4 import BeautifulSoup\n",
    "\n",
    "from env import api_key\n",
    "\n",
    "pd.set_option(\"display.max_rows\", None, \"display.max_columns\", None)\n",
    "\n",
    "pd.reset_option(\"display.max_rows\", \"display.max_columns\")\n",
    "\n",
    "import re"
   ]
  },
  {
   "cell_type": "code",
   "execution_count": null,
   "id": "4ec6cf6c",
   "metadata": {},
   "outputs": [],
   "source": [
    "game = 'NA1_4108071572'"
   ]
  },
  {
   "cell_type": "code",
   "execution_count": null,
   "id": "89d81bf1",
   "metadata": {},
   "outputs": [],
   "source": [
    "game = 'NA1_4108071576'"
   ]
  },
  {
   "cell_type": "code",
   "execution_count": 7,
   "id": "4a1eec86",
   "metadata": {},
   "outputs": [],
   "source": [
    "url = 'https://americas.api.riotgames.com/'\n",
    "\n",
    "query = f'lol/match/v5/matches/{game}?api_key={api_key}'\n",
    "response = requests.get(url+query)\n"
   ]
  },
  {
   "cell_type": "code",
   "execution_count": 39,
   "id": "2d8c2f76",
   "metadata": {},
   "outputs": [
    {
     "name": "stdout",
     "output_type": "stream",
     "text": [
      "MATCHED_GAME\n",
      "MATCHED_GAME\n",
      "MATCHED_GAME\n",
      "MATCHED_GAME\n",
      "MATCHED_GAME\n",
      "MATCHED_GAME\n"
     ]
    }
   ],
   "source": [
    "url = 'https://americas.api.riotgames.com/'\n",
    "\n",
    "\n",
    "game = 4108071572\n",
    "for i in range(1,20):\n",
    "    game += i\n",
    "    \n",
    "    query = f'lol/match/v5/matches/NA1_{game}?api_key={api_key}'\n",
    "    response = requests.get(url+query)\n",
    "    \n",
    "    if response.status_code == 200:\n",
    "        if response.json()['info']['gameMode'] == \"CLASSIC\":\n",
    "            print(response.json()['info']['gameType'])"
   ]
  },
  {
   "cell_type": "code",
   "execution_count": 41,
   "id": "bf285be6",
   "metadata": {},
   "outputs": [],
   "source": [
    "game = 4108071572\n",
    "query = f'lol/match/v5/matches/NA1_{game}?api_key={api_key}'\n",
    "response = requests.get(url+query)\n"
   ]
  },
  {
   "cell_type": "code",
   "execution_count": 46,
   "id": "d7a0f405",
   "metadata": {},
   "outputs": [
    {
     "data": {
      "text/plain": [
       "'hd9Z6NvSYOkeDrDuUZjg6luVO3wwncL2poPkbpgzI9zevhKOwVJ2jVCcBSsT3tzNPAAIiMY10ZIwxA'"
      ]
     },
     "execution_count": 46,
     "metadata": {},
     "output_type": "execute_result"
    }
   ],
   "source": [
    "response.json()['info']['participants'][0]['puuid']"
   ]
  },
  {
   "cell_type": "code",
   "execution_count": 22,
   "id": "18226672",
   "metadata": {},
   "outputs": [],
   "source": [
    "version = '11.23.409.111'"
   ]
  },
  {
   "cell_type": "code",
   "execution_count": null,
   "id": "d365d447",
   "metadata": {},
   "outputs": [],
   "source": []
  },
  {
   "cell_type": "code",
   "execution_count": null,
   "id": "26df8f04",
   "metadata": {},
   "outputs": [],
   "source": []
  },
  {
   "cell_type": "code",
   "execution_count": 48,
   "id": "2f3665ed",
   "metadata": {},
   "outputs": [],
   "source": [
    "name = 'NoNoYogi'"
   ]
  },
  {
   "cell_type": "code",
   "execution_count": 49,
   "id": "3b4d968e",
   "metadata": {},
   "outputs": [],
   "source": [
    "response = requests.get(f\"https://na1.api.riotgames.com/lol/summoner/v4/summoners/by-name/{name}?api_key={api_key}\")"
   ]
  },
  {
   "cell_type": "code",
   "execution_count": 51,
   "id": "931d524c",
   "metadata": {},
   "outputs": [],
   "source": [
    "puuid =response.json()['puuid']"
   ]
  },
  {
   "cell_type": "code",
   "execution_count": 53,
   "id": "e699fadc",
   "metadata": {},
   "outputs": [
    {
     "data": {
      "text/plain": [
       "'P7wAgnqb1LVgOIkXF0kK6ZslbVsB-iNe1glo4Z7F5gsOgZXID4YPodArosvfLm39Op43eMdCP8vjug'"
      ]
     },
     "execution_count": 53,
     "metadata": {},
     "output_type": "execute_result"
    }
   ],
   "source": [
    "puuid"
   ]
  },
  {
   "cell_type": "code",
   "execution_count": null,
   "id": "fb21213f",
   "metadata": {},
   "outputs": [],
   "source": [
    "url = 'https://americas.api.riotgames.com/'\n",
    "\n",
    "query = f'lol/match/v5/matches/by-puuid/r9_mZslFIqwPMNiko362SeuZS7luHTEXapN_F-hpJv15KjtDipl4Z_b-YD2Mu6FvcI85MswOCXhW7A/ids?start=0&count=20&api_key={api_key}'"
   ]
  },
  {
   "cell_type": "code",
   "execution_count": null,
   "id": "6371462c",
   "metadata": {},
   "outputs": [],
   "source": []
  },
  {
   "cell_type": "code",
   "execution_count": null,
   "id": "4fa99a1d",
   "metadata": {},
   "outputs": [],
   "source": [
    "list(of_names)"
   ]
  },
  {
   "cell_type": "code",
   "execution_count": null,
   "id": "dfdd2aff",
   "metadata": {},
   "outputs": [],
   "source": [
    "go match id's each name in list of names\n",
    "\n",
    "for each match_id\n",
    "    if match < 14011231234\n",
    "        ignore\n",
    "    else\n",
    "        save it\n",
    "    exit loop save requsts\n"
   ]
  }
 ],
 "metadata": {
  "kernelspec": {
   "display_name": "Python 3",
   "language": "python",
   "name": "python3"
  },
  "language_info": {
   "codemirror_mode": {
    "name": "ipython",
    "version": 3
   },
   "file_extension": ".py",
   "mimetype": "text/x-python",
   "name": "python",
   "nbconvert_exporter": "python",
   "pygments_lexer": "ipython3",
   "version": "3.8.8"
  }
 },
 "nbformat": 4,
 "nbformat_minor": 5
}
