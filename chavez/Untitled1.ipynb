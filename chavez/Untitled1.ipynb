{
 "cells": [
  {
   "cell_type": "code",
   "execution_count": 1,
   "id": "fc22fc9e",
   "metadata": {},
   "outputs": [],
   "source": [
    "master_proplayer_names = []"
   ]
  },
  {
   "cell_type": "code",
   "execution_count": 3,
   "id": "27abd3c9",
   "metadata": {},
   "outputs": [],
   "source": [
    "\n",
    "#1 getpuuid() # 1 pull\n",
    "\n",
    "#3 Loop for i in range(0, 90, 30)  ### loops 3 times for total of 90 games per player\n",
    "    # getmatchlist() 30 games\n",
    "    # getjson() 30/30\n",
    "    Pause\n",
    "#save it jsonList + \n"
   ]
  },
  {
   "cell_type": "code",
   "execution_count": null,
   "id": "126426ee",
   "metadata": {},
   "outputs": [],
   "source": []
  }
 ],
 "metadata": {
  "kernelspec": {
   "display_name": "Python 3",
   "language": "python",
   "name": "python3"
  },
  "language_info": {
   "codemirror_mode": {
    "name": "ipython",
    "version": 3
   },
   "file_extension": ".py",
   "mimetype": "text/x-python",
   "name": "python",
   "nbconvert_exporter": "python",
   "pygments_lexer": "ipython3",
   "version": "3.8.8"
  }
 },
 "nbformat": 4,
 "nbformat_minor": 5
}
