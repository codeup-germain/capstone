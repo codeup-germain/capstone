{
 "cells": [
  {
   "cell_type": "code",
   "execution_count": 1,
   "id": "fc22fc9e",
   "metadata": {},
   "outputs": [],
   "source": [
    "import pandas as pd\n",
    "from prepare import prep"
   ]
  },
  {
   "cell_type": "code",
   "execution_count": 2,
   "id": "27abd3c9",
   "metadata": {},
   "outputs": [],
   "source": [
    "df = pd.read_csv('../final.csv')"
   ]
  },
  {
   "cell_type": "code",
   "execution_count": 3,
   "id": "126426ee",
   "metadata": {},
   "outputs": [],
   "source": [
    "df = prep(df)"
   ]
  },
  {
   "cell_type": "code",
   "execution_count": 4,
   "id": "4fa4b0fc",
   "metadata": {
    "scrolled": false
   },
   "outputs": [
    {
     "name": "stdout",
     "output_type": "stream",
     "text": [
      "<class 'pandas.core.frame.DataFrame'>\n",
      "RangeIndex: 8773 entries, 0 to 8772\n",
      "Data columns (total 212 columns):\n",
      " #    Column                                 Dtype  \n",
      "---   ------                                 -----  \n",
      " 0    assistsplayer_1                        float64\n",
      " 1    assistsplayer_10                       float64\n",
      " 2    assistsplayer_2                        float64\n",
      " 3    assistsplayer_3                        float64\n",
      " 4    assistsplayer_4                        float64\n",
      " 5    assistsplayer_5                        float64\n",
      " 6    assistsplayer_6                        float64\n",
      " 7    assistsplayer_7                        float64\n",
      " 8    assistsplayer_8                        float64\n",
      " 9    assistsplayer_9                        float64\n",
      " 10   baron_team100                          float64\n",
      " 11   baron_team200                          float64\n",
      " 12   currentGold_1                          float64\n",
      " 13   currentGold_10                         float64\n",
      " 14   currentGold_2                          float64\n",
      " 15   currentGold_3                          float64\n",
      " 16   currentGold_4                          float64\n",
      " 17   currentGold_5                          float64\n",
      " 18   currentGold_6                          float64\n",
      " 19   currentGold_7                          float64\n",
      " 20   currentGold_8                          float64\n",
      " 21   currentGold_9                          float64\n",
      " 22   deathsplayer_1                         float64\n",
      " 23   deathsplayer_10                        float64\n",
      " 24   deathsplayer_2                         float64\n",
      " 25   deathsplayer_3                         float64\n",
      " 26   deathsplayer_4                         float64\n",
      " 27   deathsplayer_5                         float64\n",
      " 28   deathsplayer_6                         float64\n",
      " 29   deathsplayer_7                         float64\n",
      " 30   deathsplayer_8                         float64\n",
      " 31   deathsplayer_9                         float64\n",
      " 32   dragon_team100                         float64\n",
      " 33   dragon_team200                         float64\n",
      " 34   gameMode                               object \n",
      " 35   gameType                               object \n",
      " 36   gameVersion                            object \n",
      " 37   goldPerSecond_1                        float64\n",
      " 38   goldPerSecond_10                       float64\n",
      " 39   goldPerSecond_2                        float64\n",
      " 40   goldPerSecond_3                        float64\n",
      " 41   goldPerSecond_4                        float64\n",
      " 42   goldPerSecond_5                        float64\n",
      " 43   goldPerSecond_6                        float64\n",
      " 44   goldPerSecond_7                        float64\n",
      " 45   goldPerSecond_8                        float64\n",
      " 46   goldPerSecond_9                        float64\n",
      " 47   inhibs_lost_team200                    float64\n",
      " 48   jungleMinionsKilled_1                  float64\n",
      " 49   jungleMinionsKilled_10                 float64\n",
      " 50   jungleMinionsKilled_2                  float64\n",
      " 51   jungleMinionsKilled_3                  float64\n",
      " 52   jungleMinionsKilled_4                  float64\n",
      " 53   jungleMinionsKilled_5                  float64\n",
      " 54   jungleMinionsKilled_6                  float64\n",
      " 55   jungleMinionsKilled_7                  float64\n",
      " 56   jungleMinionsKilled_8                  float64\n",
      " 57   jungleMinionsKilled_9                  float64\n",
      " 58   killsplayer_1                          float64\n",
      " 59   killsplayer_10                         float64\n",
      " 60   killsplayer_2                          float64\n",
      " 61   killsplayer_3                          float64\n",
      " 62   killsplayer_4                          float64\n",
      " 63   killsplayer_5                          float64\n",
      " 64   killsplayer_7                          float64\n",
      " 65   killsplayer_8                          float64\n",
      " 66   level_1                                float64\n",
      " 67   level_10                               float64\n",
      " 68   level_2                                float64\n",
      " 69   level_3                                float64\n",
      " 70   level_4                                float64\n",
      " 71   level_5                                float64\n",
      " 72   level_6                                float64\n",
      " 73   level_7                                float64\n",
      " 74   level_8                                float64\n",
      " 75   level_9                                float64\n",
      " 76   magicDamageDoneToChampions_1           float64\n",
      " 77   magicDamageDoneToChampions_10          float64\n",
      " 78   magicDamageDoneToChampions_2           float64\n",
      " 79   magicDamageDoneToChampions_3           float64\n",
      " 80   magicDamageDoneToChampions_4           float64\n",
      " 81   magicDamageDoneToChampions_5           float64\n",
      " 82   magicDamageDoneToChampions_6           float64\n",
      " 83   magicDamageDoneToChampions_7           float64\n",
      " 84   magicDamageDoneToChampions_8           float64\n",
      " 85   magicDamageDoneToChampions_9           float64\n",
      " 86   minionsKilled_1                        float64\n",
      " 87   minionsKilled_10                       float64\n",
      " 88   minionsKilled_2                        float64\n",
      " 89   minionsKilled_3                        float64\n",
      " 90   minionsKilled_4                        float64\n",
      " 91   minionsKilled_5                        float64\n",
      " 92   minionsKilled_6                        float64\n",
      " 93   minionsKilled_7                        float64\n",
      " 94   minionsKilled_8                        float64\n",
      " 95   minionsKilled_9                        float64\n",
      " 96   physicalDamageDoneToChampions_1        float64\n",
      " 97   physicalDamageDoneToChampions_10       float64\n",
      " 98   physicalDamageDoneToChampions_2        float64\n",
      " 99   physicalDamageDoneToChampions_3        float64\n",
      " 100  physicalDamageDoneToChampions_4        float64\n",
      " 101  physicalDamageDoneToChampions_5        float64\n",
      " 102  physicalDamageDoneToChampions_6        float64\n",
      " 103  physicalDamageDoneToChampions_7        float64\n",
      " 104  physicalDamageDoneToChampions_8        float64\n",
      " 105  physicalDamageDoneToChampions_9        float64\n",
      " 106  riftherald_team200                     float64\n",
      " 107  timeEnemySpentControlled_1             float64\n",
      " 108  timeEnemySpentControlled_10            float64\n",
      " 109  timeEnemySpentControlled_2             float64\n",
      " 110  timeEnemySpentControlled_3             float64\n",
      " 111  timeEnemySpentControlled_4             float64\n",
      " 112  timeEnemySpentControlled_5             float64\n",
      " 113  timeEnemySpentControlled_6             float64\n",
      " 114  timeEnemySpentControlled_7             float64\n",
      " 115  timeEnemySpentControlled_8             float64\n",
      " 116  timeEnemySpentControlled_9             float64\n",
      " 117  timestamp                              float64\n",
      " 118  totalDamageDoneToChampions_1           float64\n",
      " 119  totalDamageDoneToChampions_10          float64\n",
      " 120  totalDamageDoneToChampions_2           float64\n",
      " 121  totalDamageDoneToChampions_3           float64\n",
      " 122  totalDamageDoneToChampions_4           float64\n",
      " 123  totalDamageDoneToChampions_5           float64\n",
      " 124  totalDamageDoneToChampions_6           float64\n",
      " 125  totalDamageDoneToChampions_7           float64\n",
      " 126  totalDamageDoneToChampions_8           float64\n",
      " 127  totalDamageDoneToChampions_9           float64\n",
      " 128  totalGold_1                            float64\n",
      " 129  totalGold_10                           float64\n",
      " 130  totalGold_2                            float64\n",
      " 131  totalGold_3                            float64\n",
      " 132  totalGold_4                            float64\n",
      " 133  totalGold_5                            float64\n",
      " 134  totalGold_6                            float64\n",
      " 135  totalGold_7                            float64\n",
      " 136  totalGold_8                            float64\n",
      " 137  totalGold_9                            float64\n",
      " 138  towers_lost_team100                    float64\n",
      " 139  towers_lost_team200                    float64\n",
      " 140  trueDamageDoneToChampions_1            float64\n",
      " 141  trueDamageDoneToChampions_10           float64\n",
      " 142  trueDamageDoneToChampions_2            float64\n",
      " 143  trueDamageDoneToChampions_3            float64\n",
      " 144  trueDamageDoneToChampions_4            float64\n",
      " 145  trueDamageDoneToChampions_5            float64\n",
      " 146  trueDamageDoneToChampions_6            float64\n",
      " 147  trueDamageDoneToChampions_7            float64\n",
      " 148  trueDamageDoneToChampions_8            float64\n",
      " 149  trueDamageDoneToChampions_9            float64\n",
      " 150  ward_player_1                          float64\n",
      " 151  ward_player_10                         float64\n",
      " 152  ward_player_2                          float64\n",
      " 153  ward_player_3                          float64\n",
      " 154  ward_player_4                          float64\n",
      " 155  ward_player_5                          float64\n",
      " 156  ward_player_6                          float64\n",
      " 157  ward_player_7                          float64\n",
      " 158  ward_player_8                          float64\n",
      " 159  ward_player_9                          float64\n",
      " 160  winningTeam                            float64\n",
      " 161  xp_1                                   float64\n",
      " 162  xp_10                                  float64\n",
      " 163  xp_2                                   float64\n",
      " 164  xp_3                                   float64\n",
      " 165  xp_4                                   float64\n",
      " 166  xp_5                                   float64\n",
      " 167  xp_6                                   float64\n",
      " 168  xp_7                                   float64\n",
      " 169  xp_8                                   float64\n",
      " 170  xp_9                                   float64\n",
      " 171  inhibs_lost_team100                    float64\n",
      " 172  killsplayer_6                          float64\n",
      " 173  killsplayer_9                          float64\n",
      " 174  riftherald_team100                     float64\n",
      " 175  ward_player_0                          float64\n",
      " 176  killsplayer_0                          float64\n",
      " 177  riftherald_team300                     float64\n",
      " 178  BlueTeamDeaths                         int64  \n",
      " 179  RedTeamDeaths                          int64  \n",
      " 180  BlueTeamGoldPerSec                     int64  \n",
      " 181  RedTeamGoldPerSec                      int64  \n",
      " 182  BlueTeamJungleMinionsKilled            int64  \n",
      " 183  RedTeamJungleMinionsKilled             int64  \n",
      " 184  BlueTeamKills                          int64  \n",
      " 185  RedTeamKills                           int64  \n",
      " 186  BlueTeamLevel                          int64  \n",
      " 187  RedTeamLevel                           int64  \n",
      " 188  BlueTeamMagicDamageDoneToChampions     int64  \n",
      " 189  RedTeamMagicDamageDoneToChampions      int64  \n",
      " 190  BlueTeamMinionsKilled                  int64  \n",
      " 191  RedTeamMinionsKilled                   int64  \n",
      " 192  BlueTeamPhysicalDamageDoneToChampions  int64  \n",
      " 193  RedTeamPhysicalDamageDoneToChampions   int64  \n",
      " 194  BlueTeamTimeEnemySpentControlled       int64  \n",
      " 195  RedTeamTimeEnemySpentControlled        int64  \n",
      " 196  BlueTeamTotalDamageDoneToChampions     int64  \n",
      " 197  RedTeamTotalDamageDoneToChampions      int64  \n",
      " 198  BlueTeamTotalGold                      int64  \n",
      " 199  RedTeamTotalGold                       int64  \n",
      " 200  BlueTeamTrueDamageDoneToChampions      int64  \n",
      " 201  RedTeamTrueDamageDoneToChampions       int64  \n",
      " 202  BlueTeamWards                          int64  \n",
      " 203  RedTeamWards                           int64  \n",
      " 204  BlueTeamAssists                        int64  \n",
      " 205  RedTeamAssists                         int64  \n",
      " 206  BlueTeamXp                             int64  \n",
      " 207  RedTeamXp                              int64  \n",
      " 208  BlueTeamTotalGoldDifference            int64  \n",
      " 209  RedTeamTotalGoldDifference             int64  \n",
      " 210  BlueTeamMVPKills                       float64\n",
      " 211  RedTeamMVPKills                        float64\n",
      "dtypes: float64(177), int64(32), object(3)\n",
      "memory usage: 14.2+ MB\n"
     ]
    }
   ],
   "source": [
    "df.info(verbose=True)"
   ]
  },
  {
   "cell_type": "code",
   "execution_count": 5,
   "id": "24ec7f29",
   "metadata": {},
   "outputs": [],
   "source": [
    "# df['BlueTeamTotalGoldDifference'] = df.BlueTeamTotalGold - df.RedTeamTotalGold\n",
    "# df['RedTeamTotalGoldDifference'] =  df.RedTeamTotalGold - df.BlueTeamTotalGold"
   ]
  },
  {
   "cell_type": "code",
   "execution_count": null,
   "id": "3be8662f",
   "metadata": {},
   "outputs": [],
   "source": []
  },
  {
   "cell_type": "code",
   "execution_count": 6,
   "id": "ea6d67e3",
   "metadata": {},
   "outputs": [
    {
     "data": {
      "text/plain": [
       "(-13865, 13865)"
      ]
     },
     "execution_count": 6,
     "metadata": {},
     "output_type": "execute_result"
    }
   ],
   "source": [
    "(df.iloc[1].BlueTeamTotalGoldDifference, df.iloc[1].RedTeamTotalGoldDifference)"
   ]
  },
  {
   "cell_type": "code",
   "execution_count": 7,
   "id": "daf1c522",
   "metadata": {},
   "outputs": [],
   "source": [
    "# for index, value in enumerate(df.iterrows()):\n",
    "#     total = 0\n",
    "#     col='killsplayer_'\n",
    "#     for i in range(1, 6):\n",
    "#         value = int(df.iloc[index][f'{col}{i}'])\n",
    "#         if (value>total):\n",
    "#             total = value\n",
    "    \n",
    "#     df.at[index, 'BlueTeamMVPKills'] = total\n",
    "#     total = 0\n",
    "    \n",
    "#     for i in range(6, 11):\n",
    "#         value = int(df.iloc[index][f'{col}{i}'])\n",
    "#         if (value>total):\n",
    "#             total = value\n",
    "            \n",
    "#     df.at[index, 'RedTeamMVPKills'] = total"
   ]
  },
  {
   "cell_type": "code",
   "execution_count": 8,
   "id": "f2381c99",
   "metadata": {},
   "outputs": [
    {
     "data": {
      "text/plain": [
       "(4.0, 10.0)"
      ]
     },
     "execution_count": 8,
     "metadata": {},
     "output_type": "execute_result"
    }
   ],
   "source": [
    "df.iloc[1].BlueTeamMVPKills, df.iloc[1].RedTeamMVPKills"
   ]
  },
  {
   "cell_type": "code",
   "execution_count": 9,
   "id": "951d8f18",
   "metadata": {},
   "outputs": [
    {
     "name": "stdout",
     "output_type": "stream",
     "text": [
      "4.0\n",
      "1.0\n",
      "4.0\n",
      "0.0\n",
      "4.0\n"
     ]
    }
   ],
   "source": [
    "for i in range(1,6):\n",
    "    print(df.iloc[1][f'killsplayer_{i}'])"
   ]
  },
  {
   "cell_type": "code",
   "execution_count": 10,
   "id": "257d4485",
   "metadata": {},
   "outputs": [
    {
     "name": "stdout",
     "output_type": "stream",
     "text": [
      "5.0\n",
      "10.0\n",
      "5.0\n",
      "8.0\n",
      "3.0\n"
     ]
    }
   ],
   "source": [
    "for i in range(6,11):\n",
    "    print(df.iloc[1][f'killsplayer_{i}'])"
   ]
  },
  {
   "cell_type": "code",
   "execution_count": null,
   "id": "15c6f2d5",
   "metadata": {},
   "outputs": [],
   "source": []
  }
 ],
 "metadata": {
  "kernelspec": {
   "display_name": "Python 3",
   "language": "python",
   "name": "python3"
  },
  "language_info": {
   "codemirror_mode": {
    "name": "ipython",
    "version": 3
   },
   "file_extension": ".py",
   "mimetype": "text/x-python",
   "name": "python",
   "nbconvert_exporter": "python",
   "pygments_lexer": "ipython3",
   "version": "3.8.8"
  }
 },
 "nbformat": 4,
 "nbformat_minor": 5
}
