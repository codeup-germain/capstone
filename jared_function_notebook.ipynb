{
 "cells": [
  {
   "cell_type": "code",
   "execution_count": 1,
   "id": "7e0bd53f",
   "metadata": {},
   "outputs": [],
   "source": [
    "import requests\n",
    "import pandas as pd\n",
    "import numpy as np\n",
    "from bs4 import BeautifulSoup\n",
    "from env import api_key\n",
    "import time\n",
    "\n",
    "pd.set_option(\"display.max_rows\", None, \"display.max_columns\", None)\n",
    "\n",
    "pd.reset_option(\"display.max_rows\", \"display.max_columns\")\n",
    "\n",
    "import re"
   ]
  },
  {
   "cell_type": "code",
   "execution_count": 2,
   "id": "bf9c00d1",
   "metadata": {},
   "outputs": [],
   "source": [
    "time.sleep(10)"
   ]
  },
  {
   "cell_type": "code",
   "execution_count": 6,
   "id": "3c2ca592",
   "metadata": {},
   "outputs": [
    {
     "name": "stdout",
     "output_type": "stream",
     "text": [
      "0\n",
      "100\n",
      "1\n",
      "101\n",
      "2\n",
      "102\n",
      "3\n",
      "103\n",
      "4\n",
      "104\n",
      "5\n",
      "105\n",
      "6\n",
      "106\n",
      "7\n",
      "107\n",
      "8\n",
      "108\n",
      "9\n",
      "109\n"
     ]
    }
   ],
   "source": [
    "for n,i in enumerate(range(10)):\n",
    "    print(n)\n",
    "    print(i+100)"
   ]
  },
  {
   "cell_type": "code",
   "execution_count": 8,
   "id": "4afdd81e",
   "metadata": {},
   "outputs": [],
   "source": [
    "match_list = pd.read_csv('chris_match.csv')"
   ]
  },
  {
   "cell_type": "code",
   "execution_count": 12,
   "id": "9a2ca40e",
   "metadata": {},
   "outputs": [],
   "source": [
    "match = match_list['0'][0]"
   ]
  },
  {
   "cell_type": "code",
   "execution_count": null,
   "id": "ab6556b2",
   "metadata": {},
   "outputs": [],
   "source": []
  },
  {
   "cell_type": "code",
   "execution_count": null,
   "id": "3568c5d8",
   "metadata": {},
   "outputs": [],
   "source": [
    "from time import sleep\n",
    "def get_json_list(match_list,api_key):\n",
    "    url = 'https://americas.api.riotgames.com/'\n",
    "\n",
    "    json_list = []\n",
    "\n",
    "    for match,i in enumerate(match_list):\n",
    "        if i%100 == 0:\n",
    "            print('waiting')\n",
    "            sleep(160)\n",
    "            query = f'lol/match/v5/matches/{match}/timeline/?api_key={api_key}'\n",
    "            query2 = f'lol/match/v5/matches/{match}/timeline/?api_key={api_key}'\n",
    "            response = requests.get(url+query)\n",
    "            json_list.append(response.json())\n",
    "        else:\n",
    "            query = f'lol/match/v5/matches/{match}/timeline/?api_key={api_key}'\n",
    "            response = requests.get(url+query)\n",
    "            json_list.append(response.json())\n",
    "    return json_list"
   ]
  },
  {
   "cell_type": "code",
   "execution_count": 13,
   "id": "05b3b726",
   "metadata": {},
   "outputs": [],
   "source": [
    "def prepare(jsonList, jsonList2,time):\n",
    "    df = pd.DataFrame()\n",
    "    \n",
    "    for index, data in enumerate(jsonList):\n",
    "        if ((data['info']['frames'][-1]['events'][-1]['timestamp']/60000) >= 20) & (str(jsonList2[index]['info']['gameMode'])=='CLASSIC'):\n",
    "            final_d = {}\n",
    "            kda = get_player_kda(data, time)\n",
    "            final_d.update(kda)\n",
    "            final_d.update(get_player_stats(data, time))\n",
    "            final_d[\"gameMode\"] = str(jsonList2[index]['info']['gameMode'])\n",
    "            final_d[\"gameType\"] = str(jsonList2[index]['info']['gameType'])\n",
    "            final_d['gameVersion'] = str(jsonList2[index]['info']['gameVersion'])\n",
    "            df = df.append(final_d, ignore_index=True)\n",
    "            \n",
    "            print(f\"Finished with: {index} of {len(jsonList)}\")\n",
    "        else:\n",
    "            print(f\"Skipping: {index} due to <20 min or not classic\")\n",
    "    \n",
    "    df = clean(df)\n",
    "    return df\n",
    "\n",
    "def clean(df):\n",
    "    return df\n",
    "\n",
    "def get_player_kda(data, time):\n",
    "    df = pd.DataFrame()\n",
    "    for index in range(len(data['info']['frames'])):\n",
    "        for event in data['info']['frames'][index]['events']:\n",
    "            if event['type'] == 'CHAMPION_KILL':\n",
    "                df = df.append(event, ignore_index =True)\n",
    "            \n",
    "\n",
    "    df.timestamp = df.timestamp / 60_000\n",
    "\n",
    "    kills_df = df[(df.type== 'CHAMPION_KILL') & (df.timestamp <= time)]\n",
    "\n",
    "    d = {}\n",
    "    mylist = []\n",
    "    for value in kills_df.assistingParticipantIds:\n",
    "        if type(value) == list:\n",
    "            for assist in value:\n",
    "                mylist.append(assist)\n",
    "    temp = pd.DataFrame(mylist)\n",
    "\n",
    "    for index, player in enumerate(kills_df.killerId.value_counts().sort_index()):\n",
    "\n",
    "        # Grabbing kills and saving values to same dictionary\n",
    "        d['killsplayer_'+str(int(kills_df.killerId.value_counts().sort_index().index[index]))] =\\\n",
    "        kills_df.killerId.value_counts().sort_index().iloc[index]\n",
    "\n",
    "        # Grabbing deaths and saving values to same dictionary\n",
    "    for index, player in enumerate(kills_df.victimId.value_counts().sort_index()):\n",
    "        d['deathsplayer_'+str(int(kills_df.victimId.value_counts().sort_index().index[index]))] =\\\n",
    "        kills_df.victimId.value_counts().sort_index().iloc[index]\n",
    "\n",
    "        # Grabbing assists and saving values to same dictionary\n",
    "    for index, player in enumerate(temp[0].value_counts().sort_index()):\n",
    "        d['assistsplayer_'+str(temp[0].value_counts().sort_index().index[index])] = temp.value_counts().sort_index().iloc[index]\n",
    "\n",
    "    df = pd.DataFrame()\n",
    "    for index in range(len(data['info']['frames'])):\n",
    "        for event in data['info']['frames'][index]['events']:\n",
    "            if event['type'] == 'ELITE_MONSTER_KILL':\n",
    "                df = df.append(event, ignore_index =True)\n",
    "            elif event['type']== 'GAME_END':\n",
    "                df = df.append(event, ignore_index =True)\n",
    "\n",
    "    kills_df = df[df.type == 'ELITE_MONSTER_KILL']\n",
    "    for index, player in enumerate(kills_df[kills_df.monsterType=='DRAGON'].killerTeamId.value_counts().sort_index()):\n",
    "\n",
    "        # Grabbing dragons and saving values to same dictionary\n",
    "        d['dragon_team'+str(int(kills_df[kills_df.monsterType=='DRAGON'].killerTeamId.value_counts().sort_index().index[index]))] =\\\n",
    "        kills_df[kills_df.monsterType=='DRAGON'].killerTeamId.value_counts().sort_index().iloc[index]\n",
    "\n",
    "    for index, player in enumerate(kills_df[kills_df.monsterType=='RIFTHERALD'].killerTeamId.value_counts().sort_index()):\n",
    "\n",
    "        # Grabbing riftherald and saving values to same dictionary\n",
    "        d['riftherald_team'+str(int(kills_df[kills_df.monsterType=='RIFTHERALD'].killerTeamId.value_counts().sort_index().index[index]))] =\\\n",
    "        kills_df[kills_df.monsterType=='RIFTHERALD'].killerTeamId.value_counts().sort_index().iloc[index]\n",
    "\n",
    "    for index, player in enumerate(kills_df[kills_df.monsterType=='BARON_NASHOR'].killerTeamId.value_counts().sort_index()):\n",
    "\n",
    "        # Grabbing baron and saving values to same dictionary\n",
    "        d['baron_team'+str(int(kills_df[kills_df.monsterType=='BARON_NASHOR'].killerTeamId.value_counts().sort_index().index[index]))] =\\\n",
    "        kills_df[kills_df.monsterType=='BARON_NASHOR'].killerTeamId.value_counts().sort_index().iloc[index]\n",
    "\n",
    "    # Grabbing target, winning team\n",
    "    d['winningTeam'] = int(df[df.type == 'GAME_END'].winningTeam)\n",
    "\n",
    "    df = pd.DataFrame()\n",
    "    for index in range(len(data['info']['frames'])):\n",
    "        for event in data['info']['frames'][index]['events']:\n",
    "            if event['type'] == 'WARD_PLACED':\n",
    "                df = df.append(event, ignore_index =True)\n",
    "\n",
    "    kills_df = df[df.type == 'WARD_PLACED']\n",
    "    for index, player in enumerate(kills_df[kills_df.type=='WARD_PLACED'].creatorId.value_counts().sort_index()):\n",
    "\n",
    "        # Grabbing baron and saving values to same dictionary\n",
    "        d['ward_player_'+str(int(kills_df[kills_df.type=='WARD_PLACED'].creatorId.value_counts().sort_index().index[index]))] =\\\n",
    "        kills_df[kills_df.type=='WARD_PLACED'].creatorId.value_counts().sort_index().iloc[index]\n",
    "    df = pd.DataFrame()\n",
    "    \n",
    "    for index in range(len(data['info']['frames'])):\n",
    "        for event in data['info']['frames'][index]['events']:\n",
    "            if event['type'] == 'BUILDING_KILL':\n",
    "                df = df.append(event, ignore_index =True)\n",
    "\n",
    "    kills_df = df[df.type == 'BUILDING_KILL']\n",
    "\n",
    "    for index, player in enumerate(kills_df[kills_df.buildingType =='TOWER_BUILDING'].teamId.value_counts().sort_index()):\n",
    "\n",
    "        # Grabbing baron and saving values to same dictionary\n",
    "        d['towers_lost_team'+str(int(kills_df[kills_df.buildingType =='TOWER_BUILDING'].teamId.value_counts().sort_index().index[index]))] =\\\n",
    "        kills_df[kills_df.buildingType =='TOWER_BUILDING'].teamId.value_counts().sort_index().iloc[index]\n",
    "    \n",
    "    for index, player in enumerate(kills_df[kills_df.buildingType =='INHIBITOR_BUILDING'].teamId.value_counts().sort_index()):\n",
    "\n",
    "        # Grabbing baron and saving values to same dictionary\n",
    "        d['inhibs_lost_team'+str(int(kills_df[kills_df.buildingType =='INHIBITOR_BUILDING'].teamId.value_counts().sort_index().index[index]))] =\\\n",
    "        kills_df[kills_df.buildingType =='INHIBITOR_BUILDING'].teamId.value_counts().sort_index().iloc[index]\n",
    "\n",
    "\n",
    "    return d\n",
    "\n",
    "def get_player_stats(data, time):\n",
    "    player_stats = []\n",
    "\n",
    "    #Here, each timeframe represents about one minute\n",
    "    timeframe = data['info']['frames'][time]\n",
    "    players = timeframe['participantFrames']\n",
    "    #Now create a dicitonary to hold the players' stats from this timeframe\n",
    "    players_dict = {}\n",
    "    for i in range(1, len(players) + 1):\n",
    "        #Now create a temp dict to store the current players stats\n",
    "        #Use formatted strings to automatically increment the player label\n",
    "        temp_dict = {\n",
    "            f'currentGold_{i}': players[str(i)]['currentGold'],\n",
    "            f'magicDamageDoneToChampions_{i}': players[str(i)]['damageStats']['magicDamageDoneToChampions'],\n",
    "            f'physicalDamageDoneToChampions_{i}': players[str(i)]['damageStats']['physicalDamageDoneToChampions'],\n",
    "            f'trueDamageDoneToChampions_{i}': players[str(i)]['damageStats']['trueDamageDoneToChampions'],\n",
    "            f'totalDamageDoneToChampions_{i}': players[str(i)]['damageStats']['totalDamageDoneToChampions'],\n",
    "            f'goldPerSecond_{i}': players[str(i)]['goldPerSecond'],\n",
    "            f'jungleMinionsKilled_{i}': players[str(i)]['jungleMinionsKilled'],\n",
    "            f'level_{i}': players[str(i)]['level'],\n",
    "            f'minionsKilled_{i}': players[str(i)]['minionsKilled'],\n",
    "            f'timeEnemySpentControlled_{i}': players[str(i)]['timeEnemySpentControlled'],\n",
    "            f'totalGold_{i}': players[str(i)]['totalGold'],\n",
    "            f'xp_{i}': players[str(i)]['xp']\n",
    "            }\n",
    "        #Now that I have the current players stats, extend it to the overall players_dict\n",
    "        players_dict.update(temp_dict)\n",
    "    #Update the players_dict one more time with the timestamp for the timeframe\n",
    "    players_dict.update({'timestamp' : timeframe['timestamp']})\n",
    "    #Append the players_dict to the overall player_stats list of dicts\n",
    "    player_stats.append(players_dict)\n",
    "    return player_stats[0]"
   ]
  },
  {
   "cell_type": "code",
   "execution_count": 19,
   "id": "42a601ed",
   "metadata": {},
   "outputs": [
    {
     "data": {
      "text/plain": [
       "['NA1_4098742051',\n",
       " 'NA1_4098623140',\n",
       " 'NA1_4098608600',\n",
       " 'NA1_4098575608',\n",
       " 'NA1_4098098411']"
      ]
     },
     "execution_count": 19,
     "metadata": {},
     "output_type": "execute_result"
    }
   ],
   "source": [
    "df = pd.read_csv('chris_match.csv')\n",
    "df = df.rename(columns={'0':\"matchlist\"})\n",
    "match_ids = list(df.matchlist)\n",
    "match_ids[10:15]"
   ]
  },
  {
   "cell_type": "code",
   "execution_count": 20,
   "id": "70331ede",
   "metadata": {},
   "outputs": [],
   "source": [
    "jsonList=[]\n",
    "jsonList2 = []"
   ]
  },
  {
   "cell_type": "code",
   "execution_count": 23,
   "id": "3354f828",
   "metadata": {},
   "outputs": [],
   "source": [
    "url = 'https://americas.api.riotgames.com/'\n",
    "\n",
    "for x in range(90, 95):\n",
    "    game = match_ids[x]\n",
    "    \n",
    "    query = f'lol/match/v5/matches/{game}/timeline/?api_key={api_key}'\n",
    "    query2 = f'lol/match/v5/matches/{game}?api_key={api_key}'\n",
    "    response = requests.get(url+query)\n",
    "    response2 = requests.get(url+query2)\n",
    "    jsonList.append(response.json())\n",
    "    jsonList2.append(response2.json())"
   ]
  },
  {
   "cell_type": "code",
   "execution_count": 24,
   "id": "475c55ce",
   "metadata": {},
   "outputs": [
    {
     "data": {
      "text/plain": [
       "[{'status': {'message': 'Forbidden', 'status_code': 403}},\n",
       " {'status': {'message': 'Forbidden', 'status_code': 403}},\n",
       " {'status': {'message': 'Forbidden', 'status_code': 403}},\n",
       " {'status': {'message': 'Forbidden', 'status_code': 403}},\n",
       " {'status': {'message': 'Forbidden', 'status_code': 403}},\n",
       " {'status': {'message': 'Forbidden', 'status_code': 403}},\n",
       " {'status': {'message': 'Forbidden', 'status_code': 403}},\n",
       " {'status': {'message': 'Forbidden', 'status_code': 403}},\n",
       " {'status': {'message': 'Forbidden', 'status_code': 403}},\n",
       " {'status': {'message': 'Forbidden', 'status_code': 403}}]"
      ]
     },
     "execution_count": 24,
     "metadata": {},
     "output_type": "execute_result"
    }
   ],
   "source": [
    "jsonList"
   ]
  },
  {
   "cell_type": "code",
   "execution_count": 22,
   "id": "2b459c16",
   "metadata": {},
   "outputs": [
    {
     "ename": "KeyError",
     "evalue": "'info'",
     "output_type": "error",
     "traceback": [
      "\u001b[0;31m---------------------------------------------------------------------------\u001b[0m",
      "\u001b[0;31mKeyError\u001b[0m                                  Traceback (most recent call last)",
      "\u001b[0;32m<ipython-input-22-b161705a894c>\u001b[0m in \u001b[0;36m<module>\u001b[0;34m\u001b[0m\n\u001b[0;32m----> 1\u001b[0;31m \u001b[0mdf\u001b[0m \u001b[0;34m=\u001b[0m \u001b[0mprepare\u001b[0m\u001b[0;34m(\u001b[0m\u001b[0mjsonList\u001b[0m\u001b[0;34m,\u001b[0m \u001b[0mjsonList2\u001b[0m\u001b[0;34m,\u001b[0m \u001b[0;36m20\u001b[0m\u001b[0;34m)\u001b[0m\u001b[0;34m\u001b[0m\u001b[0;34m\u001b[0m\u001b[0m\n\u001b[0m",
      "\u001b[0;32m<ipython-input-13-f8bcf46e96df>\u001b[0m in \u001b[0;36mprepare\u001b[0;34m(jsonList, jsonList2, time)\u001b[0m\n\u001b[1;32m      3\u001b[0m \u001b[0;34m\u001b[0m\u001b[0m\n\u001b[1;32m      4\u001b[0m     \u001b[0;32mfor\u001b[0m \u001b[0mindex\u001b[0m\u001b[0;34m,\u001b[0m \u001b[0mdata\u001b[0m \u001b[0;32min\u001b[0m \u001b[0menumerate\u001b[0m\u001b[0;34m(\u001b[0m\u001b[0mjsonList\u001b[0m\u001b[0;34m)\u001b[0m\u001b[0;34m:\u001b[0m\u001b[0;34m\u001b[0m\u001b[0;34m\u001b[0m\u001b[0m\n\u001b[0;32m----> 5\u001b[0;31m         \u001b[0;32mif\u001b[0m \u001b[0;34m(\u001b[0m\u001b[0;34m(\u001b[0m\u001b[0mdata\u001b[0m\u001b[0;34m[\u001b[0m\u001b[0;34m'info'\u001b[0m\u001b[0;34m]\u001b[0m\u001b[0;34m[\u001b[0m\u001b[0;34m'frames'\u001b[0m\u001b[0;34m]\u001b[0m\u001b[0;34m[\u001b[0m\u001b[0;34m-\u001b[0m\u001b[0;36m1\u001b[0m\u001b[0;34m]\u001b[0m\u001b[0;34m[\u001b[0m\u001b[0;34m'events'\u001b[0m\u001b[0;34m]\u001b[0m\u001b[0;34m[\u001b[0m\u001b[0;34m-\u001b[0m\u001b[0;36m1\u001b[0m\u001b[0;34m]\u001b[0m\u001b[0;34m[\u001b[0m\u001b[0;34m'timestamp'\u001b[0m\u001b[0;34m]\u001b[0m\u001b[0;34m/\u001b[0m\u001b[0;36m60000\u001b[0m\u001b[0;34m)\u001b[0m \u001b[0;34m>=\u001b[0m \u001b[0;36m20\u001b[0m\u001b[0;34m)\u001b[0m \u001b[0;34m&\u001b[0m \u001b[0;34m(\u001b[0m\u001b[0mstr\u001b[0m\u001b[0;34m(\u001b[0m\u001b[0mjsonList2\u001b[0m\u001b[0;34m[\u001b[0m\u001b[0mindex\u001b[0m\u001b[0;34m]\u001b[0m\u001b[0;34m[\u001b[0m\u001b[0;34m'info'\u001b[0m\u001b[0;34m]\u001b[0m\u001b[0;34m[\u001b[0m\u001b[0;34m'gameMode'\u001b[0m\u001b[0;34m]\u001b[0m\u001b[0;34m)\u001b[0m\u001b[0;34m==\u001b[0m\u001b[0;34m'CLASSIC'\u001b[0m\u001b[0;34m)\u001b[0m\u001b[0;34m:\u001b[0m\u001b[0;34m\u001b[0m\u001b[0;34m\u001b[0m\u001b[0m\n\u001b[0m\u001b[1;32m      6\u001b[0m             \u001b[0mfinal_d\u001b[0m \u001b[0;34m=\u001b[0m \u001b[0;34m{\u001b[0m\u001b[0;34m}\u001b[0m\u001b[0;34m\u001b[0m\u001b[0;34m\u001b[0m\u001b[0m\n\u001b[1;32m      7\u001b[0m             \u001b[0mkda\u001b[0m \u001b[0;34m=\u001b[0m \u001b[0mget_player_kda\u001b[0m\u001b[0;34m(\u001b[0m\u001b[0mdata\u001b[0m\u001b[0;34m,\u001b[0m \u001b[0mtime\u001b[0m\u001b[0;34m)\u001b[0m\u001b[0;34m\u001b[0m\u001b[0;34m\u001b[0m\u001b[0m\n",
      "\u001b[0;31mKeyError\u001b[0m: 'info'"
     ]
    }
   ],
   "source": [
    "df = prepare(jsonList, jsonList2, 20)"
   ]
  },
  {
   "cell_type": "code",
   "execution_count": null,
   "id": "57849a82",
   "metadata": {},
   "outputs": [],
   "source": [
    "df = df.fillna(0)"
   ]
  },
  {
   "cell_type": "code",
   "execution_count": null,
   "id": "54105dcd",
   "metadata": {},
   "outputs": [],
   "source": [
    "columns=['deathsplayer_',\n",
    "'goldPerSecond_',\n",
    "'jungleMinionsKilled_',\n",
    "'killsplayer_',\n",
    "'level_',\n",
    "'magicDamageDoneToChampions_',\n",
    "'minionsKilled_',\n",
    "'physicalDamageDoneToChampions_',\n",
    "'timeEnemySpentControlled_',\n",
    "'totalDamageDoneToChampions_',\n",
    "'totalGold_',\n",
    "'trueDamageDoneToChampions_',\n",
    "'ward_player_',\n",
    "'assistsplayer_',\n",
    "'xp_']"
   ]
  },
  {
   "cell_type": "code",
   "execution_count": 14,
   "id": "267bed38",
   "metadata": {},
   "outputs": [
    {
     "ename": "NameError",
     "evalue": "name 'columns' is not defined",
     "output_type": "error",
     "traceback": [
      "\u001b[0;31m---------------------------------------------------------------------------\u001b[0m",
      "\u001b[0;31mNameError\u001b[0m                                 Traceback (most recent call last)",
      "\u001b[0;32m<ipython-input-14-8bd92542aacb>\u001b[0m in \u001b[0;36m<module>\u001b[0;34m\u001b[0m\n\u001b[0;32m----> 1\u001b[0;31m \u001b[0;32mfor\u001b[0m \u001b[0mcol\u001b[0m \u001b[0;32min\u001b[0m \u001b[0mcolumns\u001b[0m\u001b[0;34m:\u001b[0m\u001b[0;34m\u001b[0m\u001b[0;34m\u001b[0m\u001b[0m\n\u001b[0m\u001b[1;32m      2\u001b[0m \u001b[0;34m\u001b[0m\u001b[0m\n\u001b[1;32m      3\u001b[0m     \u001b[0mtotal\u001b[0m \u001b[0;34m=\u001b[0m \u001b[0;36m0\u001b[0m\u001b[0;34m\u001b[0m\u001b[0;34m\u001b[0m\u001b[0m\n\u001b[1;32m      4\u001b[0m \u001b[0;34m\u001b[0m\u001b[0m\n\u001b[1;32m      5\u001b[0m     \u001b[0;32mfor\u001b[0m \u001b[0mi\u001b[0m \u001b[0;32min\u001b[0m \u001b[0mrange\u001b[0m\u001b[0;34m(\u001b[0m\u001b[0;36m1\u001b[0m\u001b[0;34m,\u001b[0m \u001b[0;36m6\u001b[0m\u001b[0;34m)\u001b[0m\u001b[0;34m:\u001b[0m\u001b[0;34m\u001b[0m\u001b[0;34m\u001b[0m\u001b[0m\n",
      "\u001b[0;31mNameError\u001b[0m: name 'columns' is not defined"
     ]
    }
   ],
   "source": [
    "for col in columns:\n",
    "    \n",
    "    total = 0\n",
    "    \n",
    "    for i in range(1, 6):\n",
    "        total += int(df.iloc[0][f'{col}{i}'])\n",
    "    #df.iloc[0]\n",
    "        df.iloc[0][f'team_{col}100'] = total\n",
    "\n",
    "    total = 0\n",
    "    \n",
    "    for i in range(6, 11):\n",
    "        total += int(df.iloc[0][f'{col}{i}'])\n",
    "    #df.iloc[0]\n",
    "        df.iloc[f'team_{col}200'] = total"
   ]
  },
  {
   "cell_type": "code",
   "execution_count": null,
   "id": "34d9314b",
   "metadata": {},
   "outputs": [],
   "source": []
  }
 ],
 "metadata": {
  "kernelspec": {
   "display_name": "Python 3",
   "language": "python",
   "name": "python3"
  },
  "language_info": {
   "codemirror_mode": {
    "name": "ipython",
    "version": 3
   },
   "file_extension": ".py",
   "mimetype": "text/x-python",
   "name": "python",
   "nbconvert_exporter": "python",
   "pygments_lexer": "ipython3",
   "version": "3.8.8"
  }
 },
 "nbformat": 4,
 "nbformat_minor": 5
}
