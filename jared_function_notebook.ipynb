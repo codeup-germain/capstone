{
 "cells": [
  {
   "cell_type": "code",
   "execution_count": 1,
   "id": "0527c496",
   "metadata": {},
   "outputs": [],
   "source": [
    "import requests\n",
    "import pandas as pd\n",
    "import numpy as np\n",
    "from bs4 import BeautifulSoup\n",
    "from env import api_key\n",
    "import time\n",
    "\n",
    "pd.set_option(\"display.max_rows\", None, \"display.max_columns\", None)\n",
    "\n",
    "pd.reset_option(\"display.max_rows\", \"display.max_columns\")\n",
    "\n",
    "import re"
   ]
  },
  {
   "cell_type": "code",
   "execution_count": 2,
   "id": "6b4d73f8",
   "metadata": {},
   "outputs": [],
   "source": [
    "time.sleep(10)"
   ]
  },
  {
   "cell_type": "code",
   "execution_count": 6,
   "id": "c5be6ab0",
   "metadata": {},
   "outputs": [
    {
     "name": "stdout",
     "output_type": "stream",
     "text": [
      "0\n",
      "100\n",
      "1\n",
      "101\n",
      "2\n",
      "102\n",
      "3\n",
      "103\n",
      "4\n",
      "104\n",
      "5\n",
      "105\n",
      "6\n",
      "106\n",
      "7\n",
      "107\n",
      "8\n",
      "108\n",
      "9\n",
      "109\n"
     ]
    }
   ],
   "source": [
    "for n,i in enumerate(range(10)):\n",
    "    print(n)\n",
    "    print(i+100)"
   ]
  },
  {
   "cell_type": "code",
   "execution_count": 8,
   "id": "d4bc28ca",
   "metadata": {},
   "outputs": [],
   "source": [
    "match_list = pd.read_csv('chris_match.csv')"
   ]
  },
  {
   "cell_type": "code",
   "execution_count": 12,
   "id": "2d4f1c1b",
   "metadata": {},
   "outputs": [],
   "source": [
    "match = match_list['0'][0]"
   ]
  },
  {
   "cell_type": "code",
   "execution_count": null,
   "id": "759ec935",
   "metadata": {},
   "outputs": [],
   "source": []
  },
  {
   "cell_type": "code",
   "execution_count": null,
   "id": "f1b95797",
   "metadata": {},
   "outputs": [],
   "source": [
    "from time import sleep\n",
    "def get_json_list(match_list,api_key):\n",
    "    url = 'https://americas.api.riotgames.com/'\n",
    "\n",
    "    json_list = []\n",
    "\n",
    "    for match,i in enumerate(match_list):\n",
    "        if i%100 == 0:\n",
    "            print('waiting')\n",
    "            sleep(160)\n",
    "            query = f'lol/match/v5/matches/{match}/timeline/?api_key={api_key}'\n",
    "            query2 = f'lol/match/v5/matches/{match}/timeline/?api_key={api_key}'\n",
    "            response = requests.get(url+query)\n",
    "            json_list.append(response.json())\n",
    "        else:\n",
    "            query = f'lol/match/v5/matches/{match}/timeline/?api_key={api_key}'\n",
    "            response = requests.get(url+query)\n",
    "            json_list.append(response.json())\n",
    "    return json_list"
   ]
  },
  {
   "cell_type": "code",
   "execution_count": null,
   "id": "afe53277",
   "metadata": {},
   "outputs": [],
   "source": []
  }
 ],
 "metadata": {
  "kernelspec": {
   "display_name": "Python 3",
   "language": "python",
   "name": "python3"
  },
  "language_info": {
   "codemirror_mode": {
    "name": "ipython",
    "version": 3
   },
   "file_extension": ".py",
   "mimetype": "text/x-python",
   "name": "python",
   "nbconvert_exporter": "python",
   "pygments_lexer": "ipython3",
   "version": "3.8.8"
  }
 },
 "nbformat": 4,
 "nbformat_minor": 5
}
