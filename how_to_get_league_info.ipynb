{
 "cells": [
  {
   "cell_type": "code",
<<<<<<< HEAD
   "execution_count": 17,
   "id": "9e3cd8bf",
=======
   "execution_count": 1,
<<<<<<< HEAD
   "id": "adb467f3",
=======
   "id": "e9ad35e7",
>>>>>>> 72e0f6701e180814c3913ec65820b15d72b05776
>>>>>>> 41664c44e1f62a2c7ab9a383fc8f4fbecba2b9b3
   "metadata": {},
   "outputs": [],
   "source": [
    "import requests\n",
    "import pandas as pd\n",
    "import numpy as np\n",
    "from bs4 import BeautifulSoup\n",
    "from env import api_key\n",
    "import time\n",
    "\n",
    "pd.set_option(\"display.max_rows\", None, \"display.max_columns\", None)\n",
    "\n",
    "pd.reset_option(\"display.max_rows\", \"display.max_columns\")\n",
    "\n",
    "import re\n",
    "from time import sleep"
   ]
  },
  {
   "cell_type": "code",
<<<<<<< HEAD
   "execution_count": 28,
   "id": "b538a729",
=======
   "execution_count": 6,
<<<<<<< HEAD
   "id": "0d2f9832",
=======
   "id": "66fe03cf",
>>>>>>> 72e0f6701e180814c3913ec65820b15d72b05776
>>>>>>> 41664c44e1f62a2c7ab9a383fc8f4fbecba2b9b3
   "metadata": {},
   "outputs": [],
   "source": [
    "def automated_puuid(name_list,username_df,api_key):\n",
    "    df = get_puuid(name_list,username_df,api_key)\n",
    "    puuid_list = df.puuid\n",
    "    matches = get_match_ids(puuid_list, api_key)\n",
    "    return matches"
   ]
  },
  {
   "cell_type": "code",
<<<<<<< HEAD
   "execution_count": 29,
   "id": "f88ca6d3",
=======
   "execution_count": 22,
<<<<<<< HEAD
   "id": "a4fec991",
=======
   "id": "41b21aa8",
>>>>>>> 72e0f6701e180814c3913ec65820b15d72b05776
>>>>>>> 41664c44e1f62a2c7ab9a383fc8f4fbecba2b9b3
   "metadata": {},
   "outputs": [],
   "source": [
    "def get_match_ids(puuids, api_key):\n",
    "    \"\"\"\n",
    "    This function takes in a list of puuids and a riot games api key to gather\n",
    "    and return a list of match ids.\n",
    "    \"\"\"\n",
    "    \n",
    "    #Create an empty list to store the match ids\n",
    "    matches = []\n",
    "    \n",
    "    #Set the base url\n",
    "    url = 'https://americas.api.riotgames.com/'\n",
    "    \n",
    "    #Set a counter var\n",
    "    n = 0\n",
    "    \n",
    "    #Create another var to store the length of puuids\n",
    "    num_puuids = len(puuids)\n",
    "    \n",
    "    #Loop through the puuids and gather 100 match ids from each of them\n",
    "    for puuid in puuids:\n",
    "        #Update counter\n",
    "        n += 1\n",
    "        \n",
    "        #Build the query\n",
    "        query = f'lol/match/v5/matches/by-puuid/{puuid}/ids?start=0&count=100&api_key={api_key}'\n",
    "\n",
    "        #Get the response\n",
    "        response = requests.get(url + query)\n",
    "\n",
    "        #Check response and leave a status message\n",
    "        if response.status_code != 200:\n",
    "            print(f'Something went wrong! Status Code {response.status_code} for puuid {puuid}. Skipping this puuid.\\n')\n",
    "            continue\n",
    "\n",
    "        #Unpack the response as json\n",
    "        #This should be a list of match ids\n",
    "        data = response.json()\n",
    "\n",
    "        #Extend the matches list with the data\n",
    "        matches.extend(data)\n",
    "        sleep(180)\n",
    "\n",
    "\n",
<<<<<<< HEAD
    "    #Leave a status message after every 2 iterations (~6 minutes)\n",
    "        if n % 2 == 0:\n",
    "            print(f'Completed {n} of {num_puuids} puuids.')\n",
    "            print(f'Total match IDs gathered: {len(matches)}\\n')\n",
=======
    "        #Leave a status message after every 2 iterations (~6 minutes)\n",
    "        if n % 2 == 0:\n",
    "            print(f'Completed {n} of {num_puuids} puuids.')\n",
    "            print(f'Total match IDs gathered: {len(matches)}\\n')\n",
    "\n",
    "    \n",
>>>>>>> 41664c44e1f62a2c7ab9a383fc8f4fbecba2b9b3
    "\n",
    "    return matches"
   ]
  },
  {
   "cell_type": "code",
<<<<<<< HEAD
   "execution_count": 30,
   "id": "3338c1cf",
=======
   "execution_count": 8,
<<<<<<< HEAD
   "id": "9858006d",
=======
   "id": "421992b8",
>>>>>>> 72e0f6701e180814c3913ec65820b15d72b05776
>>>>>>> 41664c44e1f62a2c7ab9a383fc8f4fbecba2b9b3
   "metadata": {},
   "outputs": [],
   "source": [
    "def get_puuid(name_list,df,api_key):\n",
    "    counter = 0\n",
    "    for name in name_list:\n",
    "        print(counter)\n",
    "        counter += 1\n",
    "        if counter%50 == 0:\n",
    "            print('function paused')\n",
    "            print\n",
    "            time.sleep(180)\n",
    "            print('Continue')\n",
    "            response = requests.get(f\"https://na1.api.riotgames.com/lol/summoner/v4/summoners/by-name/{name}?api_key={api_key}\")\n",
    "            summoner_info = response.json()\n",
    "            if len(summoner_info) == 7:\n",
    "                info = {'puuid':summoner_info['puuid'],\n",
    "                       'username':summoner_info['name']}\n",
    "                df = df.append(info,ignore_index = True)\n",
    "            else:\n",
    "                print(summoner_info)\n",
    "        else:\n",
    "            response = requests.get(f\"https://na1.api.riotgames.com/lol/summoner/v4/summoners/by-name/{name}?api_key={api_key}\")\n",
    "            summoner_info = response.json()\n",
    "            if len(summoner_info) == 7:\n",
    "                info = {'puuid':summoner_info['puuid'],\n",
    "                       'username':summoner_info['name']}\n",
    "                df = df.append(info,ignore_index = True)\n",
    "            else:\n",
    "                print(summoner_info)\n",
    "    return df"
   ]
  },
  {
   "cell_type": "code",
<<<<<<< HEAD
   "execution_count": 31,
   "id": "f4eb1b88",
=======
   "execution_count": 9,
<<<<<<< HEAD
   "id": "331617e0",
=======
   "id": "707bf275",
>>>>>>> 72e0f6701e180814c3913ec65820b15d72b05776
>>>>>>> 41664c44e1f62a2c7ab9a383fc8f4fbecba2b9b3
   "metadata": {},
   "outputs": [],
   "source": [
    "#IMPORT 2640 players.csv\n",
    "df = pd.read_csv('2640_players.csv')"
   ]
  },
  {
   "cell_type": "code",
<<<<<<< HEAD
   "execution_count": 32,
   "id": "236f7e4d",
=======
   "execution_count": 12,
<<<<<<< HEAD
   "id": "07a81c36",
=======
   "id": "512e57af",
>>>>>>> 72e0f6701e180814c3913ec65820b15d72b05776
>>>>>>> 41664c44e1f62a2c7ab9a383fc8f4fbecba2b9b3
   "metadata": {},
   "outputs": [],
   "source": [
    "# make the players name column into a series\n",
    "player_list = df.players"
   ]
  },
  {
   "cell_type": "code",
<<<<<<< HEAD
   "execution_count": 33,
   "id": "e4371ce8",
=======
   "execution_count": 13,
<<<<<<< HEAD
   "id": "2330b1a5",
=======
   "id": "f598a040",
>>>>>>> 72e0f6701e180814c3913ec65820b15d72b05776
>>>>>>> 41664c44e1f62a2c7ab9a383fc8f4fbecba2b9b3
   "metadata": {},
   "outputs": [
    {
     "data": {
      "text/plain": [
       "2641"
      ]
     },
     "execution_count": 33,
     "metadata": {},
     "output_type": "execute_result"
    }
   ],
   "source": [
    "# 1-850 Joshua b\n",
    "# 800-1250 chris e\n",
    "# 1200-1650 johnathon s\n",
    "# 1600-2100 Joshua c\n",
    "# 2050: Jared v\n",
    "# example\n",
    "# new_player_list = player_list[1:500]\n",
    "# then put new_player_list into the automated_puuid(new_player_list,username_df,api_key)\n",
    "len(player_list)"
   ]
  },
  {
   "cell_type": "code",
<<<<<<< HEAD
   "execution_count": 34,
   "id": "95dc25dc",
=======
   "execution_count": 23,
<<<<<<< HEAD
   "id": "3ee4a3cd",
=======
   "id": "dc72c985",
>>>>>>> 72e0f6701e180814c3913ec65820b15d72b05776
>>>>>>> 41664c44e1f62a2c7ab9a383fc8f4fbecba2b9b3
   "metadata": {},
   "outputs": [],
   "source": [
    "test = player_list[1:2]"
   ]
  },
  {
   "cell_type": "code",
<<<<<<< HEAD
   "execution_count": 35,
   "id": "abdfd7d7",
=======
   "execution_count": 24,
<<<<<<< HEAD
   "id": "ffd974d2",
=======
   "id": "206a91c4",
>>>>>>> 72e0f6701e180814c3913ec65820b15d72b05776
>>>>>>> 41664c44e1f62a2c7ab9a383fc8f4fbecba2b9b3
   "metadata": {},
   "outputs": [
    {
     "data": {
      "text/plain": [
       "1    Blazze\n",
       "Name: players, dtype: object"
      ]
     },
     "execution_count": 35,
     "metadata": {},
     "output_type": "execute_result"
    }
   ],
   "source": [
    "test"
   ]
  },
  {
   "cell_type": "code",
<<<<<<< HEAD
   "execution_count": 36,
   "id": "ff9b14be",
=======
   "execution_count": 25,
<<<<<<< HEAD
   "id": "619194b5",
=======
   "id": "0fb271ed",
>>>>>>> 72e0f6701e180814c3913ec65820b15d72b05776
>>>>>>> 41664c44e1f62a2c7ab9a383fc8f4fbecba2b9b3
   "metadata": {},
   "outputs": [],
   "source": [
    "# make an empty dataframe\n",
    "puuid_df = pd.DataFrame(columns = ['puuid','username'])"
   ]
  },
  {
   "cell_type": "code",
<<<<<<< HEAD
   "execution_count": null,
   "id": "d7d5e665",
=======
   "execution_count": 26,
<<<<<<< HEAD
   "id": "c3feeba5",
=======
   "id": "54d02044",
>>>>>>> 72e0f6701e180814c3913ec65820b15d72b05776
>>>>>>> 41664c44e1f62a2c7ab9a383fc8f4fbecba2b9b3
   "metadata": {},
   "outputs": [
    {
     "name": "stdout",
     "output_type": "stream",
     "text": [
      "0\n"
     ]
    }
   ],
   "source": [
    "match_list = automated_puuid(test,puuid_df,api_key)"
   ]
  },
  {
   "cell_type": "code",
<<<<<<< HEAD
   "execution_count": null,
   "id": "f87baa16",
=======
   "execution_count": 27,
<<<<<<< HEAD
   "id": "14b387d4",
=======
   "id": "0053270c",
>>>>>>> 72e0f6701e180814c3913ec65820b15d72b05776
>>>>>>> 41664c44e1f62a2c7ab9a383fc8f4fbecba2b9b3
   "metadata": {},
   "outputs": [],
   "source": [
    "len(list(set(match_list)))"
   ]
  },
  {
   "cell_type": "code",
<<<<<<< HEAD
   "execution_count": null,
   "id": "63f8ce4b",
=======
   "execution_count": 28,
<<<<<<< HEAD
   "id": "0812d067",
=======
   "id": "91dc7bb9",
>>>>>>> 72e0f6701e180814c3913ec65820b15d72b05776
>>>>>>> 41664c44e1f62a2c7ab9a383fc8f4fbecba2b9b3
   "metadata": {},
   "outputs": [],
   "source": [
    "match_list"
   ]
  },
  {
   "cell_type": "code",
   "execution_count": null,
   "id": "fb498d7f",
   "metadata": {},
   "outputs": [],
   "source": [
    "# for Joshua B"
   ]
  },
  {
   "cell_type": "code",
   "execution_count": 30,
   "id": "757ca3cc",
   "metadata": {},
   "outputs": [],
   "source": [
    "df = pd.read_csv('puuid.csv')"
   ]
  },
  {
   "cell_type": "code",
   "execution_count": 33,
   "id": "98c79b4a",
   "metadata": {},
   "outputs": [],
   "source": [
    "puuids = df.puuid"
   ]
  },
  {
   "cell_type": "code",
   "execution_count": 35,
   "id": "fc77d04d",
   "metadata": {},
   "outputs": [],
   "source": [
    "test = puuids[0]"
   ]
  },
  {
   "cell_type": "code",
   "execution_count": null,
   "id": "80aff6cb",
   "metadata": {},
   "outputs": [],
   "source": [
    "#matches = get_match_ids(puuids, api_key)"
   ]
  },
  {
   "cell_type": "code",
   "execution_count": null,
   "id": "beac78dd",
   "metadata": {},
   "outputs": [],
   "source": []
  }
 ],
 "metadata": {
  "kernelspec": {
   "display_name": "Python 3",
   "language": "python",
   "name": "python3"
  },
  "language_info": {
   "codemirror_mode": {
    "name": "ipython",
    "version": 3
   },
   "file_extension": ".py",
   "mimetype": "text/x-python",
   "name": "python",
   "nbconvert_exporter": "python",
   "pygments_lexer": "ipython3",
   "version": "3.8.8"
  }
 },
 "nbformat": 4,
 "nbformat_minor": 5
}
