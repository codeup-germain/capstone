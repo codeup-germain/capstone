{
 "cells": [
  {
   "cell_type": "code",
   "execution_count": 1,
   "id": "adb467f3",
   "metadata": {},
   "outputs": [],
   "source": [
    "import requests\n",
    "import pandas as pd\n",
    "import numpy as np\n",
    "from bs4 import BeautifulSoup\n",
    "from env import api_key\n",
    "import time\n",
    "\n",
    "pd.set_option(\"display.max_rows\", None, \"display.max_columns\", None)\n",
    "\n",
    "pd.reset_option(\"display.max_rows\", \"display.max_columns\")\n",
    "\n",
    "import re\n",
    "from time import sleep"
   ]
  },
  {
   "cell_type": "code",
   "execution_count": 6,
   "id": "0d2f9832",
   "metadata": {},
   "outputs": [],
   "source": [
    "def automated_puuid(name_list,username_df,api_key):\n",
    "    df = get_puuid(name_list,username_df,api_key)\n",
    "    puuid_list = df.puuid\n",
    "    matches = get_match_ids(puuid_list, api_key)\n",
    "    return matches"
   ]
  },
  {
   "cell_type": "code",
   "execution_count": 22,
   "id": "a4fec991",
   "metadata": {},
   "outputs": [],
   "source": [
    "def get_match_ids(puuids, api_key):\n",
    "    \"\"\"\n",
    "    This function takes in a list of puuids and a riot games api key to gather\n",
    "    and return a list of match ids.\n",
    "    \"\"\"\n",
    "    \n",
    "    #Create an empty list to store the match ids\n",
    "    matches = []\n",
    "    \n",
    "    #Set the base url\n",
    "    url = 'https://americas.api.riotgames.com/'\n",
    "    \n",
    "    #Set a counter var\n",
    "    n = 0\n",
    "    \n",
    "    #Create another var to store the length of puuids\n",
    "    num_puuids = len(puuids)\n",
    "    \n",
    "    #Loop through the puuids and gather 100 match ids from each of them\n",
    "    for puuid in puuids:\n",
    "        #Update counter\n",
    "        n += 1\n",
    "        \n",
    "        #Build the query\n",
    "        query = f'lol/match/v5/matches/by-puuid/{puuid}/ids?start=0&count=100&api_key={api_key}'\n",
    "\n",
    "        #Get the response\n",
    "        response = requests.get(url + query)\n",
    "\n",
    "        #Check response and leave a status message\n",
    "        if response.status_code != 200:\n",
    "            print(f'Something went wrong! Status Code {response.status_code} for puuid {puuid}. Skipping this puuid.\\n')\n",
    "            continue\n",
    "\n",
    "        #Unpack the response as json\n",
    "        #This should be a list of match ids\n",
    "        data = response.json()\n",
    "\n",
    "        #Extend the matches list with the data\n",
    "        matches.extend(data)\n",
    "        sleep(180)\n",
    "\n",
    "\n",
    "    #Leave a status message after every 2 iterations (~6 minutes)\n",
    "        if n % 2 == 0:\n",
    "            print(f'Completed {n} of {num_puuids} puuids.')\n",
    "            print(f'Total match IDs gathered: {len(matches)}\\n')\n",
    "\n",
    "    return matches"
   ]
  },
  {
   "cell_type": "code",
   "execution_count": 8,
   "id": "9858006d",
   "metadata": {},
   "outputs": [],
   "source": [
    "def get_puuid(name_list,df,api_key):\n",
    "    counter = 0\n",
    "    for name in name_list:\n",
    "        print(counter)\n",
    "        counter += 1\n",
    "        if counter%50 == 0:\n",
    "            print('function paused')\n",
    "            print\n",
    "            time.sleep(180)\n",
    "            print('Continue')\n",
    "            response = requests.get(f\"https://na1.api.riotgames.com/lol/summoner/v4/summoners/by-name/{name}?api_key={api_key}\")\n",
    "            summoner_info = response.json()\n",
    "            if len(summoner_info) == 7:\n",
    "                info = {'puuid':summoner_info['puuid'],\n",
    "                       'username':summoner_info['name']}\n",
    "                df = df.append(info,ignore_index = True)\n",
    "            else:\n",
    "                print(summoner_info)\n",
    "        else:\n",
    "            response = requests.get(f\"https://na1.api.riotgames.com/lol/summoner/v4/summoners/by-name/{name}?api_key={api_key}\")\n",
    "            summoner_info = response.json()\n",
    "            if len(summoner_info) == 7:\n",
    "                info = {'puuid':summoner_info['puuid'],\n",
    "                       'username':summoner_info['name']}\n",
    "                df = df.append(info,ignore_index = True)\n",
    "            else:\n",
    "                print(summoner_info)\n",
    "    return df"
   ]
  },
  {
   "cell_type": "code",
   "execution_count": 9,
   "id": "331617e0",
   "metadata": {},
   "outputs": [],
   "source": [
    "#IMPORT 2640 players.csv\n",
    "df = pd.read_csv('2640_players.csv')"
   ]
  },
  {
   "cell_type": "code",
   "execution_count": 12,
   "id": "07a81c36",
   "metadata": {},
   "outputs": [],
   "source": [
    "# make the players name column into a series\n",
    "player_list = df.players"
   ]
  },
  {
   "cell_type": "code",
   "execution_count": 13,
   "id": "2330b1a5",
   "metadata": {},
   "outputs": [
    {
     "data": {
      "text/plain": [
       "2641"
      ]
     },
     "execution_count": 13,
     "metadata": {},
     "output_type": "execute_result"
    }
   ],
   "source": [
    "# 1-850 Joshua b\n",
    "# 800-1250 chris e\n",
    "# 1200-1650 johnathon s\n",
    "# 1600-2100 Joshua c\n",
    "# 2050: Jared v\n",
    "# example\n",
    "# new_player_list = player_list[1:500]\n",
    "# then put new_player_list into the automated_puuid(new_player_list,username_df,api_key)\n",
    "len(player_list)"
   ]
  },
  {
   "cell_type": "code",
   "execution_count": 23,
   "id": "3ee4a3cd",
   "metadata": {},
   "outputs": [],
   "source": [
    "test = player_list[1:2]"
   ]
  },
  {
   "cell_type": "code",
   "execution_count": 24,
   "id": "ffd974d2",
   "metadata": {},
   "outputs": [
    {
     "data": {
      "text/plain": [
       "1    Blazze\n",
       "Name: players, dtype: object"
      ]
     },
     "execution_count": 24,
     "metadata": {},
     "output_type": "execute_result"
    }
   ],
   "source": [
    "test"
   ]
  },
  {
   "cell_type": "code",
   "execution_count": 25,
   "id": "619194b5",
   "metadata": {},
   "outputs": [],
   "source": [
    "# make an empty dataframe\n",
    "puuid_df = pd.DataFrame(columns = ['puuid','username'])"
   ]
  },
  {
   "cell_type": "code",
   "execution_count": 26,
   "id": "c3feeba5",
   "metadata": {},
   "outputs": [
    {
     "name": "stdout",
     "output_type": "stream",
     "text": [
      "0\n"
     ]
    }
   ],
   "source": [
    "match_list = automated_puuid(test,puuid_df,api_key)"
   ]
  },
  {
   "cell_type": "code",
   "execution_count": 27,
   "id": "14b387d4",
   "metadata": {},
   "outputs": [
    {
     "data": {
      "text/plain": [
       "100"
      ]
     },
     "execution_count": 27,
     "metadata": {},
     "output_type": "execute_result"
    }
   ],
   "source": [
    "len(list(set(match_list)))"
   ]
  },
  {
   "cell_type": "code",
   "execution_count": 28,
   "id": "0812d067",
   "metadata": {},
   "outputs": [
    {
     "data": {
      "text/plain": [
       "['NA1_4105033788',\n",
       " 'NA1_4104536937',\n",
       " 'NA1_4104008628',\n",
       " 'NA1_4103989184',\n",
       " 'NA1_4103898991',\n",
       " 'NA1_4103835374',\n",
       " 'NA1_4103725650',\n",
       " 'NA1_4103719888',\n",
       " 'NA1_4103702334',\n",
       " 'NA1_4103595715',\n",
       " 'NA1_4103599925',\n",
       " 'NA1_4103516329',\n",
       " 'NA1_4103541008',\n",
       " 'NA1_4103456837',\n",
       " 'NA1_4103483146',\n",
       " 'NA1_4103376569',\n",
       " 'NA1_4103383275',\n",
       " 'NA1_4103410858',\n",
       " 'NA1_4103014909',\n",
       " 'NA1_4102947153',\n",
       " 'NA1_4102901335',\n",
       " 'NA1_4102873782',\n",
       " 'NA1_4102747868',\n",
       " 'NA1_4102718939',\n",
       " 'NA1_4102705124',\n",
       " 'NA1_4102670653',\n",
       " 'NA1_4102653382',\n",
       " 'NA1_4102599033',\n",
       " 'NA1_4102551100',\n",
       " 'NA1_4102464516',\n",
       " 'NA1_4102393174',\n",
       " 'NA1_4102268386',\n",
       " 'NA1_4102313270',\n",
       " 'NA1_4101694927',\n",
       " 'NA1_4101691026',\n",
       " 'NA1_4101619711',\n",
       " 'NA1_4101557891',\n",
       " 'NA1_4101522332',\n",
       " 'NA1_4101415906',\n",
       " 'NA1_4101327198',\n",
       " 'NA1_4101248734',\n",
       " 'NA1_4101232988',\n",
       " 'NA1_4101176590',\n",
       " 'NA1_4101192953',\n",
       " 'NA1_4101131523',\n",
       " 'NA1_4101127451',\n",
       " 'NA1_4101066461',\n",
       " 'NA1_4100701138',\n",
       " 'NA1_4100638188',\n",
       " 'NA1_4100604352',\n",
       " 'NA1_4100558626',\n",
       " 'NA1_4100523852',\n",
       " 'NA1_4100476075',\n",
       " 'NA1_4100429771',\n",
       " 'NA1_4100420395',\n",
       " 'NA1_4100306121',\n",
       " 'NA1_4100340267',\n",
       " 'NA1_4100245821',\n",
       " 'NA1_4100207941',\n",
       " 'NA1_4100138138',\n",
       " 'NA1_4100111959',\n",
       " 'NA1_4100054496',\n",
       " 'NA1_4100013089',\n",
       " 'NA1_4099266872',\n",
       " 'NA1_4099232929',\n",
       " 'NA1_4099115497',\n",
       " 'NA1_4099089301',\n",
       " 'NA1_4099072500',\n",
       " 'NA1_4099006849',\n",
       " 'NA1_4098899585',\n",
       " 'NA1_4098842471',\n",
       " 'NA1_4098766033',\n",
       " 'NA1_4098790121',\n",
       " 'NA1_4098725812',\n",
       " 'NA1_4098656829',\n",
       " 'NA1_4098655104',\n",
       " 'NA1_4098215050',\n",
       " 'NA1_4098189106',\n",
       " 'NA1_4098136494',\n",
       " 'NA1_4098118795',\n",
       " 'NA1_4098053837',\n",
       " 'NA1_4098024644',\n",
       " 'NA1_4097952594',\n",
       " 'NA1_4097780848',\n",
       " 'NA1_4097732285',\n",
       " 'NA1_4097686416',\n",
       " 'NA1_4097639783',\n",
       " 'NA1_4097566910',\n",
       " 'NA1_4097138770',\n",
       " 'NA1_4097104355',\n",
       " 'NA1_4097058147',\n",
       " 'NA1_4097034027',\n",
       " 'NA1_4096975047',\n",
       " 'NA1_4096898696',\n",
       " 'NA1_4096871766',\n",
       " 'NA1_4096660320',\n",
       " 'NA1_4096442452',\n",
       " 'NA1_4096308950',\n",
       " 'NA1_4095575701',\n",
       " 'NA1_4095519576']"
      ]
     },
     "execution_count": 28,
     "metadata": {},
     "output_type": "execute_result"
    }
   ],
   "source": [
    "match_list"
   ]
  },
  {
   "cell_type": "code",
   "execution_count": null,
   "id": "fb498d7f",
   "metadata": {},
   "outputs": [],
   "source": [
    "# for Joshua B"
   ]
  },
  {
   "cell_type": "code",
   "execution_count": 30,
   "id": "757ca3cc",
   "metadata": {},
   "outputs": [],
   "source": [
    "df = pd.read_csv('puuid.csv')"
   ]
  },
  {
   "cell_type": "code",
   "execution_count": 33,
   "id": "98c79b4a",
   "metadata": {},
   "outputs": [],
   "source": [
    "puuids = df.puuid"
   ]
  },
  {
   "cell_type": "code",
   "execution_count": 35,
   "id": "fc77d04d",
   "metadata": {},
   "outputs": [],
   "source": [
    "test = puuids[0]"
   ]
  },
  {
   "cell_type": "code",
   "execution_count": null,
   "id": "80aff6cb",
   "metadata": {},
   "outputs": [],
   "source": [
    "#matches = get_match_ids(puuids, api_key)"
   ]
  },
  {
   "cell_type": "code",
   "execution_count": null,
   "id": "beac78dd",
   "metadata": {},
   "outputs": [],
   "source": []
  }
 ],
 "metadata": {
  "kernelspec": {
   "display_name": "Python 3",
   "language": "python",
   "name": "python3"
  },
  "language_info": {
   "codemirror_mode": {
    "name": "ipython",
    "version": 3
   },
   "file_extension": ".py",
   "mimetype": "text/x-python",
   "name": "python",
   "nbconvert_exporter": "python",
   "pygments_lexer": "ipython3",
   "version": "3.8.8"
  }
 },
 "nbformat": 4,
 "nbformat_minor": 5
}
