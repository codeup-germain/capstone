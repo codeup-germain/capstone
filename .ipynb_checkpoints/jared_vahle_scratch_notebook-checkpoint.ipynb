{
 "cells": [
  {
   "cell_type": "code",
   "execution_count": 3,
   "id": "61748bfe",
   "metadata": {},
   "outputs": [],
   "source": [
    "import requests\n",
    "import pandas as pd\n",
    "from bs4 import BeautifulSoup\n",
    "from env import api_key\n",
    "\n",
    "pd.set_option(\"display.max_rows\", None, \"display.max_columns\", None)\n",
    "\n",
    "pd.reset_option(\"display.max_rows\", \"display.max_columns\")\n",
    "\n",
    "import re"
   ]
  },
  {
   "cell_type": "code",
   "execution_count": 4,
   "id": "3575f64d",
   "metadata": {},
   "outputs": [],
   "source": [
    "response = requests.get(f\"https://na1.api.riotgames.com/lol/summoner/v4/summoners/by-name/battlebud?api_key={api_key}\")"
   ]
  },
  {
   "cell_type": "code",
   "execution_count": 5,
   "id": "1b50c3dc",
   "metadata": {},
   "outputs": [],
   "source": [
    "battlebud = response.json()"
   ]
  },
  {
   "cell_type": "code",
   "execution_count": 6,
   "id": "372f3b42",
   "metadata": {},
   "outputs": [
    {
     "data": {
      "text/plain": [
       "{'id': '6e-QE4j96ITeEUyZccBM3UNqEraggI_6isfjsJaWKkqtkhg',\n",
       " 'accountId': 'lPA4yfwESjv_gJKpMeX4_ds_62L52oz_jKFe3P4YdyuV_A',\n",
       " 'puuid': '8w5OLGrYy-YhUvX08ZD6a4sBvBvZuYTXU6UnfYhC1MBNo8rlV4OEODS9bNrqMBVuWirDBYOeMhWW0Q',\n",
       " 'name': 'Battlebud',\n",
       " 'profileIconId': 4404,\n",
       " 'revisionDate': 1635397171000,\n",
       " 'summonerLevel': 315}"
      ]
     },
     "execution_count": 6,
     "metadata": {},
     "output_type": "execute_result"
    }
   ],
   "source": [
    "battlebud"
   ]
  },
  {
   "cell_type": "code",
   "execution_count": 7,
   "id": "d8cc1475",
   "metadata": {},
   "outputs": [],
   "source": [
    "url = 'https://americas.api.riotgames.com/'\n",
    "\n",
    "query = f'lol/match/v5/matches/by-puuid/r9_mZslFIqwPMNiko362SeuZS7luHTEXapN_F-hpJv15KjtDipl4Z_b-YD2Mu6FvcI85MswOCXhW7A/ids?start=0&count=20&api_key={api_key}'"
   ]
  },
  {
   "cell_type": "code",
   "execution_count": 8,
   "id": "f26e12a5",
   "metadata": {},
   "outputs": [],
   "source": [
    "response = requests.get(url+query)"
   ]
  },
  {
   "cell_type": "code",
   "execution_count": 9,
   "id": "af7d154f",
   "metadata": {},
   "outputs": [],
   "source": [
    "match_ids = response.json()"
   ]
  },
  {
   "cell_type": "code",
   "execution_count": 10,
   "id": "0936283f",
   "metadata": {},
   "outputs": [
    {
     "data": {
      "text/plain": [
       "1"
      ]
     },
     "execution_count": 10,
     "metadata": {},
     "output_type": "execute_result"
    }
   ],
   "source": [
    "len(match_ids)"
   ]
  },
  {
   "cell_type": "code",
   "execution_count": 11,
   "id": "af5569df",
   "metadata": {},
   "outputs": [
    {
     "data": {
      "text/plain": [
       "{'status': {'message': 'Bad Request - Exception decrypting r9_mZslFIqwPMNiko362SeuZS7luHTEXapN_F-hpJv15KjtDipl4Z_b-YD2Mu6FvcI85MswOCXhW7A',\n",
       "  'status_code': 400}}"
      ]
     },
     "execution_count": 11,
     "metadata": {},
     "output_type": "execute_result"
    }
   ],
   "source": [
    "match_ids"
   ]
  },
  {
   "cell_type": "code",
   "execution_count": null,
   "id": "f242d309",
   "metadata": {},
   "outputs": [],
   "source": []
  }
 ],
 "metadata": {
  "kernelspec": {
   "display_name": "Python 3",
   "language": "python",
   "name": "python3"
  },
  "language_info": {
   "codemirror_mode": {
    "name": "ipython",
    "version": 3
   },
   "file_extension": ".py",
   "mimetype": "text/x-python",
   "name": "python",
   "nbconvert_exporter": "python",
   "pygments_lexer": "ipython3",
   "version": "3.8.8"
  }
 },
 "nbformat": 4,
 "nbformat_minor": 5
}
